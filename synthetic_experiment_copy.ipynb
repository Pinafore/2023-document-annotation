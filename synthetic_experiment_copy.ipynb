{
  "cells": [
    {
      "cell_type": "code",
      "execution_count": 2,
      "metadata": {
        "id": "wyNKTGETmOjA"
      },
      "outputs": [],
      "source": [
        "from Topic_Models.topic_model import Topic_Model\n",
        "import pandas as pd\n",
        "from flask_app.classifier import Active_Learning\n",
        "from sklearn.feature_extraction.text import TfidfVectorizer\n",
        "from Topic_Models.Neural_Topic_Model import Neural_Model\n",
        "import pickle\n",
        "from multiprocessing import Process, Manager\n",
        "import copy\n",
        "from scipy.sparse import csr_matrix\n",
        "import numpy as np\n",
        "from scipy.sparse import csr_matrix, hstack"
      ]
    },
    {
      "cell_type": "code",
      "execution_count": 3,
      "metadata": {
        "id": "JjP53OKziWjQ"
      },
      "outputs": [],
      "source": [
        "'''\n",
        "The processed document path and the raw documents path\n",
        "'''\n",
        "\n",
        "doc_dir = './Topic_Models/Data/congressional_bill_train.json'\n",
        "processed_doc_dir = './Topic_Models/Data/congressional_bill_train_processed.pkl'\n",
        "\n",
        "'''\n",
        "Mapping the mode numbers to which model we use\n",
        "LA: active learning baseline\n",
        "'''\n",
        "model_types_map = {0: 'LA' , 1: 'LDA', 2: 'SLDA', 3: 'ETM', 4: 'CTM', 7: 'LLDA', 8: 'PLDA', 9: 'Bertopic', 10: 'SCTM'}\n",
        "\n",
        "'''\n",
        "num_iter: number of iterations to run when updating sLDA model\n",
        "load_data: If use load_data, a trained topic model would be loaded.\n",
        "'''\n",
        "num_iter = 1500\n",
        "load_data = True\n",
        "save_model = False\n",
        "\n",
        "'''\n",
        "Enter the number of topics for the model you just trained\n",
        "'''\n",
        "num_topics =30\n",
        "inference_alg = 'logreg'\n",
        "test_dataset_name = './Topic_Models/Data/congressional_bill_test.json'\n",
        "test_processed_doc_dir = './Topic_Models/Data/congressional_bill_test_processed.pkl'\n",
        "\n",
        "'''\n",
        "Keep those and don't change\n",
        "'''\n",
        "USE_TEST_DATA = True\n",
        "USE_PROCESSED_TEXT = False\n",
        "CONCATENATE_KEYWORDS = True\n",
        "table = pd.read_json(doc_dir)\n",
        "training_length = len(table)\n",
        "REGRESSOR_PREDICT = True\n",
        "mode = 1"
      ]
    },
    {
      "cell_type": "code",
      "execution_count": 4,
      "metadata": {
        "id": "EMZclrQ2iWjR"
      },
      "outputs": [],
      "source": [
        "model = Topic_Model(num_topics, 0, model_types_map[mode], processed_doc_dir, training_length, {}, True, './Topic_Models/Model/{}_{}.pkl'.format(model_types_map[mode], num_topics))\n",
        "# model = Neural_Model('./Model/ETM_{}.pkl'.format(num_topics), processed_doc_dir, doc_dir)"
      ]
    },
    {
      "cell_type": "code",
      "execution_count": 5,
      "metadata": {
        "id": "LiICnhJgiWjR"
      },
      "outputs": [],
      "source": [
        "'''\n",
        "find_doc_for_TA: Given a dictionary, where the keys are topic numbers\n",
        "the values are list of tuples of (document_id, probability), first find\n",
        "the topic that has the maximum median probability, then finds the document\n",
        "within that topic that has the maximum probaiblity\n",
        "'''\n",
        "from flask_app.utils.tools import find_doc_for_TA\n",
        "import numpy as np"
      ]
    },
    {
      "cell_type": "code",
      "execution_count": 6,
      "metadata": {
        "id": "GYRq97hgiWjS"
      },
      "outputs": [],
      "source": [
        "'''\n",
        "The document topic distribution for the topic model\n",
        "'''\n",
        "document_probas = model.document_probas"
      ]
    },
    {
      "cell_type": "code",
      "execution_count": 7,
      "metadata": {
        "colab": {
          "base_uri": "https://localhost:8080/"
        },
        "id": "Jya_y40AiWjS",
        "outputId": "c8f09b36-663b-4b80-b89d-51aea85b7680"
      },
      "outputs": [
        {
          "data": {
            "text/plain": [
              "(8607, 30)"
            ]
          },
          "execution_count": 7,
          "metadata": {},
          "output_type": "execute_result"
        }
      ],
      "source": [
        "'''\n",
        "The result is a N X K matrix. N is the number of\n",
        "documents, K is the number of topics\n",
        "'''\n",
        "np.shape(model.doc_topic_probas)"
      ]
    },
    {
      "cell_type": "code",
      "execution_count": 8,
      "metadata": {
        "id": "j_3ChNZsiWjU"
      },
      "outputs": [],
      "source": [
        "def count_docs(dictionary):\n",
        "    result = 0\n",
        "    for k, v in dictionary.items():\n",
        "        result += len(v)\n",
        "\n",
        "    return result\n",
        "\n",
        "def update_median_prob(topic_num, idx_in_topic, doc_probs):\n",
        "    try:\n",
        "        doc_probs[topic_num].pop(idx_in_topic)\n",
        "    except:\n",
        "          doc_probs.pop(topic_num)\n",
        "\n",
        "def print_topic_lens(dictionary):\n",
        "    for k, v in dictionary.items():\n",
        "        print('topic {} num docs {}'.format(k, len(v)))"
      ]
    },
    {
      "cell_type": "code",
      "execution_count": 9,
      "metadata": {
        "id": "g8UsVc4GiWjU"
      },
      "outputs": [],
      "source": [
        "%%capture\n",
        "print('total num docs', count_docs(document_probas))\n",
        "\n",
        "recommended_docs = []\n",
        "recommended_topics = []\n",
        "# Since the length of the document probas change, np.ones length should also change\n",
        "for i in range(100):\n",
        "    chosen_idx, chosen_topic, chosen_idx_in_topic = find_doc_for_TA(document_probas, np.ones(training_length))\n",
        "    update_median_prob(chosen_topic, chosen_idx_in_topic, document_probas)\n",
        "    # print_topic_lens(document_probas)\n",
        "    print('doc id is ', chosen_idx)\n",
        "    # chosen_topic\n",
        "    recommended_topics.append(chosen_topic)\n",
        "    recommended_docs.append(chosen_idx)"
      ]
    },
    {
      "cell_type": "code",
      "execution_count": 10,
      "metadata": {
        "colab": {
          "base_uri": "https://localhost:8080/"
        },
        "id": "EvYqj9t6iWjV",
        "outputId": "76b86f57-8d52-49be-beb4-80a5038cf28e"
      },
      "outputs": [
        {
          "data": {
            "text/plain": [
              "Counter({1: 14, 18: 37, 23: 38, 26: 11})"
            ]
          },
          "execution_count": 10,
          "metadata": {},
          "output_type": "execute_result"
        }
      ],
      "source": [
        "'''\n",
        "Run a hundred iterations to pick the document that has the maximum median probability in the topic.\n",
        "Check the distribution of topics being picked. This is a good way to check topic diversity first\n",
        "'''\n",
        "\n",
        "from collections import Counter\n",
        "Counter(recommended_topics)"
      ]
    },
    {
      "cell_type": "code",
      "execution_count": 11,
      "metadata": {
        "id": "GGjlV4CGiWjV"
      },
      "outputs": [],
      "source": [
        "import numpy as np\n",
        "def save_results(lst, file_name):\n",
        "    a_obj = np.array(lst, dtype=object)\n",
        "    np.save(file_name, a_obj)"
      ]
    },
    {
      "cell_type": "code",
      "execution_count": 12,
      "metadata": {
        "id": "9yZFwKvfiWjV"
      },
      "outputs": [],
      "source": [
        "'''\n",
        "Active learning baseline to test the metrics of clf without topic modeling\n",
        "'''\n",
        "def calculate_activelearning_diversity(process=False, unigram=False):\n",
        "    accs, purity, ri, nmi = [], [], [], []\n",
        "    test_accs, test_purity, test_ri, test_nmi = [], [], [], []\n",
        "    test_df = pd.read_json(test_dataset_name)\n",
        "    # print('test length is', len(test_df))\n",
        "\n",
        "    '''\n",
        "    Read the documents and the labels\n",
        "    '''\n",
        "    df = pd.read_json(doc_dir)\n",
        "    labels = df.sub_labels.values.tolist()\n",
        "\n",
        "    raw_texts = df.text.values.tolist()[0:training_length]\n",
        "    test_texts = test_df.text.values.tolist()\n",
        "    # raw_texts.extend(test_texts)\n",
        "\n",
        "\n",
        "    '''\n",
        "    Tried to test the performance of unigram and bigrams, the performance of bigram vectorizer is better\n",
        "    '''\n",
        "    if unigram == True:\n",
        "        vectorizer = TfidfVectorizer(stop_words='english', lowercase=True, ngram_range=(1, 1))\n",
        "    else:\n",
        "        vectorizer = TfidfVectorizer(stop_words='english', lowercase=True, ngram_range=(1, 2))\n",
        "    '''\n",
        "    If process is True, load the processed data and use processed data as inputs for the clf\n",
        "    else, just use the raw texts to as input for the clf. Results indicate that using raw texts\n",
        "    has higher performance than using processed data\n",
        "    '''\n",
        "    if not process:\n",
        "        vectorizer_idf = vectorizer.fit_transform(raw_texts)\n",
        "        test_vecorizer = vectorizer.transform(test_texts)\n",
        "    else:\n",
        "        with open(processed_doc_dir, 'rb') as inp:\n",
        "            loaded_train_data = pickle.load(inp)\n",
        "            processed_train_data = loaded_train_data['datawords_nonstop']\n",
        "\n",
        "\n",
        "        text_data = [' '.join(doc) for doc in processed_train_data]\n",
        "        # from sklearn.feature_extraction.text import CountVectorizer\n",
        "        # vectorizer = CountVectorizer(binary=True)\n",
        "        vectorizer_idf = vectorizer.fit_transform(text_data)\n",
        "\n",
        "\n",
        "    '''\n",
        "    Initialize the active learning classifier\n",
        "    '''\n",
        "    alto = Active_Learning(raw_texts, None,  None, df, inference_alg, vectorizer_idf, training_length, 0, test_df, test_vecorizer)\n",
        "\n",
        "    recommended_docs1 = []\n",
        "    recommended_topics1 = []\n",
        "    scores = []\n",
        "\n",
        "    '''\n",
        "    Label 300 hundred documents and save the three metrics\n",
        "    '''\n",
        "    for i in range(len(df)):\n",
        "        '''\n",
        "        Get the recommended document id and the score (entropy) for the current document\n",
        "        '''\n",
        "        recommend_id, score = alto.recommend_document(True)\n",
        "\n",
        "        alto.label(recommend_id, labels[recommend_id])\n",
        "        recommended_docs1.append(recommend_id)\n",
        "        recommended_topics1.append(alto.last_recommended_topic)\n",
        "        scores.append(score)\n",
        "        # print(raw_texts[recommend_id])\n",
        "\n",
        "        '''\n",
        "        clf only works for at least 2 distinct classes\n",
        "        '''\n",
        "        if len(alto.classes) >= 3:\n",
        "            train_acc, b, p, r, n, e, f, g = alto.eval_classifier()\n",
        "            accs.append(train_acc)\n",
        "            purity.append(p)\n",
        "            ri.append(r)\n",
        "            nmi.append(n)\n",
        "            test_accs.append(b)\n",
        "            test_purity.append(e)\n",
        "            test_ri.append(f)\n",
        "            test_nmi.append(g)\n",
        "\n",
        "    return accs, purity, ri, nmi, test_accs, test_purity, test_ri , test_nmi"
      ]
    },
    {
      "cell_type": "code",
      "execution_count": 13,
      "metadata": {
        "id": "Q1CiBp0HiWjW"
      },
      "outputs": [],
      "source": [
        "'''\n",
        "Evaluate the performance of activalearning clf with topic model features added to the clf\n",
        "'''\n",
        "def calculate_topic_diversity(module, concat, topic_features_only, Model=None):\n",
        "    model_topics = []\n",
        "    accs, purity, ri, nmi = [], [], [], []\n",
        "    test_accs, test_purity, test_ri, test_nmi = [], [], [], []\n",
        "    test_df = pd.read_json(test_dataset_name)\n",
        "    # print('test length is', len(test_df))\n",
        "\n",
        "    if Model is None:\n",
        "        if module == 3:\n",
        "            model = Neural_Model('./Topic_Models/Model/ETM_{}.pkl'.format(num_topics), processed_doc_dir, doc_dir)\n",
        "        elif module == 4:\n",
        "            model = Neural_Model('./Topic_Models/Model/CTM_{}.pkl'.format(num_topics), processed_doc_dir, doc_dir)\n",
        "        elif module == 9:\n",
        "            model = Neural_Model('./Topic_Models/Model/Bertopic_{}.pkl'.format(num_topics), processed_doc_dir, doc_dir)\n",
        "        elif module == 10:\n",
        "            model = Neural_Model('./Topic_Models/Model/SCTM_{}.pkl'.format(num_topics), processed_doc_dir, doc_dir)\n",
        "        else:\n",
        "            model = Topic_Model(num_topics, 0, model_types_map[module], processed_doc_dir, training_length, {}, True, './Topic_Models/Model/{}_{}.pkl'.format(model_types_map[module], num_topics))\n",
        "    else:\n",
        "        '''\n",
        "        If no module is selected, then use the Model passed in in the parameter\n",
        "        '''\n",
        "        model = Model\n",
        "\n",
        "    '''\n",
        "    Read texts, construct a text encoding for the clf\n",
        "    '''\n",
        "    df = pd.read_json(doc_dir)\n",
        "    labels = df.sub_labels.values.tolist()\n",
        "    raw_texts = df.text.values.tolist()[0:training_length]\n",
        "    document_probas, doc_topic_probas = model.group_docs_to_topics()\n",
        "    vectorizer = TfidfVectorizer(stop_words='english', lowercase=True, ngram_range=(1,1))\n",
        "    test_texts = test_df.text.values.tolist()\n",
        "\n",
        "    with open(test_processed_doc_dir, 'rb') as inp:\n",
        "        loaded_test_data = pickle.load(inp)\n",
        "        test_processed_data = loaded_test_data['datawords_nonstop']\n",
        "\n",
        "    '''\n",
        "    If concatenation is true, concatenate the topic distribution with the text features\n",
        "    '''\n",
        "    if concat == True:\n",
        "        if topic_features_only == True:\n",
        "            vectorizer_idf = csr_matrix(model.doc_topic_probas).astype(np.float64)\n",
        "        else:\n",
        "            vectorizer_idf = vectorizer.fit_transform(raw_texts)\n",
        "\n",
        "            '''\n",
        "            concatenate the features from topic model with the clf\n",
        "            '''\n",
        "            concatenated_features = model.concatenate_features(model.doc_topic_probas, vectorizer_idf)\n",
        "\n",
        "            vectorizer_idf = concatenated_features\n",
        "\n",
        "        # test_vectorizer = vectorizer.transform(test_texts)\n",
        "\n",
        "\n",
        "\n",
        "        # test_document_prob_dist = model.predict_topic_distribution_unseen_doc(test_processed_data)\n",
        "        \n",
        "        # test_vecotizer_concatenated_features = model.concatenate_features(test_document_prob_dist, test_vectorizer)\n",
        "\n",
        "        # test_vecotizer_concatenated_features = csr_matrix(test_document_prob_dist).astype(np.float64)\n",
        "        \n",
        "        test_vecotizer_concatenated_features = None\n",
        "    else:\n",
        "        model_concate_texts = raw_texts\n",
        "        vectorizer_idf = vectorizer.fit_transform(model_concate_texts)\n",
        "\n",
        "\n",
        "\n",
        "    alto = Active_Learning(raw_texts, copy.deepcopy(document_probas), doc_topic_probas, df, inference_alg, vectorizer_idf, training_length, 1, test_df, test_vecotizer_concatenated_features)\n",
        "\n",
        "    print('start synthetic labeling')\n",
        "    recommended_docs1 = []\n",
        "    recommended_topics1 = []\n",
        "    scores = []\n",
        "\n",
        "    '''\n",
        "    Label 300 documents\n",
        "    '''\n",
        "\n",
        "    if module != 2:\n",
        "        iter_length = len(df)\n",
        "    else:\n",
        "        iter_length = 700\n",
        "    for i in range(iter_length):\n",
        "        recommend_id, score = alto.recommend_document(True)\n",
        "\n",
        "\n",
        "\n",
        "        alto.label(recommend_id, labels[recommend_id])\n",
        "        recommended_docs1.append(recommend_id)\n",
        "        recommended_topics1.append(alto.last_recommended_topic)\n",
        "        scores.append(score)\n",
        "        # print(raw_texts[recommend_id])\n",
        "        # print(alto.user_labels)\n",
        "        if len(alto.classes) >= 3:\n",
        "            train_acc, b, p, r, n, e, f, g = alto.eval_classifier()\n",
        "            accs.append(train_acc)\n",
        "            purity.append(p)\n",
        "            ri.append(r)\n",
        "            nmi.append(n)\n",
        "            test_accs.append(b)\n",
        "            test_purity.append(e)\n",
        "            test_ri.append(f)\n",
        "            test_nmi.append(g)\n",
        "\n",
        "        '''\n",
        "        Update and retrain supervised LDA based on available labels. set i%N == 0, where N\n",
        "        is the number of documents you labled before you want to update sLDA\n",
        "        '''\n",
        "        if module == 2 and i != 0 and i % 20 == 0:\n",
        "            pred_labels = alto.classifier.predict(alto.text_vectorizer)\n",
        "            user_labels = {i:pred_labels[i] for i in range(len(pred_labels))}\n",
        "            model = Topic_Model(num_topics, num_iter, model_types_map[module], processed_doc_dir, training_length, user_labels, False, None)\n",
        "            model.train('./Topic_Models/Model/SLDA_test.pkl')\n",
        "            model = Topic_Model(num_topics, 0, model_types_map[module], processed_doc_dir, training_length, {}, True, './Topic_Models//Model/SLDA_test.pkl')\n",
        "            document_probas, doc_topic_probas = model.group_docs_to_topics()\n",
        "            alto.update_doc_probs(copy.deepcopy(document_probas), doc_topic_probas)\n",
        "            vectorizer_idf = vectorizer.fit_transform(raw_texts)\n",
        "            '''\n",
        "            concatenate the features from topic model with the classifier\n",
        "            '''\n",
        "            # concatenated_features = model.concatenate_features(vectorizer_idf)\n",
        "            concatenated_features = model.concatenate_features(model.doc_topic_probas, vectorizer_idf)\n",
        "            \n",
        "\n",
        "\n",
        "            vectorizer_idf = concatenated_features\n",
        "            alto.update_text_vectorizer(vectorizer_idf)\n",
        "            \n",
        "\n",
        "\n",
        "    return recommended_topics1, accs, purity, ri, nmi, test_accs, test_purity, test_ri , test_nmi"
      ]
    },
    {
      "cell_type": "code",
      "execution_count": 14,
      "metadata": {},
      "outputs": [],
      "source": [
        "'''\n",
        "Given a matrix, make its rows consistent length\n",
        "'''\n",
        "def make_consistent_rows(matrix):\n",
        "    # Find the length of the shortest row\n",
        "    min_length = min(len(row) for row in matrix)\n",
        "\n",
        "    # Trim each row to the length of the shortest row\n",
        "    a_uniform = [row[-min_length:] for row in matrix]\n",
        "    a_np = np.array(a_uniform)\n",
        "    return a_np"
      ]
    },
    {
      "cell_type": "code",
      "execution_count": 15,
      "metadata": {
        "id": "5YVkalHyqy6U"
      },
      "outputs": [],
      "source": [
        "def run_experiment_and_save(module, save_path, topic_features_only=True):\n",
        "  '''\n",
        "  module: model_types_map = {0: 'LA' , 1: 'LDA', 2: 'SLDA', 3: 'ETM', 4: 'CTM', 7: 'LLDA', 8: 'PLDA', 9: 'Bertopic'}\n",
        "  Enter the module number to run the the model\n",
        "  '''\n",
        "\n",
        "  if module == 0:\n",
        "    start_time = time.time()\n",
        "    a0, p0, r0, n0, ta0, tp0, tr0, tn0 = calculate_activelearning_diversity(False, True)\n",
        "    end_time = time.time()\n",
        "    result_lst = [a0, p0, r0, n0, ta0, tp0, tr0, tn0, [[end_time-start_time]]]\n",
        "    save_results(result_lst, save_path)\n",
        "  else:\n",
        "    start_time = time.time()\n",
        "    recommended_topics1, a1, p1, r1, n1, ta1, tp1, tr1, tn1 = calculate_topic_diversity(module, True, topic_features_only)\n",
        "    end_time = time.time()\n",
        "    result_lst = [a1, p1, r1, n1, ta1, tp1, tr1, tn1, [[end_time-start_time]]]\n",
        "    print('purity list length is ', len(p1))\n",
        "    save_results(result_lst, save_path)\n"
      ]
    },
    {
      "cell_type": "code",
      "execution_count": 17,
      "metadata": {},
      "outputs": [],
      "source": [
        "'''\n",
        "Run the experiment over n runs then take the medium of each run to \n",
        "save\n",
        "'''\n",
        "import time\n",
        "def run_experiment_over_n_runs(module, save_path, n_runs, topic_features_only=True):\n",
        "     a, p, r, n, ta, tp, tr, tn = [], [], [], [], [], [], [], []\n",
        "\n",
        "     running_time = []\n",
        "     if module == 0:\n",
        "          for i in range(n_runs):\n",
        "               start_time = time.time()\n",
        "               a0, p0, r0, n0, ta0, tp0, tr0, tn0 = calculate_activelearning_diversity(False, True)\n",
        "               end_time = time.time()\n",
        "               a.append(a0)\n",
        "               p.append(p0)\n",
        "               r.append(r0)\n",
        "               n.append(n0)\n",
        "               ta.append(ta0)\n",
        "               tp.append(tp0)\n",
        "               tr.append(tr0)\n",
        "               tn.append(tn0)\n",
        "               running_time.append(end_time-start_time)\n",
        "     else:\n",
        "          for i in range(n_runs):\n",
        "               start_time = time.time()\n",
        "               recommended_topics1, a1, p1, r1, n1, ta1, tp1, tr1, tn1 = calculate_topic_diversity(module, True, topic_features_only)\n",
        "               end_time = time.time()\n",
        "\n",
        "               a.append(a1)\n",
        "               p.append(p1)\n",
        "               r.append(r1)\n",
        "               n.append(n1)\n",
        "               ta.append(ta1)\n",
        "               tp.append(tp1)\n",
        "               tr.append(tr1)\n",
        "               tn.append(tn1)\n",
        "               running_time.append(end_time-start_time)\n",
        "\n",
        "     a = make_consistent_rows(a)\n",
        "     p = make_consistent_rows(p)\n",
        "     r = make_consistent_rows(r)\n",
        "     n = make_consistent_rows(n)\n",
        "     ta = make_consistent_rows(ta)\n",
        "     tp = make_consistent_rows(tp)\n",
        "     tr = make_consistent_rows(tr)\n",
        "     tn = make_consistent_rows(tn)\n",
        "\n",
        "     result_lst = [a, p, r, n, ta, tp, tr, tn, [running_time]]\n",
        "     save_results(result_lst, save_path)"
      ]
    },
    {
      "cell_type": "code",
      "execution_count": 27,
      "metadata": {},
      "outputs": [],
      "source": [
        "%%capture\n",
        "'''\n",
        "Run the baseline experiment. The saved results can be plotted in the new_mode_plot.ipynb notebook\n",
        "'''\n",
        "run_experiment_and_save(0, './model_testing_results/congressional_bills/baseline_train_docs_regularized_one_run.npy')\n",
        "# run_experiment_over_n_runs(0, './model_testing_results/regularized_log_testing/baseline_test_docs_regularized_5_runs.npy', 5, False)"
      ]
    },
    {
      "cell_type": "code",
      "execution_count": 28,
      "metadata": {
        "id": "8ZFcdJMaiWjW"
      },
      "outputs": [],
      "source": [
        "%%capture\n",
        "'''\n",
        "Run the LDA experiment. The saved results can be plotted in the new_mode_plot.ipynb notebook\n",
        "'''\n",
        "run_experiment_and_save(1, './model_testing_results/congressional_bills/30_topics_LDA_train_docs_regularized_one_run.npy', False)\n",
        "# run_experiment_over_n_runs(1, './model_testing_results/regularized_log_testing/16_topics_LDA_test_docs_regularized_5_runs.npy', 5, False)"
      ]
    },
    {
      "cell_type": "code",
      "execution_count": 16,
      "metadata": {
        "id": "aNPe5qOjiWjW"
      },
      "outputs": [],
      "source": [
        "%%capture\n",
        "'''\n",
        "Run the sLDA experiment\n",
        "'''\n",
        "# run_experiment_and_save(2, './model_testing_results/16_topics_SLDA_test_docs_update_regularized_one_run.npy', False)\n",
        "run_experiment_over_n_runs(2, './model_testing_results/regularized_log_testing/16_topics_SLDA_test_docs_regularized_5_runs.npy', 5, False)"
      ]
    },
    {
      "cell_type": "code",
      "execution_count": null,
      "metadata": {},
      "outputs": [],
      "source": [
        "%%capture\n",
        "'''\n",
        "Run the CTM experiment\n",
        "'''\n",
        "# run_experiment_and_save(4, './model_testing_results/16_topics_SLDA_test_docs_update_regularized_5_runs.npy', False)\n",
        "run_experiment_over_n_runs(4, './model_testing_results/regularized_log_testing/16_topics_CTM_test_docs_regularized_5_runs.npy', 5, False)"
      ]
    },
    {
      "cell_type": "code",
      "execution_count": 37,
      "metadata": {},
      "outputs": [],
      "source": [
        "%%capture\n",
        "'''\n",
        "Run the CTM experiment\n",
        "'''\n",
        "run_experiment_and_save(10, './model_testing_results/16_topics_SCTM_test_docs_regularized_one_run.npy', False)\n",
        "# run_experiment_over_n_runs(4, './model_testing_results/CTM_500_docs_5_runs_16topics.npy', 5)"
      ]
    },
    {
      "cell_type": "code",
      "execution_count": 28,
      "metadata": {
        "id": "KfErMKc7iWjX"
      },
      "outputs": [
        {
          "ename": "FileNotFoundError",
          "evalue": "[Errno 2] No such file or directory: './Topic_Models/Model/ETM_16.pkl'",
          "output_type": "error",
          "traceback": [
            "\u001b[0;31m---------------------------------------------------------------------------\u001b[0m",
            "\u001b[0;31mFileNotFoundError\u001b[0m                         Traceback (most recent call last)",
            "Cell \u001b[0;32mIn[28], line 4\u001b[0m\n\u001b[1;32m      1\u001b[0m \u001b[39m'''\u001b[39;00m\n\u001b[1;32m      2\u001b[0m \u001b[39mRun the ETM experiment\u001b[39;00m\n\u001b[1;32m      3\u001b[0m \u001b[39m'''\u001b[39;00m\n\u001b[0;32m----> 4\u001b[0m run_experiment_and_save(\u001b[39m3\u001b[39;49m, \u001b[39m'\u001b[39;49m\u001b[39m./model_testing_results/16_topics_ETM.npy\u001b[39;49m\u001b[39m'\u001b[39;49m)\n",
            "Cell \u001b[0;32mIn[24], line 12\u001b[0m, in \u001b[0;36mrun_experiment_and_save\u001b[0;34m(module, save_path)\u001b[0m\n\u001b[1;32m     10\u001b[0m   save_results(result_lst, save_path)\n\u001b[1;32m     11\u001b[0m \u001b[39melse\u001b[39;00m:\n\u001b[0;32m---> 12\u001b[0m   recommended_topics1, a1, p1, r1, n1, ta1, tp1, tr1, tn1 \u001b[39m=\u001b[39m calculate_topic_diversity(module, \u001b[39mTrue\u001b[39;49;00m)\n\u001b[1;32m     13\u001b[0m   result_lst \u001b[39m=\u001b[39m [a1, p1, r1, n1, ta1, tp1, tr1, tn1]\n\u001b[1;32m     14\u001b[0m   \u001b[39mprint\u001b[39m(\u001b[39m'\u001b[39m\u001b[39mpurity list length is \u001b[39m\u001b[39m'\u001b[39m, \u001b[39mlen\u001b[39m(p1))\n",
            "Cell \u001b[0;32mIn[19], line 13\u001b[0m, in \u001b[0;36mcalculate_topic_diversity\u001b[0;34m(module, concat, Model)\u001b[0m\n\u001b[1;32m     11\u001b[0m \u001b[39mif\u001b[39;00m Model \u001b[39mis\u001b[39;00m \u001b[39mNone\u001b[39;00m:\n\u001b[1;32m     12\u001b[0m     \u001b[39mif\u001b[39;00m module \u001b[39m==\u001b[39m \u001b[39m3\u001b[39m:\n\u001b[0;32m---> 13\u001b[0m         model \u001b[39m=\u001b[39m Neural_Model(\u001b[39m'\u001b[39;49m\u001b[39m./Topic_Models/Model/ETM_\u001b[39;49m\u001b[39m{}\u001b[39;49;00m\u001b[39m.pkl\u001b[39;49m\u001b[39m'\u001b[39;49m\u001b[39m.\u001b[39;49mformat(num_topics), processed_doc_dir, doc_dir)\n\u001b[1;32m     14\u001b[0m     \u001b[39melif\u001b[39;00m module \u001b[39m==\u001b[39m \u001b[39m4\u001b[39m:\n\u001b[1;32m     15\u001b[0m         model \u001b[39m=\u001b[39m Neural_Model(\u001b[39m'\u001b[39m\u001b[39m./Topic_Models/Model/CTM_\u001b[39m\u001b[39m{}\u001b[39;00m\u001b[39m.pkl\u001b[39m\u001b[39m'\u001b[39m\u001b[39m.\u001b[39mformat(num_topics), processed_doc_dir, doc_dir)\n",
            "File \u001b[0;32m/srv/www/active-topic-modeling/cleaned_up_code/2023-document-annotation/Topic_Models/Neural_Topic_Model.py:10\u001b[0m, in \u001b[0;36mNeural_Model.__init__\u001b[0;34m(self, model_path, data_path, dataset_dir)\u001b[0m\n\u001b[1;32m      9\u001b[0m \u001b[39mdef\u001b[39;00m \u001b[39m__init__\u001b[39m(\u001b[39mself\u001b[39m, model_path, data_path, dataset_dir):\n\u001b[0;32m---> 10\u001b[0m     \u001b[39mwith\u001b[39;00m \u001b[39mopen\u001b[39;49m(model_path, \u001b[39m'\u001b[39;49m\u001b[39mrb\u001b[39;49m\u001b[39m'\u001b[39;49m) \u001b[39mas\u001b[39;00m inp:\n\u001b[1;32m     11\u001b[0m         \u001b[39mself\u001b[39m\u001b[39m.\u001b[39mloaded_data \u001b[39m=\u001b[39m pickle\u001b[39m.\u001b[39mload(inp)\n\u001b[1;32m     13\u001b[0m     \u001b[39m# self.model = self.loaded_data['model']\u001b[39;00m\n",
            "\u001b[0;31mFileNotFoundError\u001b[0m: [Errno 2] No such file or directory: './Topic_Models/Model/ETM_16.pkl'"
          ]
        }
      ],
      "source": [
        "%%capture\n",
        "'''\n",
        "Run the ETM experiment\n",
        "'''\n",
        "run_experiment_and_save(3, './model_testing_results/16_topics_ETM.npy')"
      ]
    },
    {
      "cell_type": "code",
      "execution_count": 17,
      "metadata": {
        "id": "19bGqP7riWjX",
        "outputId": "3d024c5a-9e3d-49c3-ee9c-e77a40f2152e"
      },
      "outputs": [],
      "source": [
        "%%capture\n",
        "'''\n",
        "Run the CTM experiment\n",
        "'''\n",
        "run_experiment_and_save(4, './model_testing_results/50_topics_CTM_topic_features_only.npy')"
      ]
    },
    {
      "cell_type": "code",
      "execution_count": 30,
      "metadata": {
        "id": "HID7T6B2iWjX"
      },
      "outputs": [
        {
          "ename": "KeyboardInterrupt",
          "evalue": "",
          "output_type": "error",
          "traceback": [
            "\u001b[0;31m---------------------------------------------------------------------------\u001b[0m",
            "\u001b[0;31mKeyboardInterrupt\u001b[0m                         Traceback (most recent call last)",
            "Cell \u001b[0;32mIn[30], line 4\u001b[0m\n\u001b[1;32m      1\u001b[0m \u001b[39m'''\u001b[39;00m\n\u001b[1;32m      2\u001b[0m \u001b[39mRun the PLDA experiment\u001b[39;00m\n\u001b[1;32m      3\u001b[0m \u001b[39m'''\u001b[39;00m\n\u001b[0;32m----> 4\u001b[0m run_experiment_and_save(\u001b[39m8\u001b[39;49m, \u001b[39m'\u001b[39;49m\u001b[39m./model_testing_results/16_topics_PLDA.npy\u001b[39;49m\u001b[39m'\u001b[39;49m)\n",
            "Cell \u001b[0;32mIn[24], line 12\u001b[0m, in \u001b[0;36mrun_experiment_and_save\u001b[0;34m(module, save_path)\u001b[0m\n\u001b[1;32m     10\u001b[0m   save_results(result_lst, save_path)\n\u001b[1;32m     11\u001b[0m \u001b[39melse\u001b[39;00m:\n\u001b[0;32m---> 12\u001b[0m   recommended_topics1, a1, p1, r1, n1, ta1, tp1, tr1, tn1 \u001b[39m=\u001b[39m calculate_topic_diversity(module, \u001b[39mTrue\u001b[39;49;00m)\n\u001b[1;32m     13\u001b[0m   result_lst \u001b[39m=\u001b[39m [a1, p1, r1, n1, ta1, tp1, tr1, tn1]\n\u001b[1;32m     14\u001b[0m   \u001b[39mprint\u001b[39m(\u001b[39m'\u001b[39m\u001b[39mpurity list length is \u001b[39m\u001b[39m'\u001b[39m, \u001b[39mlen\u001b[39m(p1))\n",
            "Cell \u001b[0;32mIn[19], line 41\u001b[0m, in \u001b[0;36mcalculate_topic_diversity\u001b[0;34m(module, concat, Model)\u001b[0m\n\u001b[1;32m     36\u001b[0m \u001b[39m\u001b[39m\u001b[39m'''\u001b[39;00m\n\u001b[1;32m     37\u001b[0m \u001b[39mIf concatenation is true, concatenate the topic distribution with the text features\u001b[39;00m\n\u001b[1;32m     38\u001b[0m \u001b[39m'''\u001b[39;00m\n\u001b[1;32m     39\u001b[0m \u001b[39mif\u001b[39;00m concat \u001b[39m==\u001b[39m \u001b[39mTrue\u001b[39;00m:\n\u001b[0;32m---> 41\u001b[0m     vectorizer_idf \u001b[39m=\u001b[39m vectorizer\u001b[39m.\u001b[39;49mfit_transform(raw_texts)\n\u001b[1;32m     43\u001b[0m \u001b[39m    \u001b[39m\u001b[39m'''\u001b[39;00m\n\u001b[1;32m     44\u001b[0m \u001b[39m    concatenate the features from topic model with the clf\u001b[39;00m\n\u001b[1;32m     45\u001b[0m \u001b[39m    '''\u001b[39;00m\n\u001b[1;32m     46\u001b[0m     concatenated_features \u001b[39m=\u001b[39m model\u001b[39m.\u001b[39mconcatenate_features(vectorizer_idf)\n",
            "File \u001b[0;32m~/micromamba/envs/user_study/lib/python3.9/site-packages/sklearn/feature_extraction/text.py:2133\u001b[0m, in \u001b[0;36mTfidfVectorizer.fit_transform\u001b[0;34m(self, raw_documents, y)\u001b[0m\n\u001b[1;32m   2126\u001b[0m \u001b[39mself\u001b[39m\u001b[39m.\u001b[39m_check_params()\n\u001b[1;32m   2127\u001b[0m \u001b[39mself\u001b[39m\u001b[39m.\u001b[39m_tfidf \u001b[39m=\u001b[39m TfidfTransformer(\n\u001b[1;32m   2128\u001b[0m     norm\u001b[39m=\u001b[39m\u001b[39mself\u001b[39m\u001b[39m.\u001b[39mnorm,\n\u001b[1;32m   2129\u001b[0m     use_idf\u001b[39m=\u001b[39m\u001b[39mself\u001b[39m\u001b[39m.\u001b[39muse_idf,\n\u001b[1;32m   2130\u001b[0m     smooth_idf\u001b[39m=\u001b[39m\u001b[39mself\u001b[39m\u001b[39m.\u001b[39msmooth_idf,\n\u001b[1;32m   2131\u001b[0m     sublinear_tf\u001b[39m=\u001b[39m\u001b[39mself\u001b[39m\u001b[39m.\u001b[39msublinear_tf,\n\u001b[1;32m   2132\u001b[0m )\n\u001b[0;32m-> 2133\u001b[0m X \u001b[39m=\u001b[39m \u001b[39msuper\u001b[39;49m()\u001b[39m.\u001b[39;49mfit_transform(raw_documents)\n\u001b[1;32m   2134\u001b[0m \u001b[39mself\u001b[39m\u001b[39m.\u001b[39m_tfidf\u001b[39m.\u001b[39mfit(X)\n\u001b[1;32m   2135\u001b[0m \u001b[39m# X is already a transformed view of raw_documents so\u001b[39;00m\n\u001b[1;32m   2136\u001b[0m \u001b[39m# we set copy to False\u001b[39;00m\n",
            "File \u001b[0;32m~/micromamba/envs/user_study/lib/python3.9/site-packages/sklearn/feature_extraction/text.py:1388\u001b[0m, in \u001b[0;36mCountVectorizer.fit_transform\u001b[0;34m(self, raw_documents, y)\u001b[0m\n\u001b[1;32m   1380\u001b[0m             warnings\u001b[39m.\u001b[39mwarn(\n\u001b[1;32m   1381\u001b[0m                 \u001b[39m\"\u001b[39m\u001b[39mUpper case characters found in\u001b[39m\u001b[39m\"\u001b[39m\n\u001b[1;32m   1382\u001b[0m                 \u001b[39m\"\u001b[39m\u001b[39m vocabulary while \u001b[39m\u001b[39m'\u001b[39m\u001b[39mlowercase\u001b[39m\u001b[39m'\u001b[39m\u001b[39m\"\u001b[39m\n\u001b[1;32m   1383\u001b[0m                 \u001b[39m\"\u001b[39m\u001b[39m is True. These entries will not\u001b[39m\u001b[39m\"\u001b[39m\n\u001b[1;32m   1384\u001b[0m                 \u001b[39m\"\u001b[39m\u001b[39m be matched with any documents\u001b[39m\u001b[39m\"\u001b[39m\n\u001b[1;32m   1385\u001b[0m             )\n\u001b[1;32m   1386\u001b[0m             \u001b[39mbreak\u001b[39;00m\n\u001b[0;32m-> 1388\u001b[0m vocabulary, X \u001b[39m=\u001b[39m \u001b[39mself\u001b[39;49m\u001b[39m.\u001b[39;49m_count_vocab(raw_documents, \u001b[39mself\u001b[39;49m\u001b[39m.\u001b[39;49mfixed_vocabulary_)\n\u001b[1;32m   1390\u001b[0m \u001b[39mif\u001b[39;00m \u001b[39mself\u001b[39m\u001b[39m.\u001b[39mbinary:\n\u001b[1;32m   1391\u001b[0m     X\u001b[39m.\u001b[39mdata\u001b[39m.\u001b[39mfill(\u001b[39m1\u001b[39m)\n",
            "File \u001b[0;32m~/micromamba/envs/user_study/lib/python3.9/site-packages/sklearn/feature_extraction/text.py:1275\u001b[0m, in \u001b[0;36mCountVectorizer._count_vocab\u001b[0;34m(self, raw_documents, fixed_vocab)\u001b[0m\n\u001b[1;32m   1273\u001b[0m \u001b[39mfor\u001b[39;00m doc \u001b[39min\u001b[39;00m raw_documents:\n\u001b[1;32m   1274\u001b[0m     feature_counter \u001b[39m=\u001b[39m {}\n\u001b[0;32m-> 1275\u001b[0m     \u001b[39mfor\u001b[39;00m feature \u001b[39min\u001b[39;00m analyze(doc):\n\u001b[1;32m   1276\u001b[0m         \u001b[39mtry\u001b[39;00m:\n\u001b[1;32m   1277\u001b[0m             feature_idx \u001b[39m=\u001b[39m vocabulary[feature]\n",
            "File \u001b[0;32m~/micromamba/envs/user_study/lib/python3.9/site-packages/sklearn/feature_extraction/text.py:113\u001b[0m, in \u001b[0;36m_analyze\u001b[0;34m(doc, analyzer, tokenizer, ngrams, preprocessor, decoder, stop_words)\u001b[0m\n\u001b[1;32m    111\u001b[0m     doc \u001b[39m=\u001b[39m preprocessor(doc)\n\u001b[1;32m    112\u001b[0m \u001b[39mif\u001b[39;00m tokenizer \u001b[39mis\u001b[39;00m \u001b[39mnot\u001b[39;00m \u001b[39mNone\u001b[39;00m:\n\u001b[0;32m--> 113\u001b[0m     doc \u001b[39m=\u001b[39m tokenizer(doc)\n\u001b[1;32m    114\u001b[0m \u001b[39mif\u001b[39;00m ngrams \u001b[39mis\u001b[39;00m \u001b[39mnot\u001b[39;00m \u001b[39mNone\u001b[39;00m:\n\u001b[1;32m    115\u001b[0m     \u001b[39mif\u001b[39;00m stop_words \u001b[39mis\u001b[39;00m \u001b[39mnot\u001b[39;00m \u001b[39mNone\u001b[39;00m:\n",
            "\u001b[0;31mKeyboardInterrupt\u001b[0m: "
          ]
        }
      ],
      "source": [
        "%%capture\n",
        "'''\n",
        "Run the PLDA experiment\n",
        "'''\n",
        "run_experiment_and_save(8, './model_testing_results/16_topics_PLDA.npy')"
      ]
    },
    {
      "cell_type": "code",
      "execution_count": 21,
      "metadata": {
        "id": "W4KAyiYWiWjX"
      },
      "outputs": [],
      "source": [
        "%%capture\n",
        "'''\n",
        "Run the Bertopic experiment\n",
        "'''\n",
        "run_experiment_and_save(9, './model_testing_results/50_topics_BERTOPIC_topic_features_only.npy')"
      ]
    },
    {
      "cell_type": "markdown",
      "metadata": {
        "id": "SRh-J1QaiWjY"
      },
      "source": [
        "### Fetch word priors from the topic model. Possibly can be used as features for the classifier"
      ]
    },
    {
      "cell_type": "code",
      "execution_count": null,
      "metadata": {
        "colab": {
          "base_uri": "https://localhost:8080/",
          "height": 384
        },
        "id": "TNoXdomFiWja",
        "outputId": "bd2093d8-e7ce-40c6-c896-6b640f82c30f"
      },
      "outputs": [
        {
          "ename": "ModuleNotFoundError",
          "evalue": "ignored",
          "output_type": "error",
          "traceback": [
            "\u001b[0;31m---------------------------------------------------------------------------\u001b[0m",
            "\u001b[0;31mModuleNotFoundError\u001b[0m                       Traceback (most recent call last)",
            "\u001b[0;32m<ipython-input-35-2f313cf3c15b>\u001b[0m in \u001b[0;36m<cell line: 1>\u001b[0;34m()\u001b[0m\n\u001b[0;32m----> 1\u001b[0;31m \u001b[0;32mfrom\u001b[0m \u001b[0mtopic_model\u001b[0m \u001b[0;32mimport\u001b[0m \u001b[0mTopic_Model\u001b[0m\u001b[0;34m\u001b[0m\u001b[0;34m\u001b[0m\u001b[0m\n\u001b[0m\u001b[1;32m      2\u001b[0m \u001b[0mfull_len\u001b[0m \u001b[0;34m=\u001b[0m \u001b[0mlen\u001b[0m\u001b[0;34m(\u001b[0m\u001b[0mpd\u001b[0m\u001b[0;34m.\u001b[0m\u001b[0mread_json\u001b[0m\u001b[0;34m(\u001b[0m\u001b[0;34m'./Data/congressional_bill_train.json'\u001b[0m\u001b[0;34m)\u001b[0m\u001b[0;34m)\u001b[0m\u001b[0;34m\u001b[0m\u001b[0;34m\u001b[0m\u001b[0m\n\u001b[1;32m      3\u001b[0m \u001b[0mModel\u001b[0m \u001b[0;34m=\u001b[0m \u001b[0mTopic_Model\u001b[0m\u001b[0;34m(\u001b[0m\u001b[0;36m13\u001b[0m\u001b[0;34m,\u001b[0m \u001b[0;36m2500\u001b[0m\u001b[0;34m,\u001b[0m \u001b[0;34m'LDA'\u001b[0m\u001b[0;34m,\u001b[0m \u001b[0;34m'./Data/congressional_bill_train_processed.pkl'\u001b[0m\u001b[0;34m,\u001b[0m \u001b[0mfull_len\u001b[0m \u001b[0;34m,\u001b[0m \u001b[0;34m{\u001b[0m\u001b[0;34m}\u001b[0m\u001b[0;34m,\u001b[0m \u001b[0;32mFalse\u001b[0m\u001b[0;34m,\u001b[0m \u001b[0;32mNone\u001b[0m\u001b[0;34m)\u001b[0m\u001b[0;34m\u001b[0m\u001b[0;34m\u001b[0m\u001b[0m\n\u001b[1;32m      4\u001b[0m \u001b[0msave_path\u001b[0m \u001b[0;34m=\u001b[0m \u001b[0;34m'./Model/{}_{}.pkl'\u001b[0m\u001b[0;34m.\u001b[0m\u001b[0mformat\u001b[0m\u001b[0;34m(\u001b[0m\u001b[0;34m'LDA'\u001b[0m\u001b[0;34m,\u001b[0m \u001b[0;36m13\u001b[0m\u001b[0;34m)\u001b[0m\u001b[0;34m\u001b[0m\u001b[0;34m\u001b[0m\u001b[0m\n\u001b[1;32m      5\u001b[0m \u001b[0mModel\u001b[0m\u001b[0;34m.\u001b[0m\u001b[0mtrain\u001b[0m\u001b[0;34m(\u001b[0m\u001b[0msave_path\u001b[0m\u001b[0;34m)\u001b[0m\u001b[0;34m\u001b[0m\u001b[0;34m\u001b[0m\u001b[0m\n",
            "\u001b[0;31mModuleNotFoundError\u001b[0m: No module named 'topic_model'",
            "",
            "\u001b[0;31m---------------------------------------------------------------------------\u001b[0;32m\nNOTE: If your import is failing due to a missing package, you can\nmanually install dependencies using either !pip or !apt.\n\nTo view examples of installing some common dependencies, click the\n\"Open Examples\" button below.\n\u001b[0;31m---------------------------------------------------------------------------\u001b[0m\n"
          ]
        }
      ],
      "source": [
        "from topic_model import Topic_Model\n",
        "full_len = len(pd.read_json('./Data/congressional_bill_train.json'))\n",
        "Model = Topic_Model(13, 2500, 'LDA', './Data/congressional_bill_train_processed.pkl', full_len , {}, False, None)\n",
        "save_path = './Model/{}_{}.pkl'.format('LDA', 13)\n",
        "Model.train(save_path)"
      ]
    },
    {
      "cell_type": "code",
      "execution_count": null,
      "metadata": {
        "id": "AfY-NYKviWja",
        "outputId": "047e3afb-f8e1-4d9c-bd7c-123865ece41c"
      },
      "outputs": [
        {
          "data": {
            "text/plain": [
              "9306"
            ]
          },
          "execution_count": 27,
          "metadata": {},
          "output_type": "execute_result"
        }
      ],
      "source": [
        "len(Model.model.used_vocabs)"
      ]
    },
    {
      "cell_type": "code",
      "execution_count": null,
      "metadata": {
        "id": "gJsn_-guiWja",
        "outputId": "a4df58dd-5dc5-47f5-f251-76fb068d0921"
      },
      "outputs": [
        {
          "data": {
            "text/plain": [
              "['program', 'united', 'national', 'establish', 'authorize', 'code', 'section', 'title', 'public', 'state', 'health', 'service', 'require', 'housing', 'secretary', 'development', 'relate', 'energy', 'assistance', 'education', 'tax', 'use', 'increase', 'law', 'grant', 'income', 'year', 'revenue', 'improve', 'respect', 'extend', 'land', 'fund', 'individual', 'security', 'internal', 'system', 'prohibit', 'provision', 'department', 'loan', 'control', 'water', 'school', 'commission', 'amend', 'care', 'agency', 'project', 'area', 'facility', 'agricultural', 'research', 'benefit', 'provide', 'construction', 'local', 'person', 'government', 'protection', 'promote', 'transportation', 'labor', 'employee', 'administration', 'authority', 'additional', 'conservation', 'protect', 'permit', 'assist', 'employment', 'shall', 'commerce', 'payment', 'safety', 'community', 'establishment', 'new', 'insurance', 'appropriation', 'drug', 'right', 'requirement', 'child', 'order', 'information', 'interstate', 'direct', 'reduce', 'compensation', 'plan', 'cost', 'oil', 'fiscal', 'educational', 'encourage', 'credit', 'agriculture', 'gas', 'standard', 'treatment', 'home', 'training', 'social', 'unemployment', 'include', 'economic', 'district', 'emergency', 'support', 'product', 'court', 'property', 'power', 'high', 'air', 'rate', 'activity', 'student', 'river', 'repeal', 'price', 'civil', 'pay', 'veteran', 'ensure', 'financial', 'operation', 'medical', 'management', 'environmental', 'member', 'food', 'family', 'policy', 'congress', 'work', 'urban', 'resource', 'highway', 'mortgage', 'enforcement', 'budget', 'rural', 'study', 'sale', 'foreign', 'production', 'reserve', 'secondary', 'interest', 'limit', 'available', 'natural', 'institution', 'allow', 'vessel', 'corporation', 'case', 'farm', 'interior', 'prevent', 'low', 'transfer', 'carry', 'organization', 'need', 'retirement', 'opportunity', 'enhance', 'aid', 'technology', 'fuel', 'vehicle', 'create', 'american', 'quality', 'regulation', 'veterans', 'taxis', 'receive', 'pollution', 'strengthen', 'expand', 'commodity', 'improvement', 'private', 'waste', 'defense', 'purpose', 'elementary', 'office', 'conduct', 'county', 'business', 'indian', 'industry', 'exempt', 'age', 'chapter', 'board', 'marine', 'crime', 'eliminate', 'comprehensive', 'marketing', 'time', 'period', '', 'clarify', 'railroad', 'jurisdiction', 'motor', 'exemption', 'demonstration', 'general', 'supply', 'consumer', 'hospital', 'determine', 'develop', 'condition', 'base', 'action', 'worker', 'medicare', 'access', 'contract', 'criminal', 'domestic', 'officer', 'procedure', 'special', 'make', 'purchase', 'penalty', 'trust', 'effective', 'producer', 'wildlife', 'adjustment', 'term', 'percent', 'coverage', 'designate', 'impose', 'fair', 'market', 'prevention', 'nuclear', 'application', 'commercial', 'employer', 'forest', 'clean', 'discrimination', 'reduction', 'park', 'reform', 'limitation', 'maintain', 'job', 'center', 'issue', 'fish', 'authorization', 'basis', 'bank', 'affairs', 'incentive', 'president', 'city', 'alaska', 'result', 'operate', 'trade', 'reauthorize', 'revise', 'guarantee', 'process', 'great', 'coal', 'connection', 'eligible', 'report', 'welfare', 'material', 'exist', 'practice', 'california', 'facilitate', 'dependent', 'unit', 'restore', 'level', 'assure', 'review', 'small', 'electric', 'temporary', 'college', 'claim', 'rehabilitation', 'military', 'inspection', 'modify', 'hold', 'expense', 'wage', 'agreement', 'taxpayer', 'farmer', 'remove', 'effect', 'change', 'minimum', 'services', 'account', 'deduction', 'petroleum', 'nation', 'loss', 'pension', 'appropriate', 'regulate', 'import', 'entitle', 'enable', 'maintenance', 'meet', 'debt', 'administrator', 'relief', 'personnel', 'extension', 'insure', 'justice', 'abuse', 'adequate', 'distribution', 'rights', 'international', 'atomic', 'amount', 'rule', 'duty', 'investment', 'lease', 'teacher', 'subject', 'youth', 'site', 'crop', 'standards', 'human', 'affect', 'fee', 'coast', 'relations', 'liability', 'disease', 'continue', 'implement', 'federally', 'concern', 'applicable', 'preserve', 'apply', 'country', 'building', 'disposal', 'passenger', 'wheat', 'carrier', 'finance', 'armed', 'science', 'planning', 'privacy', 'date', 'plant', 'locate', 'related', 'higher', 'end', 'act', 'long', 'engage', 'june', 'association', 'disability', 'involve', 'expenditure', 'personal', 'merchant', 'hazardous', 'approve', 'technical', 'bureau', 'cause', 'grain', 'tobacco', 'treasury', 'life', 'cooperative', 'efficiency', 'acquire', 'safe', 'number', 'regulatory', 'permanent', 'necessary', 'know', 'amendment', 'war', 'coastal', 'disclosure', 'annual', 'produce', 'judge', 'woman', 'portion', 'funding', 'maximum', 'acquisition', 'stat', 'congressional', 'company', 'meat', 'sell', 'administrative', 'own', 'judicial', 'tribe', 'dam', 'animal', 'definition', 'thereof', 'serve', 'columbia', 'function', 'record', 'source', 'committee', 'lake', 'eligibility', 'charge', 'force', 'contribution', 'rail', 'army', 'aviation', 'restriction', 'pilot', 'participation', 'forces', 'restoration', 'airport', 'financing', 'obligation', 'saving', 'acreage', 'guard', 'continental', 'aircraft', 'implementation', 'impact', 'status', 'institute', 'flood', 'damage', 'st', 'recovery', 'equal', 'rental', 'milk', 'exchange', 'old', 'attorney', 'free', 'annuity', 'firearm', 'contain', 'design', 'council', 'patient', 'leasing', 'valley', 'feed', 'participate', 'nonprofit', 'september', 'place', 'economy', 'excise', 'citizen', 'investigation', 'construct', 'professional', 'cotton', 'solid', 'august', 'help', 'risk', 'equipment', 'election', 'shelf', 'pursuant', 'reasonable', 'executive', 'elderly', 'bridge', 'method', 'regional', 'propose', 'terminate', 'performance', 'a', 'reservation', 'mental', 'utility', 'spouse', 'medicaid', 'employ', 'survey', 'good', 'rent', 'discharge', 'race', 'washington', 'renewable', 'growth', 'death', 'outer', 'fishery', 'academy', 'add', 'foundation', 'return', 'alternative', 'consent', 'real', 'owner', 'americans', 'victim', 'mineral', 'fire', 'original', 'award', 'group', 'supplemental', 'allotment', 'license', 'wilderness', 'emission', 'collection', 'uniform', 'appointment', 'value', 'monument', 'north', 'independent', 'effort', 'accordance', 'availability', 'qualified', 'allowance', 'self', 'substance', 'quota', 'estate', 'administer', 'official', 'voluntary', 'manufacturer', 'affordable', 'disaster', 'offense', 'livestock', 'injury', 'florida', 'export', 'preservation', 'boundary', 'future', 'coordination', 'environment', 'reclamation', 'freedom', 'admission', 'march', 'color', 'historic', 'house', 'issuance', 'efficient', 'prescribe', 'exclude', 'reporting', 'mean', 'world', 'capital', 'cover', 'device', 'harbor', 'determination', 'stock', 'corps', 'vote', 'basin', 'responsibility', 'b', 'associate', 'entity', 'surplus', 'obtain', 'residential', 'violence', 'parent', 'secure', 'enter', 'coordinate', 'utilization', 'indians', 'soil', 'joint', 'islands', 'york', 'non', 'gasoline', 'occupational', 'university', 'manufacture', 'maritime', 'storage', 'furnish', 'sexual', 'territory', 'vocational', 'rescind', 'approval', 'regard', 'incur', 'advance', 'america', 'legal', 'deficit', 'expansion', 'origin', 'restrict', 'declare', 'mandatory', 'importation', 'cosmetic', 'mexico', 'bond', 'fishing', 'problem', 'industrial', 'reservoir', 'cooperation', 'well', 'perform', 'assessment', 'address', 'initiative', 'refund', 'gross', 'measure', 'memorial', 'resident', 'library', 'pipeline', 'compliance', 'recommendation', 'enforce', 'month', 'political', 'homeless', 'solar', 'suspend', 'creation', 'current', 'advisory', 'branch', 'registration', 'release', 'ocean', 'contractor', 'people', 'delivery', 'equitable', 'the', 'sex', 'file', 'competition', 'pacific', 'violation', 'alcohol', 'poultry', 'july', 'delay', 'achieve', 'road', 'excess', 'san', 'nursing', 'collect', 'block', 'automobile', 'early', 'physician', 'island', 'c', 'region', 'labeling', 'port', 'renewal', 'texas', 'balanced', 'disabled', 'combat', 'prepare', 'transport', 'proceeding', 'civilian', 'survivor', 'reimbursement', 'disposition', 'claims', 'ability', 'unemployed', 'consolidate', 'tenant', 'single', 'residence', 'payable', 'foster', 'open', 'tennessee', 'dairy', 'adjust', 'receipt', 'possession', 'conveyance', 'reconciliation', 'recreation', 'substances', 'certification', 'testing', 'live', 'deny', 'money', 'conversion', 'director', 'violent', 'refuge', 'juvenile', 'specie', 'certificate', 'share', 'treat', 'readjustment', 'competitive', 'enterprise', 'define', 'set', 'colorado', 'field', 'south', 'complete', 'profit', 'resources', 'resolution', 'crude', 'article', 'mining', 'feasibility', 'structure', 'thereunder', 'promotion', 'partnership', 'scholarship', 'allocation', 'surface', 'response', 'shortage', 'communication', 'voting', 'hawaii', 'zone', 'workforce', 'traffic', 'narcotic', 'supplement', 'homeland', 'unlawful', 'installation', 'modernize', 'basic', 'offshore', 'travel', 'historical', 'lead', 'limited', 'taxation', 'provider', 'party', 'union', 'navigation', 'cancer', 'day', 'fraud', 'migratory', 'dental', 'electricity', 'submit', 'utilize', 'undertake', 'take', 'present', 'enact', 'salary', 'retire', 'train', 'asset', 'repair', 'hour', 'compact', 'major', 'ship', 'charitable', 'january', 'improved', 'omnibus', 'orderly', 'datum', 'mass', 'beneficiary', 'repayment', 'physical', 'laboratory', 'gift', 'ownership', 'middle', 'oregon', 'schedule', 'religious', 'illness', 'border', 'convey', 'expedite', 'commit', 'infrastructure', 'division', 'abortion', 'fort', 'art', 'bear', 'bay', 'population', 'flag', 'temporarily', 'offer', 'prior', 'correct', 'amendments', 'dispute', 'constitution', 'commissioner', 'supreme', 'lakes', 'spending', 'primary', 'naval', 'advanced', 'borrower', 'ohio', 'native', 'neighborhood', 'start', 'identify', 'recreational', 'way', 'suffer', 'bring', 'religion', 'statute', 'hydroelectric', 'accountability', 'capacity', 'inclusion', 'prohibition', 'matter', 'effectiveness', 'qualify', 'subsidy', 'dakota', 'mathematic', 'addition', 'consideration', 'circumstance', 'exercise', 'stimulate', 'moratorium', 'extent', 'replace', 'raise', 'strategy', 'designation', 'missouri', 'irrigation', 'class', 'manner', 'adult', 'medicine', 'outside', 'list', 'gain', 'prescription', 'mississippi', 'black', 'police', 'th', 'october', 'seek', 'carolina', 'equity', 'advertising', 'commonly', 'notice', 'govern', 'have', 'transmit', 'stabilization', 'conserve', 'post', 'net', 'position', 'termination', 'station', 'relocation', 'extended', 'test', 'lands', 'decision', 'space', 'career', 'metropolitan', 'settlement', 'request', 'utah', 'responsible', 'uniformed', 'counseling', 'history', 'bird', 'head', 'gold', 'choice', 'percentage', 'consolidated', 'form', 'reason', 'consider', 'to', 'calif', 'barrier', 'idaho', 'impoundment', 'taxable', 'entitlement', 'connect', 'sharing', 'transmission', 'instruction', 'engineering', 'endangered', 'beach', 'fla', 'navigable', 'register', 'priority', 'elimination', 'sector', 'skill', 'manage', 'event', 'commonwealth', 'academic', 'flow', 'imposition', 'modification', 'handicapped', 'critical', 'abolish', 'course', 'exceed', 'controlled', 'virgin', 'parity', 'essential', 'operator', 'hazard', 'arts', 'strike', 'grade', 'driver', 'cigarette', 'container', 'examination', 'specify', 'donation', 'remedy', 'participant', 'electronic', 'december', 'judgment', 'tribal', 'preference', 'servicemens', 'evaluation', 'statement', 'conflict', 'generation', 'chemical', 'moderate', 'chief', 'dealer', 'adoption', 'line', 'jersey', 'comply', 'assistant', 'hear', 'exploration', 'waive', 'creek', 'safeguard', 'common', 'postsecondary', 'deposit', 'subdivision', 'premium', 'exclusion', 'goal', 'operating', 'virginia', 'body', 'assault', 'gulf', 'northern', 'graduate', 'transaction', 'aged', 'redevelopment', 'railway', 'heating', 'surveillance', 'introduction', 'trail', 'living', 'capability', 'adopt', 'target', 'constitutional', 'arise', 'revised', 'give', 'consumption', 'innovative', 'central', 'pertain', 'guideline', 'transition', 'engineers', 'option', 'illegal', 'retail', 'potential', 'procurement', 'active', 'reorganization', 'total', 'cultural', 'movement', 'pennsylvania', 'john', 'offender', 'degree', 'minority', 'registry', 'atlantic', 'handgun', 'drinking', 'circuit', 'begin', 'similar', 'deal', 'statutes', 'analysis', 'western', 'exposure', 'derive', 'burden', 'aeronautics', 'recipient', 'effectively', 'pursue', 'excessive', 'economically', 'speed', 'transit', 'scientific', 'prisoner', 'manpower', 'stamp', 'museum', 'gender', 'language', 'blind', 'strategic', 'recognition', 'recognize', 'balance', 'correction', 'generate', 'immediate', 'sentence', 'simplify', 'mail', 'independence', 'near', 'select', 'canal', 'earn', 'expend', 'airline', 'louisiana', 'licensing', 'threat', 'trial', 'tex', 'mountain', 'delinquency', 'route', 'computer', 'indiana', 'communist', 'nurse', 'erosion', 'confer', 'radioactive', 'patent', 'stability', 'stabilize', 'governmental', 'separate', 'sea', 'reimburse', 'coastwise', 'thereto', 'substantial', 'large', 'organize', 'accelerate', 'd', 'nations', 'arrangement', 'innovation', 'commitment', 'clinical', 'part', 'representative', 'discriminatory', 'agent', 'spend', 'accommodation', 'lung', 'sugar', 'therefor', 'sound', 'withhold', 'removal', 'minor', 'oversight', 'compensate', 'consistent', 'man', 'preparation', 'statutory', 'convict', 'volunteer', 'elect', 'remain', 'broaden', 'southern', 'ground', 'municipal', 'oklahoma', 'puerto', 'rico', 'accounting', 'channel', 'davis', 'occur', 'subsection', 'racial', 'monetary', 'shore', 'check', 'charter', 'canada', 'membership', 'principal', 'species', 'household', 'employees', 'calendar', 'recycling', 'workplace', 'timber', 'english', 'custom', 'intelligence', 'enrollment', 'blood', 'condominium', 'lower', 'adjacent', 'continuation', 'lieu', 'proceed', 'relationship', 'demand', 'processing', 'final', 'type', 'accident', 'flexibility', 'blindness', 'exclusive', 'allocate', 'adverse', 'e', 'achievement', 'criterion', 'deem', 'evidence', 'reinstate', 'dependence', 'heritage', 'global', 'threaten', 'experience', 'fellowship', 'anti', 'montana', 'appoint', 'eastern', 'ban', 'deduct', 'trafficking', 'learning', 'display', 'legislative', 'reconstruction', 'disorder', 'humane', 'car', 'internet', 'point', 'leave', 'nutrition', 'cleanup', 'west', 'jones', 'compute', 'permanently', 'relieve', 'reach', 'protective', 'privilege', 'location', 'render', 'message', 'progress', 'pende', 'regular', 'vicinity', 'foreclosure', 'april', 'telephone', 'suitable', 'manufacturing', 'guam', 'sponsor', 'representatives', 'qualification', 'works', 'appalachian', 'michigan', 'correctional', 'widow', 'sanction', 'alien', 'competitiveness', 'territories', 'multifamily', 'sewage', 'distribute', 'hurricane', 'fine', 'intend', 'knowledge', 'connecticut', 'prospective', 'identification', 'dividend', 'salmon', 'royalty', 'red', 'egg', 'geothermal', 'secret', 'urgently', 'supplementary', 'network', 'lose', 'deadline', 'fully', 'specially', 'adversely', 'demonstrate', 'relation', 'fairness', 'initiate', 'build', 'felony', 'specific', 'investigate', 'highways', 'georgia', 'withholding', 'camp', 'benefits', 'replacement', 'prison', 'scenic', 'illinois', 'suspension', 'package', 'deficiency', 'fail', 'item', 'freight', 'background', 'primarily', 'discretionary', 'finding', 'objective', 'rice', 'mentally', 'ozone', 'prosecution', 'campus', 'wyoming', 'involuntary', 'cargo', 'incorporate', 'monitoring', 'hearing', 'continued', 'senior', 'multiple', 'navy', 'assess', 'alleviate', 'subversive', 'bacon', 'literacy', 'modernization', 'homeowner', 'displace', 'publish', 'proper', 'habitat', 'alabama', 'malpractice', 'mission', 'tribes', 'document', 'taking', 'range', 'depletion', 'enlarge', 'children', 'holding', 'domain', 'publication', 'lending', 'light', 'estimate', 'handicap', 'farming', 'honor', 'ammunition', 'band', 'mobile', 'bargaining', 'identity', 'vietnam', 'overseas', 'sec', 'breast', 'chesapeake', 'harmful', 'asbestos', 'santa', 'behalf', 'preliminary', 'mandate', 'applicability', 'retention', 'representation', 'say', 'excellence', 'dissemination', 'teaching', 'possible', 'retain', 'town', 'beverage', 'mile', 'flight', 'biological', 'corporate', 'tributary', 'r', 'streets', 'accelerated', 'enactment', 'injure', 'incident', 'enhancement', 'diversion', 'attain', 'shipment', 'laws', 'crisis', 'decrease', 'unfair', 'homeownership', 'synthetic', 'jury', 'governors', 'reliability', 'second', 'follow', 'rancher', 'intent', 'centers', 'sanctuary', 'retailer', 'senate', 'dak', 'attend', 'nevada', 'shipping', 'electrification', 'parkway', 'notification', 'steel', 'slaughter', 'soybean', 'powerplant', 'lock', 'northeast', 'watershed', 'tree', 'parole', 'wetland', 'screening', 'noise', 'upper', 'nebraska', 'size', 'suit', 'conviction', 'bankhead', 'mitigate', 'close', 'reliable', 'inc', 'empower', 'express', 'contribute', 'tariff', 'century', 'entry', 'resolve', 'massachusetts', 'corn', 'model', 'mechanism', 'classification', 'far', 'sustain', 'appeal', 'sewer', 'disclose', 'update', 'afford', 'relative', 'recommend', 'save', 'avoid', 'task', 'formula', 'nationwide', 'user', 'immigration', 'ceiling', 'kill', 'currently', 'call', 'awareness', 'teach', 'exportation', 'integrated', 'detention', 'exception', 'leadership', 'week', 'marital', 'abatement', 'sequestration', 'hatchery', 'wind', 'corridor', 'matching', 'automatic', 'women', 'pregnancy', 'unable', 'overtime', 'orientation', 'young', 'generating', 'hunting', 'truck', 'minnesota', 'voter', 'weapon', 'experiment', 'lunch', 'convention', 'peanut', 'navajo', 'fresh', 'dispose', 'skilled', 'selection', 'equalize', 'street', 'territorial', 'deductible', 'silver', 'liberty', 'bus', 'smithsonian', 'sum', 'buy', 'equip', 'fossil', 'dwelling', 'distributor', 'peace', 'farmers', 'faith', 'revolving', 'of', 'workers', 'adapt', 'inflation', 'accord', 'evaluate', 'windfall', 'understanding', 'dumping', 'february', 'depreciation', 'kansas', 'attributable', 'miner', 'wisconsin', 'prevail', 'liquid', 'toxic', 'fisheries', 'acre', 'inform', 'refer', 'addiction', 'pool', 'million', 'pesticide', 'withdrawal', 'organic', 'f', 'phase', 'concurrent', 'kentucky', 'collective', 'ecological', 'learn', 'purchaser', 'carbon', 'desert', 'customs', 'submerge', 'statistics', 'statistic', 'contamination', 'village', 'genetic', 'explosive', 'climate', 'census', 'additive', 'gang', 'cattle', 'helium', 'currency', 'certify', 'average', 'for', 'accept', 'shelter', 'assign', 'programs', 'stable', 'waterway', 'toll', 'healthy', 'defendant', 'quantity', 'inspector', 'pollutant', 'classroom', 'rapid', 'normal', 'obscene', 'facilities', 'grow', 'custody', 'inventory', 'locality', 'fix', 'interfere', 'radiation', 'drilling', 'short', 'agree', 'placement', 'owners', 'ancestry', 'outpatient', 'transparency', 'acid', 'pharmacy', 'miss', 'married', 'index', 'canyon', 'revision', 'productivity', 'katrina', 'oreg', 'theft', 'fireman', 'green', 'compound', 'humanities', 'game', 'aboard', 'paper', 'judgeship', 'aquatic', 'ill', 'mae', 'maryland', 'wool', 'choose', 'breach', 'greenhouse', 'rio', 'card', 'sentencing', 'church', 'plastic', 'constitute', 'granting', 'preventive', 'integrate', 'mckinney', 'severe', 'reenact', 'legislation', 'subsequent', 'clearinghouse', 'municipality', 'supervision', 'voucher', 'destroy', 'wild', 'white', 'pricing', 'solely', 'delegate', 'parental', 'guaranty', 'sufficient', 'dollar', 'prompt', 'monitor', 'combine', 'pa', 'gun', 'reorganize', 'packers', 'stockyards', 'spill', 'commence', 'recruit', 'streamline', 'indemnity', 'outstanding', 'antitrust', 'kind', 'handling', 'occupancy', 'waiver', 'lawful', 'recover', 'category', 'ex', 'chronic', 'orphan', 'factor', 'invest', 'arizona', 'fisherman', 'rules', 'surgeon', 'samoa', 'seashore', 'accrue', 'contiguous', 'communications', 'reference', 'presidential', 'staff', 'terminal', 'heart', 'fannie', 'mac', 'tort', 'reinvestment', 'terrorism', 'profession', 'cancellation', 'daylight', 'cure', 'organ', 'pest', 'treaty', 'significant', 'grande', 'poverty', 'mine', 'dunes', 'desegregation', 'co', 'intervention', 'hate', 'bayou', 'bilingual', 'content', 'amtrak', 'statistical', 'catastrophic', 'deed', 'store', 'institutional', 'separation', 'educate', 'donate', 'nonresident', 'east', 'represent', 'deputy', 'deceased', 'supportive', 'assurance', 'litigation', 'outdoor', 'disapprove', 'aggregate', 'retraining', 'cent', 'enrol', 'cemetery', 'identifiable', 'inland', 'exclusively', 'tip', 'postpone', 'closure', 'inequity', 'step', 'interim', 'principle', 'yield', 'disabilities', 'korean', 'restraint', 'vaccine', 'regardless', 'previously', 'minimize', 'respond', 'la', 'scope', 'attack', 'confirm', 'shoreline', 'shale', 'clayton', 'savings', 'fiber', 'label', 'technique', 'o', 'disadvantaged', 'applicant', 'online', 'sport', 'campaign', 'offset', 'migrant', 'physically', 'amortization', 'unnecessary', 'institutes', 'find', 'integrity', 'machinery', 'tuition', 'discriminate', 'paragraph', 'levy', 'revitalization', 'reaffirm', 'arbitration', 'underground', 'rescission', 'possess', 'subtitle', 'drainage', 'misuse', 'perishable', 'universal', 'freddie', 'methamphetamine', 'sanctuaries', 'los', 'seed', 'name', 'mont', 'mother', 'materials', 'forfeiture', 'bonneville', 'uranium', 'forth', 'tertiary', 'paint', 'apprenticeship', 'meal', 'sioux', 'addict', 'remediation', 'beef', 'witness', 'weather', 'dwell', 'infant', 'half', 'coin', 'unpaid', 'note', 'turtle', 'enrichment', 'iowa', 'negotiate', 'secretaries', 'belief', 'bed', 'restructure', 'stream', 'hospitalization', 'transitional', 'involvement', 'substantially', 'upland', 'sick', 'atmospheric', 'calculation', 'prosecute', 'personally', 'reside', 'actual', 'psychiatric', 'convert', 'individuals', 'mutual', 'promulgate', 'completion', 'george', 'immediately', 'activities', 'particular', 'walsh', 'die', 'segment', 'donor', 'society', 'curb', 'longshoremens', 'subchapter', 'rehabilitate', 'practical', 'incidence', 'show', 'timely', 'initial', 'focus', 'appeals', 'confidentiality', 'firefighting', 'equivalent', 'easement', 'nationality', 'apportionment', 'angeles', 'forests', 'count', 'rebuild', 'generally', 'petition', 'insured', 'useful', 'notify', 'able', 'retired', 'punish', 'renovation', 'exhaust', 'mathematics', 'mailing', 'anadromous', 'deter', 'tool', 'african', 'gap', 'depository', 'thereon', 'hydrogen', 'unauthorized', 'drought', 'de', 'indebtedness', 'dioxide', 'tract', 'clark', 'defect', 'destruction', 'reestablish', 'search', 'sand', 'trap', 'due', 'dog', 'riot', 'fur', 'lien', 'default', 'instrumentality', 'bulk', 'tire', 'grazing', 'summer', 'admit', 'club', 'maternal', 'innocent', 'homelessness', 'eye', 'hopi', 'therapy', 'potato', 'prepayment', 'maine', 'harvesting', 'attendance', 'ballot', 'failure', 'technological', 'mich', 'component', 'reflect', 'deauthorize', 'barge', 'mediation', 'hire', 'situate', 'canadian', 'formation', 'king', 'refinance', 'weight', 'watershe', 'approach', 'boat', 'firefighter', 'making', 'filing', 'redesignate', 'foot', 'role', 'move', 'alteration', 'meaningful', 'abandon', 'crossing', 'enhanced', 'healey', 'fill', 'survive', 'incarceration', 'annually', 'expiration', 'abroad', 'furnishing', 'book', 'pump', 'insecticide', 'flexible', 'golden', 'distressed', 'lighting', 'concentration', 'appellate', 'furtherance', 'refuse', 'big', 'mexican', 'pain', 'partial', 'fraudulent', 'documentation', 'monthly', 'acceptance', 'meeting', 'accurate', 'audit', 'earning', 'fruit', 'curriculum', 'humanity', 'challenge', 'question', 'codify', 'defray', 'restrain', 'decent', 'lack', 'judiciary', 'computation', 'referral', 'clinic', 'creed', 'revenuecode', 'grid', 'lawrence', 'deployment', 'totally', 'hunt', 'declaration', 'va', 'tenn', 'empowerment', 'forgiveness', 'cap', 'parcel', 'forestry', 'liquidation', 'healthful', 'working', 'exploitation', 'privately', 'detection', 'hawaiian', 'integration', 'contingency', 'conventional', 'methyl', 'medium', 'father', 'doctor', 'diversity', 'trailer', 'violate', 'securities', 'installment', 'stafford', 'pharmaceutical', 'deaf', 'dump', 'farmland', 'healthcare', 'biofuel', 'marriage', 'cherokee', 'plus', 'obligate', 'pet', 'assignment', 'assisted', 'entertainment', 'saint', 'beginning', 'understand', 'indemnification', 'practitioner', 'cancel', 'revocation', 'disbursement', 'intermodal', 'persian', 'delaware', 'reuse', 'directly', 'disseminate', 'abusive', 'ch', 'cross', 'oceanic', 'arkansas', 'publicly', 'vest', 'automotive', 'complaint', 'era', 'aside', 'comptroller', 'alcoholic', 'run', 'length', 'reinsurance', 'chafee', 'purchasing', 'sustained', 'endanger', 'install', 'discount', 'cooperate', 'tracking', 'instal', 'broad', 'comparable', 'veterinary', 'penal', 'arrest', 'rock', 'homestead', 'con', 't', 'clause', 'departments', 'occupy', 'recording', 'double', 'appropriations', 'direction', 'waterfowl', 'wholesale', 'allowable', 'junior', 'h', 'imprisonment', 'thermal', 'quarantine', 'fungicide', 'entire', 'culture', 'repay', 'firm', 'extra', 'bankruptcy', 'expire', 'mammal', 'older', 'unwarranted', 'ethnic', 'casualty', 'holder', 'commercialization', 'bipartisan', 'needy', 'overpayment', 'magnuson', 'presence', 'siting', 'nationally', 'packaging', 'series', 'raw', 'slope', 'nonattainment', 'punishment', 'rocky', 'volume', 'vegetable', 'retroactive', 'interference', 'prosecutor', 'practicable', 'eminent', 'recently', 'lynching', 'northwest', 'lender', 'delinquent', 'voluntarily', 'ethanol', 'experimental', 'surgery', 'nature', 'blighted', 'handler', 'opt', 'psychological', 'data', 'fluid', 'lincoln', 'missing', 'execute', 'severely', 'ore', 'suppression', 'alternate', 'juan', 'sanitation', 'workweek', 'popularly', 'bass', 'remedial', 'leader', 'sciences', 'freeze', 'deepwater', 'snake', 'ecosystem', 'retiree', 'disparity', 'retarded', 'metal', 'orient', 'rare', 'inpatient', 'pass', 'pregnant', 'drive', 'occupant', 'unreasonable', 'pell', 'kindergarten', 'arlington', 'engine', 'guide', 'equalization', 'tank', 'inspect', 'arctic', 'protocol', 'honey', 'delta', 'cruise', 'litter', 'variety', 'liberalize', 'by', 'ineligible', 'heroin', 'immunity', 'intermediate', 'advancement', 'vaccination', 'orange', 'shoshone', 'comprise', 'surgical', 'preferred', 'seaman', 'subsistence', 'nondiscriminatory', 'prioritize', 'sense', 'deductibility', 'importance', 'previous', 'wash', 'view', 'fourth', 'film', 'ally', 'rivers', 'cell', 'invasion', 'refiner', 'bail', 'postal', 'robert', 'accessory', 'proposal', 'distress', 'impede', 'landfill', 'affiliate', 'mercury', 'situation', 'chicago', 'trinity', 'environmentally', 'suicide', 'retardation', 'arid', 'alaskan', 'hill', 'little', 'stewart', 'compulsory', 'waiting', 'negotiation', 'steam', 'iron', 'faculty', 'manager', 'indirect', 'herd', 'birth', 'historically', 'database', 'abate', 'steal', 'homebuyer', 'viable', 'plains', 'wood', 'withdraw', 'mount', 'truth', 'highly', 'habeas', 'corpus', 'and', 'joaquin', 'policeman', 'affordability', 'marking', 'recycle', 'false', 'feature', 'dangerous', 'specifically', 'urgent', 'intensive', 'pose', 'framework', 'nondiscrimination', 'productive', 'wagner', 'referendum', 'perkins', 'match', 'equality', 'modern', 'disable', 'recruitment', 'guidance', 'oath', 'fault', 'incometax', 'downpayment', 'substitute', 'ridge', 'awarding', 'francisco', 'jewelry', 'impair', 'scale', 'planting', 'detect', 'solution', 'mill', 'inadequate', 'outcome', 'qualifying', 'mechanic', 'terrorist', 'prayer', 'incarcerate', 'citizenship', 'artificial', 'et', 'seq', 'consolidation', 'policies', 'reporter', 'patrol', 'interagency', 'distance', 'institutions', 'clear', 'poll', 'slum', 'closing', 'ruling', 'danger', 'examine', 'unified', 'repository', 'restructuring', 'budgetary', 'drink', 'electrical', 'capitol', 'hudson', 'lakeshore', 'trails', 'enroll', 'deferred', 'stationary', 'ticket', 'athletic', 'bovine', 'biomass', 'southeastern', 'kans', 'kennedy', 'cut', 'oyster', 'striped', 'opinion', 'marshal', 'panel', 'persistent', 'spread', 'feeding', 'mountains', 'legislature', 'woodrow', 'wilson', 'potomac', 'lewis', 'face', 'deliver', 'discovery', 'selective', 'mortgagor', 'attainment', 'indicator', 'geodetic', 'franchise', 'seat', 'pound', 'dislocation', 'chairman', 'vacancy', 'trustee', 'radio', 'nonmetallic', 'reactor', 'charity', 'cropland', 'poliomyelitis', 'diabetes', 'klamath', 'workman', 'experimentation', 'confidential', 'poison', 'weekly', 'marijuana', 'communities', 'ambient', 'banking', 'cuba', 'presently', 'ether', 'filling', 'certainty', 'cease', 'describe', 'corp', 'operational', 'pre', 'wis', 'knife', 'recapture', 'ind', 'del', 'speech', 'screen', 'instead', 'intentional', 'fight', 'advocate', 'murder', 'unused', 'favor', 'redwood', 'heat', 'burley', 'subsidiary', 'sulfur', 'wildfire', 'subsidize', 'merit', 'horse', 'stop', 'like', 'storm', 'conform', 'rescue', 'levee', 'falls', 'quitclaim', 'brand', 'resistant', 'paperwork', 'nonnavigable', 'sample', 'felon', 'authorized', 'machine', 'lawsuit', 'ark', 'acceleration', 'profiling', 'oral', 'precursor', 'ratify', 'visitor', 'discourage', 'execution', 'auxiliary', 'impediment', 'settle', 'cape', 'schools', 'underserved', 'measurement', 'recycled', 'residency', 'eradication', 'observe', 'zoological', 'disapproval', 'compel', 'cool', 'courts', 'sufficiency', 'contaminant', 'periodic', 'rely', 'reinstatement', 'james', 'buyer', 'severance', 'depressed', 'differential', 'strong', 'smith', 'blue', 'vermont', 'satisfy', 'segregation', 'deprive', 'teachers', 'sheep', 'hardship', 'beneficial', 'cigar', 'dislocated', 'accessible', 'successor', 'deposition', 'reduced', 'dredge', 'agencies', 'assume', 'rating', 'fall', 'hope', 'feasible', 'belong', 'ofthe', 'driving', 'vehicular', 'paul', 'diagnostic', 'divert', 'sexually', 'conservancy', 'overcome', 'adequately', 'belt', 'specialist', 'entrance', 'rear', 'landscape', 'prove', 'forwarder', 'airway', 'specialized', 'november', 'carryover', 'sanitary', 'heretofore', 'apportion', 'readiness', 'contracting', 'upgrade', 'ethnicity', 'retaliation', 'delete', 'adolescent', 'harvest', 'centum', 'decline', 'investigative', 'composition', 'luggage', 'deep', 'visit', 'instructional', 'controversy', 'partner', 'conference', 'explicit', 'borrowing', 'inapplicable', 'reasonably', 'underemploye', 'neutrality', 'reauthorization', 'alter', 'shop', 'sensitive', 'graduation', 'deceptive', 'products', 'stoppage', 'undue', 'liable', 'sunset', 'news', 'object', 'quarter', 'textile', 'hall', 'sludge', 'copy', 'colony', 'aquaculture', 'gateway', 'warrant', 'vice', 'k', 'defer', 'ration', 'proficiency', 'franchised', 'wholesaler', 'superior', 'laundering', 'harm', 'allegheny', 'sprinkler', 'pine', 'plaintiff', 'spectrum', 'mortality', 'fission', 'alcoholism', 'customer', 'issuer', 'word', 'juror', 'erie', 'toilet', 'payroll', 'refining', 'handbag', 'syndrome', 'pursuit', 'developmental', 'female', 'sustainable', 'decennial', 'key', 'printing', 'supplier', 'chronically', 'generic', 'herbicide', 'watch', 'portal', 'spirit', 'algal', 'ambulance', 'combustion', 'medal', 'orleans', 'torture', 'optometry', 'lubricate', 'tissue', 'skip', 'urbanized', 'fitness', 'gunnison', 'implant', 'advertisement', 'tourism', 'maple', 'desirability', 'diego', 'packer', 'convenience', 'necessity', 'architect', 'democratic', 'testimony', 'therewith', 'diversify', 'unrelated', 'presumption', 'manifest', 'nonmilitary', 'struggle', 'capable', 'schoolchildren', 'relevant', 'compete', 'collaboration', 'roll', 'bar', 'realistic', 'disregard', 'accredited', 'indigent', 'obsolete', 'experienced', 'precedent', 'significance', 'overflow', 'gorge', 'fifth', 'tunnel', 'overall', 'instant', 'otherpurpose', 'distinct', 'richard', 'russell', 'subcontractor', 'compose', 'narcotics', 'writ', 'interested', 'seizure', 'especially', 'enjoy', 'sacramento', 'domestically', 'plans', 'migration', 'having', 'closely', 'relocate', 'records', 'dry', 'rational', 'verification', 'parking', 'proportion', 'garden', 'cumberland', 'maturity', 'containment', 'newborn', 'economical', 'ferry', 'johnson', 'salt', 'tion', 'accuracy', 'forbid', 'smoke', 'existence', 'video', 'licensed', 'mex', 'congestion', 'conspiracy', 'track', 'transporting', 'contingent', 'affiliated', 'laborer', 'traumatic', 'brain', 'discipline', 'erection', 'grave', 'joseph', 'lie', 'amortize', 'session', 'prejudice', 'eagle', 'professions', 'nutritional', 'cash', 'reconcile', 'purpos', 'grantsinaid', 'hispanic', 'precede', 'originally', 'hiring', 'longshoremen', 'viability', 'dependency', 'later', 'ail', 'instance', 'mark', 'advisability', 'duly', 'interactive', 'revoke', 'expeditious', 'counsel', 'accountable', 'runaway', 'merchandise', 'airman', 'validate', 'expression', 'hydrocarbon', 'justices', 'diffusion', 'stevens', 'seaward', 'sorghum', 'reward', 'apartment', 'diesel', 'combination', 'airspace', 'confederated', 'springs', 'carriage', 'valuation', 'mileage', 'geological', 'philadelphia', 'homicide', 'stockman', 'occupation', 'multipurpose', 'attempt', 'abundance', 'commencement', 'areas', 'recruiting', 'apple', 'complex', 'geographic', 'ga', 'marginal', 'link', 'unamerican', 'trauma', 'preferential', 'cabinet', 'carrying', 'traveler', 'cycle', 'docket', 'noxious', 'charging', 'underemployed', 'accounts', 'table', 'roosevelt', 'immune', 'justification', 'oak', 'postgraduate', 'bonus', 'gather', 'victims', 'butterfat', 'positive', 'allot', 'administrations', 'diagnosis', 'classify', 'external', 'rebate', 'procedural', 'md', 'tribunal', 'subscription', 'smoking', 'admiralty', 'educator', 'childhood', 'stringent', 'fringe', 'means', 'incidental', 'informed', 'absence', 'lumber', 'incremental', 'nongovernmental', 'bushel', 'firearms', 'owe', 'refugee', 'discretion', 'successful', 'carl', 'mode', 'warming', 'listing', 'civic', 'suffering', 'hobbs', 'importer', 'anderson', 'displacement', 'prepaid', 'extraordinary', 'plain', 'intrastate', 'television', 'grants', 'poisoning', 'lessen', 'technician', 'crew', 'fly', 'willful', 'denial', 'stimulant', 'coordinated', 'alzheimer', 'sustainability', 'write', 'vento', 'daily', 'peyser', 'collectively', 'merger', 'accrual', 'layer', 'reading', 'interception', 'mob', 'soft', 'beer', 'trigger', 'eavesdropping', 'emphasis', 'practices', 'butyl', 'simplification', 'affirm', 'rodenticide', 'billion', 'citizens', 'revitalize', 'magistrate', 'bullet', 'brownfield', 'battlefields', 'cybersecurity', 'hormone', 'oceanographic', 'okla', 'instrument', 'sherman', 'england', 'pretrial', 'groundwater', 'alert', 'premise', 'residue', 'renegotiation', 'heavy', 'bennett', 'grand', 'newly', 'wolf', 'attendant', 'seller', 'depot', 'carryback', 'apalachicola', 'wartime', 'huron', 'stalk', 'minister', 'ash', 'conceal', 'chippewa', 'weed', 'obstruction', 'sign', 'oleomargarine', 'smoky', 'sediment', 'intergovernmental', 'fibroid', 'diminish', 'mariana', 'difference', 'senator', 'opportunities', 'savannah', 'dispense', 'dietary', 'servicer', 'depend', 'industrialization', 'radon', 'weatherization', 'feedstock', 'symbol', 'deprivation', 'tropical', 'ute', 'shark', 'emit', 'vincennes', 'hypoxia', 'nuisance', 'manufactured', 'revolutionary', 'sodium', 'liquor', 'inlet', 'restitution', 'bloom', 'fertilizer', 'door', 'turkey', 'mo', 'steamship', 'myers', 'conjunction', 'auto', 'aim', 'precipitation', 'investor', 'season', 'parks', 'choctaw', 'backlog', 'dual', 'redirect', 'peer', 'buildings', 'arapahoe', 'vancouver', 'unborn', 'motion', 'swamp', 'permitting', 'governor', 'surviving', 'wyo', 'problems', 'remediate', 'moisture', 'in', 'sierra', 'undergraduate', 'minidoka', 'yakima', 'vital', 'spongiform', 'encephalopathy', 'affair', 'extraction', 'counter', 'prairie', 'decree', 'injunctive', 'propulsion', 'splitting', 'othe', 'observance', 'enjoyment', 'shield', 'character', 'lighthouse', 'portland', 'element', 'rape', 'eradicate', 'renew', 'garbage', 'desire', 'sandy', 'bull', 'cave', 'wholly', 'unobligated', 'liberties', 'standing', 'realize', 'optional', 'recruiter', 'propane', 'controller', 'arrive', 'improper', 'norfolk', 'al', 'miami', 'hours', 'waterways', 'midshipman', 'distilled', 'warranty', 'nonambulatory', 'gramm', 'leach', 'bliley', 'interpretation', 'fluctuation', 'commemoration', 'shooting', 'promptly', 'detail', 'efficiently', 'substantiation', 'refundable', 'spark', 'interrogation', 'disciplinary', 'soldier', 'rebuilding', 'keep', 'desirable', 'underemployment', 'poor', 'workmen', 'burning', 'dust', 'visitation', 'voyage', 'intimidation', 'crimes', 'garrison', 'cong', 'peaceful', 'anniversary', 'depth', 'redemption', 'serviceman', 'stewardship', 'indoor', 'shipbuilding', 'team', 'environ', 'william', 'wear', 'southwestern', 'advice', 'jointly', 'grace', 'quiet', 'reciprocity', 'abide', 'analyze', 'pick', 'sloan', 'stateowned', 'killing', 'tar', 'apex', 'offering', 'hand', 'systematic', 'pediatric', 'liquefy', 'residual', 'fast', 'telehealth', 'deregulate', 'devise', 'motivate', 'rye', 'barley', 'finalize', 'ultimate', 'gravel', 'endowment', 'devote', 'seven', 'commercially', 'diversified', 'tangible', 'domiciliary', 'star', 'sad', 'ariz', 'observation', 'partially', 'flint', 'shellfish', 'turn', 'commemorate', 'grower', 'responder', 'enrollee', 'initiatives', 'restricted', 'vacation', 'battery', 'individually', 'capita', 'forother', 'insanity', 'medication', 'accessibility', 'allegation', 'ala', 'obstruct', 'condemnation', 'comparability', 'insular', 'standby', 'late', 'apprehend', 'fugitive', 'subpoena', 'night', 'gallaudet', 'provisions', 'submission', 'therapeutic', 'northeastern', 'lot', 'procure', 'virus', 'consume', 'rise', 'isolation', 'ethic', 'frederick', 'amnesty', 'augment', 'appraisal', 'battle', 'obscenity', 'scrap', 'seize', 'republic', 'philippines', 'builder', 'cooling', 'accomplish', 'illegally', 'important', 'minerals', 'probation', 'mitigation', 'buying', 'selling', 'cranston', 'gonzalez', 'reconstruct', 'polygraph', 'multi', 'incite', 'camera', 'alliance', 'expose', 'mid', 'shareholder', 'theodore', 'infection', 'deterioration', 'different', 'engagement', 'dentist', 'hot', 'homemaker', 'archaeological', 'personalized', 'wide', 'funds', 'statewide', 'prostate', 'douglas', 'reject', 'random', 'particularly', 'automate', 'earth', 'bad', 'harassment', 'uterine', 'potentially', 'medically', 'injustice', 'mono', 'fishermen', 'stay', 'purse', 'oppose', 'veal', 'gathering', 'telecommunications', 'contaminated', 'musical', 'federation', 'accreditation', 'encouragement', 'bodily', 'sole', 'setting', 'draft', 'indicate', 'ratio', 'damaging', 'adoptive', 'blend', 'dedicate', 'outlaw', 'trans', 'appliance', 'mend', 'eightieth', 'contaminate', 'opening', 'commissioners', 'willing', 'structural', 'diabete', 'third', 'proprietary', 'allegiance', 'rank', 'specialty', 'threshold', 'capture', 'commandant', 'disallow', 'saccharin', 'remainder', 'autism', 'vitally', 'verify', 'cite', 'petrochemical', 'coral', 'polluted', 'fuels', 'diseases', 'efficacy', 'wire', 'hard', 'organizations', 'usflag', 'deregulation', 'eyeglass', 'diversification', 'abundant', 'text', 'misdemeanor', 'disruption', 'duration', 'proof', 'see', 'incinerator', 'perjury', 'remote', 'anticompetitive', 'mortgagee', 'textbook', 'dentistry', 'consultation', 'absent', 'pond', 'formulary', 'democracy', 'fleet', 'purposes', 'refined', 'attract', 'shutdown', 'pure', 'deploy', 'highlands', 'solvency', 'marketplace', 'lowrent', 'pneumoconiosis', 'processor', 'be', 'succeed', 'atmosphere', 'nonnuclear', 'studies', 'superfund', 'compile', 'permissible', 'owl', 'reserves', 'collaborative', 'bargain', 'influence', 'contest', 'espionage', 'sabotage', 'furlough', 'cat', 'borrow', 'nonforfeitable', 'outlay', 'wiretapping', 'codes', 'recent', 'portable', 'seaway', 'menominee', 'mobilization', 'punitive', 'teton', 'methodology', 'ferment', 'wildland', 'cocaine', 'susquehanna', 'magnetic', 'ethyl', 'tomato', 'warehouse', 'el', 'inmate', 'stockpile', 'centennial', 'smart', 'pollutants', 'congregate', 'eat', 'louis', 'swine', 'richmond', 'depression', 'devils', 'conn', 'loans', 'embargo', 'league', 'refuges', 'benjamin', 'franklin', 'auction', 'newspaper', 'flats', 'ton', 'martial', 'seafood', 'transplantation', 'glen', 'coastline', 'communism', 'refinery', 'description', 'paso', 'salvage', 'depress', 'gestational', 'ornamental', 'steelhead', 'legitimate', 'seabed', 'organized', 'lignite', 'abandonment', 'surround', 'presidency', 'hydrofoil', 'underpayment', 'sized', 'paducah', 'ultrasound', 'bulb', 'mosquito', 'fat', 'confine', 'hanford', 'sickness', 'european', 'biennial', 'being', 'designee', 'copyright', 'communists', 'burt', 'papago', 'paiute', 'marihuana', 'inhalation', 'tillamook', 'nautical', 'forge', 'anonymous', 'sports', 'steroid', 'reentry', 'millimeter', 'encryption', 'degradable', 'fetal', 'spinach', 'architectural', 'thing', 'p', 'unjustifiable', 'predator', 'palm', 'trafficker', 'compelling', 'moral', 'fatherhood', 'mariner', 'scientist', 'pupil', 'subparagraph', 'riverside', 'bernardino', 'counties', 'armor', 'nebr', 'ordinance', 'unincorporated', 'peacetime', 'chickasaw', 'seminole', 'statescode', 'son', 'federalaid', 'cheyenne', 'tional', 'prisoners', 'picture', 'buffalo', 'superliner', 'presentation', 'music', 'claimant', 'regain', 'prekindergarten', 'gouging', 'resultant', 'come', 'floor', 'incompatible', 'sporting', 'grassland', 'malt', 'bullion', 'battlefield', 'concerted', 'breakfast', 'gifted', 'talented', 'imbalance', 'nitrogen', 'oxide', 'systemic', 'infectious', 'flooding', 'governance', 'reservations', 'ross', 'crow', 'command', 'tourist', 'l', 'unmarried', 'ounce', 'portability', 'conquer', 'approximately', 'armory', 'testify', 'closed', 'runoff', 'semiarid', 'window', 'businessman', 'demolition', 'rat', 'morristown', 'hunter', 'leg', 'letter', 'avenue', 'profile', 'stimulus', 'adjudicate', 'ratification', 'wiretappe', 'subsurface', 'gasohol', 'immunize', 'preventable', 'platte', 'discontinue', 'marry', 'highland', 'hoover', 'regime', 'aspect', 'hatch', 'strict', 'consensus', 'minn', 'originate', 'reciprocal', 'martin', 'luther', 'atlanta', 'behavioral', 'andor', 'audio', 'q', 'cibola', 'wayne', 'depict', 'peck', 'properly', 'chetco', 'importing', 'natchez', 'thousand', 'sue', 'commemorative', 'core', 'erroneously', 'landowner', 'jefferson', 'gila', 'refinancing', 'landmark', 'policemen', 'reverse', 'fare', 'insurer', 'tragedy', 'exclusionary', 'recyclable', 'departure', 'hyacinth', 'exporter', 'lane', 'confidence', 'involuntarily', 'fourteenth', 'relinquish', 'laboratories', 'respective', 'classified', 'worldwide', 'main', 'stem', 'curtail', 'howard', 'taft', 'di', 'discover', 'airplane', 'salacious', 'equitably', 'amusement', 'erroneous', 'constellation', 'hartford', 'olympia', 'governing', 'pierce', 'oahe', 'albert', 'thicket', 'horizon', 'optometrist', 'rancheria', 'arrival', 'intangible', 'tile', 'solicit', 'nighttime', 'pueblo', 'grass', 'toy', 'bend', 'refusal', 'undergo', 'fear', 'aggravate', 'submerged', 'bequest', 'resale', 'underwriting', 'abuser', 'hog', 'oat', 'violator', 'tomb', 'tanker', 'headstart', 'hampshire', 'johnston', 'turbine', 'calculate', 'mixture', 'remuneration', 'fo', 'judgement', 'accommodate', 'arm', 'past', 'valuable', 'eighth', 'apache', 'expert', 'endeavor', 'jaw', 'sewerage', 'preparedness', 'stress', 'rapidly', 'significantly', 'inquiry', 'extract', 'proscribe', 'bypass', 'compromise', 'consortium', 'racketeering', 'par', 'print', 'revolution', 'divide', 'jackson', 'rigid', 'brevard', 'audits', 'intentionally', 'try', 'subpart', 'scarce', 'advise', 'inter', 'handle', 'usage', 'bridgeport', 'redefine', 'brown', 'ombudsman', 'u', 'sleep', 'asian', 'immunodeficiency', 'vulnerable', 'geophysical', 'grading', 'hostility', 'vulnerability', 'interruption', 'recordkeeping', 'cabin', 'forfeit', 'civilized', 'concentrate', 'conscience', 'pittman', 'robertson', 'layoff', 'tidal', 'projects', 'licensee', 'schoolbuse', 'disturbance', 'fe', 'enlargement', 'goose', 'behavior', 'wireless', 'realignment', 'reenacted', 'eventual', 'japanese', 'numbered', 'seventy', 'blight', 'nontaxable', 'neutral', 'ordinary', 'horticultural', 'nourishment', 'sundry', 'mateo', 'imaging', 'valid', 'bounty', 'reimbursable', 'promulgation', 'lupus', 'whale', 'colville', 'fishermens', 'investigator', 'insect', 'improvements', 'henry', 'engineer', 'tuna', 'obstacle', 'burn', 'defibrillator', 'confirmation', 'preservative', 'incorporation', 'custodial', 'deliberate', 'wellness', 'inappropriate', 'impound', 'nd', 'unique', 'speedy', 'amphetamine', 'servicemember', 'sequester', 'hay', 'prize', 'montgomery', 'transfusion', 'delegates', 'g', 'theater', 'medicinal', 'knoxville', 'memphis', 'accompany', 'traditional', 'freely', 'partnerships', 'reemployment', 'seaport', 'vision', 'childbirth', 'boiler', 'artistic', 'candidate', 'diagnose', 'labormanagement', 'favorable', 'examiner', 'unsound', 'mind', 'doc', 'fundamental', 'locally', 'trading', 'affectional', 'hourly', 'master', 'gaseous', 'earner', 'cohort', 'mormon', 'planned', 'parenthood', 'abridge', 'sites', 'tonnage', 'edible', 'crab', 'orchard', 'ins', 'reliance', 'snow', 'india', 'illicit', 'diminution', 'walter', 'perceive', 'rosa', 'aqueduct', 'negligence', 'break', 'farmworker', 'underserve', 'inconsistent', 'barbara', 'explore', 'loyalty', 'pharmacist', 'nonmailable', 'promise', 'margarine', 'depreciable', 'x', 'walrus', 'harmless', 'clearly', 'imminent', 'keys', 'frivolous', 'lanham', 'loophole', 'novel', 'reproductive', 'arthritis', 'determined', 'internship', 'immunization', 'cargoe', 'nongame', 'phaseout', 'restaurant', 'cadet', 'tier', 'hemisphere', 'hotline', 'ineligibility', 'ethical', 'resort', 'unlimited', 'ray', 'nonbasic', 'philippine', 'adjudication', 'coordinating', 'federalism', 'performer', 'ambulatory', 'continuity', 'contradictory', 'interdiction', 'bight', 'estuary', 'patronage', 'sales', 'lifetime', 'left', 'possibility', 'unsafe', 'adjoining', 'renter', 'estuarine', 'unitary', 'americas', 'multiemployer', 'irresponsible', 'unduly', 'corrective', 'farmhouse', 'oats', 'few', 'client', 'embezzle', 'onsite', 'clerical', 'prerequisite', 'website', 'livable', 'i', 'unintended', 'collateral', 'eightyfirst', 'concentrated', 'biology', 'pledge', 'priorities', 'unjust', 'difficulty', 'depressant', 'iraq', 'honorable', 'solicitation', 'intellectual', 'advocacy', 'appropriated', 'fetus', 'seriously', 'emphasize', 'offensive', 'unsolicited', 'send', 'surety', 'selected', 'prince', 'accumulate', 'renovate', 'representational', 'bald', 'flathead', 'acceptable', 'technologically', 'duck', 'psychotropic', 'saline', 'avail', 'surtax', 'fan', 'specified', 'wastewater', 'fiduciary', 'dedicated', 'prisons', 'injunction', 'jobs', 'injurious', 'contraception', 'acidification', 'deer', 'privatization', 'etc', 'geographical', 'bias', 'stand', 'bona', 'fide', 'commodities', 'gray', 'error', 'conservatorship', 'stratospheric', 'skin', 'denomination', 'lacey', 'needless', 'exhibition', 'cooperatives', 'round', 'venture', 'join', 'reparation', 'factfinde', 'accumulation', 'onshore', 'eviction', 'busing', 'thrift', 'semipublic', 'birmingham', 'superhighway', 'woodland', 'interpretive', 'defamation', 'cyber', 'symptom', 'brewery', 'minimal', 'udall', 'dulles', 'contempt', 'plaza', 'strip', 'badlands', 'ogdensburg', 'daniel', 'foodstuff', 'hair', 'alamos', 'postpartum', 'hyder', 'landlord', 'pamphlet', 'entryman', 'wait', 'aquarium', 'deplete', 'contraceptive', 'sender', 'panama', 'ca', 'raza', 'kidney', 'rockaway', 'pipe', 'uintah', 'entrepreneurial', 'gettysburg', 'monorail', 'nontidal', 'bethune', 'breastfeed', 'developmentally', 'adulterated', 'cyclamate', 'photograph', 'transparent', 'colored', 'shrimp', 'pharr', 'binding', 'grantee', 'asthma', 'ballistic', 'reinvest', 'sprawl', 'corruption', 'pornography', 'montauk', 'nutrient', 'aerial', 'dormitory', 'announce', 'aide', 'assest', 'conducive', 'roof', 'root', 'bromide', 'bone', 'punishable', 'stormwater', 'camden', 'transient', 'broker', 'geriatric', 'concert', 'surcharge', 'cheese', 'paralysis', 'slavery', 'back', 'ru', 'conversation', 'burns', 'phencyclidine', 'microbial', 'psoriasis', 'quintuplet', 'fin', 'nondegradable', 'elwha', 'flouroacetate', 'smartphone', 'margarita', 'pendleton', 'liaison', 'transportational', 'glenbrook', 'niobrara', 'tokens', 'slug', 'disk', 'zoo', 'heater', 'putative', 'conformity', 'pr', 'communicable', 'organizational', 'decisionmaking', 'ana', 'submarginal', 'penetrate', 'yankton', 'ponca', 'places', 'demobilization', 'decertify', 'recall', 'conditional', 'clearance', 'osage', 'daughter', 'pinyon', 'juniper', 'killer', 'rangeland', 'noneconomic', 'regents', 'gustavus', 'raleigh', 'frank', 'paraprofessional', 'rewarding', 'n', 'las', 'tinicum', 'alleviation', 'titles', 'oneill', 'inconsistency', 'olympic', 'hancock', 'refrain', 'creat', 'flame', 'resilience', 'drama', 'newburyport', 'postage', 'scholar', 'extinguishment', 'outcrop', 'phrase', 'dismal', 'vitality', 'percentum', 'homeowners', 'reyes', 'governments', 'hydraulic', 'grove', 'uinta', 'trustees', 'navaho', 'pricesupport', 'derivative', 'prion', 'masters', 'exacerbate', 'infestation', 'morris', 'researcher', 'bonds', 'sr', 'systems', 'epidemic', 'inundate', 'array', 'targeted', 'serving', 'cascades', 'glacier', 'peak', 'pollock', 'testimonial', 'thaddeus', 'yolo', 'nonmanufacturing', 'j', 'papayas', 'last', 'inventoried', 'roadless', 'operations', 'disallowance', 'chain', 'carp', 'politic', 'vaccinate', 'brucellosis', 'jamaica', 'crack', 'gear', 'reputation', 'retrospective', 'gay', 'assassination', 'soilerosion', 'redwater', 'iraqi', 'enduring', 'relinquishment', 'orthopedic', 'detrimental', 'counterfeit', 'tamper', 'dogfish', 'isolated', 'protest', 'provi', 'acknowledgment', 'domicile', 'uninsured', 'sixth', 'kenosha', 'reflector', 'respectively', 'detain', 'incompetent', 'read', 'enumerate', 'seclusion', 'winter', 'directory', 'pastureland', 'height', 'understandable', 'aanend', 'bluff', 'love', 'van', 'mammoth', 'downstream', 'recombinant', 'desecration', 'kings', 'robbery', 'ease', 'deficient', 'reconveyance', 'hempstead', 'archives', 'firework', 'floodway', 'tampa', 'bradenton', 'punta', 'gorda', 'naples', 'johnstown', 'colusa', 'conduit', 'clarification', 'nonindigenous', 'stockyard', 'couple', 'clerk', 'helens', 'charles', 'powered', 'sandia', 'airports', 'counteraction', 'erodible', 'switchblade', 'rain', 'trusteeship', 're', 'trace', 'underage', 'reciprocating', 'engines', 'compression', 'ignition', 'reciprocate', 'haven', 'inappropriately', 'vary', 'antidumping', 'seventyninth', 'unite', 'disqualification', 'sitka', 'hail', 'prescribed', 'luis', 'firemen', 'molestation', 'safely', 'commute', 'shipowner', 'biomedical', 'tuttle', 'frozen', 'hunger', 'malnutrition', 'outbreak', 'pepper', 'lloyd', 'collins', 'defamatory', 'harmony', 'deadly', 'sawtooth', 'narrow', 'graze', 'strikebreaker', 'eugene', 'load', 'expressway', 'antiquities', 'vi', 'yukon', 'evict', 'aging', 'inferior', 'sunlight', 'dutch', 'elm', 'fifteenth', 'consultant', 'interjurisdictional', 'carcass', 'brooklyn', 'relating', 'elapse', 'manipulation', 'warfare', 'cervical', 'adjutant', 'ultimately', 'widower', 'bureaus', 'crash', 'homes', 'sanctions', 'biscayne', 'unsubsidized', 'decide', 'sault', 'sainte', 'marie', 'marys', 'gaming', 'strength', 'resiliency', 'widening', 'mouth', 'separately', 'pumping', 'beaver', 'morrill', 'crippled', 'watermelon', 'grandparent', 'catalyze', 'floodcontrol', 'curfew', 'passive', 'states', 'accidental', 'sam', 'rayburn', 'financially', 'responsive', 'induce', 'acquired', 'israeli', 'inheritance', 'traverse', 'appearance', 'rabbit', 'penalize', 'purity', 'anal', 'tr', 'validity', 'jobber', 'log', 'arson', 'flaxseed', 'usury', 'unknowns', 'motorcoach', 'advisers', 'complication', 'coordinator', 'flyway', 'legacy', 'guilty', 'years', 'nut', 'salton', 'alamo', 'imperial', 'proportionate', 'prescribing', 'fluoridation', 'math', 'butte', 'semiperishable', 'childrens', 'landless', 'induction', 'disruptive', 'unmanned', 'warm', 'proviso', 'affiliation', 'explain', 'boise', 'payette', 'sudden', 'ratemake', 'reassignment', 'beauty', 'chattahoochee', 'input', 'divorce', 'wholesomeness', 'seattle', 'true', 'proliferation', 'spousal', 'predecessor', 'grange', 'mobilize', 'exhibit', 'ordain', 'exotic', 'avian', 'warren', 'colleges', 'universities', 'diplomatic', 'subcommittee', 'sabbatical', 'inexpensive', 'oglala', 'owyhee', 'colonial', 'olin', 'debris', 'laguna', 'redeemable', 'nonimmigrant', 'concept', 'forthe', 'bandelier', 'beautification', 'miscellaneous', 'mt', 'waterpower', 'aleutian', 'tie', 'visually', 'delimit', 'perpetrator', 'flue', 'solve', 'proclamation', 'exterior', 'map', 'miles', 'lowcost', 'portsmouth', 'editorial', 'steady', 'cosigner', 'suffrage', 'gainful', 'perspective', 'futures', 'communistfront', 'meter', 'dose', 'inhaler', 'physicians', 'teenaged', 'unknown', 'disqualify', 'diverse', 'square', 'dredging', 'circulate', 'diethylstilbestrol', 'wichita', 'eddy', 'southwest', 'inspectors', 'exam', 'kendall', 'mohair', 'shearing', 'justify', 'smokeless', 'sonoran', 'intoxicate', 'uniformly', 'cast', 'corporations', 'logan', 'nelsonville', 'vacant', 'infect', 'fence', 'goshute', 'rod', 'duplicative', 'colo', 'edwin', 'endorsement', 'gallon', 'simultaneously', 'prosthesis', 'obesity', 'consummate', 'preconstruction', 'contrary', 'abrogate', 'clatsop', 'zones', 'dwight', 'eisenhower', 'archeological', 'berth', 'recorder', 'shorten', 'refresher', 'journal', 'onion', 'extensive', 'sore', 'exaction', 'corrections', 'variance', 'press', 'transplant', 'renal', 'passamaquoddy', 'guidelines', 'fertility', 'unplanned', 'motorist', 'riod', 'willfully', 'intercoastal', 'placarding', 'caregiver', 'ky', 'bainbridge', 'merge', 'epidemiological', 'fulfill', 'arsenal', 'subsidence', 'basins', 'byram', 'watercraft', 'adequacy', 'taxing', 'libby', 'greater', 'yellowstone', 'paleontological', 'botanical', 'artifact', 'advantage', 'prospect', 'longitudinal', 'platform', 'ocala', 'establishmentof', 'bidding', 'wasteful', 'biotechnology', 'lodge', 'w', 'industries', 'shenandoah', 'croix', 'collapse', 'remit', 'placing', 'recourse', 'plateau', 'deserts', 'belle', 'fourche', 'educationally', 'depositing', 'lolo', 'anchorage', 's', 'oversee', 'daii', 'reprisal', 'distinguished', 'resemble', 'spur', 'rhode', 'underrepresente', 'pentagon', 'shirley', 'natives', 'directors', 'inclusive', 'gate', 'keystone', 'hills', 'padre', 'erect', 'barbiturate', 'insulation', 'ventre', 'geologic', 'baca', 'levitation', 'carlos', 'barrancas', 'publichealth', 'diploma', 'assert', 'purposesof', 'serum', 'hepatitis', 'edge', 'esthetic', 'recreatio', 'calumet', 'god', 'reopen', 'inability', 'stockholder', 'scheduling', 'artichoke', 'vinegar', 'acetic', 'holiday', 'durum', 'preemption', 'optimize', 'filtration', 'fa', 'frost', 'underplante', 'nondefense', 'southeast', 'beale', 'interceptor', 'hood', 'inside', 'fact', 'parachute', 'marshals', 'accuse', 'warning', 'everett', 'evaluating', 'success', 'contravention', 'confinement', 'jail', 'legalization', 'pollute', 'fork', 'luxury', 'obnoxious', 'mary', 'wasatch', 'underutilize', 'ot', 'ancient', 'nonfederal', 'insufficient', 'secretarv', 'distinction', 'elective', 'biobase', 'fox', 'boston', 'outlook', 'revive', 'limitat', 'forward', 'bomb', 'plasma', 'actuarial', 'airborne', 'implication', 'pearl', 'longshore', 'tube', 'psychiatrist', 'okefenokee', 'bankrupt', 'incarcerated', 'ass', 'necessitate', 'fn', 'identifying', 'compilation', 'tug', 'dimension', 'agri', 'locomotive', 'coinage', 'lightweight', 'pioneer', 'inhabitant', 'tailing', 'drill', 'quinn', 'succession', 'equally', 'stage', 'incorporated', 'advertise', 'twentieth', 'ice', 'roadway', 'sheriff', 'reapportionment', 'maternity', 'negro', 'replant', 'inactive', 'retrofit', 'antonio', 'operators', 'legally', 'mckenzie', 'straight', 'alexandria', 'waterfront', 'pooling', 'soup', 'ephedrine', 'frontier', 'harry', 'delegation', 'shell', 'stricken', 'chiropractor', 'cie', 'permission', 'scholars', 'skagway', 'poi', 'duct', 'velocity', 'conditioning', 'postschool', 'likely', 'earmark', 'celebration', 'malicious', 'metro', 'pistol', 'acute', 'grasshopper', 'afterschool', 'accurately', 'directive', 'unimproved', 'ho', 'redevelop', 'wabash', 'willow', 'vested', 'affirmative', 'devaluation', 'baldwin', 'hospice', 'expulsion', 'dams', 'tractor', 'maybe', 'staple', 'alexander', 'pattern', 'polar', 'towboat', 'unwanted', 'lac', 'du', 'offenses', 'ment', 'ryan', 'bid', 'securing', 'workfare', 'commuter', 'correspond', 'homesteading', 'psychologist', 'navigability', 'methods', 'comparative', 'baggage', 'wrightsville', 'piracy', 'harvester', 'venue', 'roadbed', 'itemized', 'dispersant', 'servitude', 'continuing', 'dominate', 'dislocate', 'kitchen', 'wetlands', 'sharply', 'comment', 'lethal', 'subsoil', 'humanitarian', 'vigorous', 'rulemaking', 'respiratory', 'hardest', 'hit', 'demolish', 'semiautomatic', 'launch', 'prominently', 'potency', 'adaptive', 'alice', 'registrar', 'irish', 'uniformity', 'dye', 'corridors', 'profitability', 'wish', 'segregated', 'helper', 'detailed', 'inducement', 'covenant', 'eighty', 'shipper', 'metallic', 'quarry', 'proficient', 'readily', 'stablization', 'committeeman', 'chiropractic', 'sir', 'giving', 'privileges', 'sailor', 'required', 'superconducte', 'super', 'collider', 'predict', 'abrupt', 'vt', 'hubert', 'humphrey', 'stipend', 'avai', 'lever', 'baccalaureate', 'policing', 'provisional', 'districts', 'condemn', 'memory', 'fitzgerald', 'su', 'broadcasting', 'auditing', 'longterm', 'expertise', 'lawless', 'intercollegiate', 'neglect', 'ionize', 'payer', 'chicken', 'limita', 'ing', 'identifier', 'alleged', 'misconduct', 'longstanding', 'preschool', 'realty', 'hospitals', 'reservist', 'factual', 'progressive', 'basketball', 'intercept', 'erythematosus', 'recodify', 'voice', 'livelihood', 'dissolution', 'usual', 'repeat', 'bowling', 'alley', 'billiard', 'streamlined', 'jellyfish', 'consult', 'inherent', 'draw', 'gambling', 'leaking', 'plentiful', 'unanticipated', 'definitive', 'phenylpropanolamine', 'hull', 'apparel', 'strictly', 'troop', 'compensatory', 'americanism', 'freshwater', 'conglomerate', 'harass', 'counternarcotic', 'ruralareas', 'grays', 'fighter', 'associated', 'redesignation', 'soon', 'inequality', 'eleme', 'oceans', 'phasing', 'hallucinogenic', 'suspect', 'majority', 'reclaimed', 'anabolic', 'photovoltaic', 'scholarly', 'seventh', 'spring', 'nomination', 'competency', 'dementia', 'reveal', 'theory', 'annuitant', 'slaughtering', 'hci', 'formal', 'anticipate', 'wave', 'kauai', 'payee', 'plumbing', 'arbitrary', 'anaerobic', 'underrepresented', 'schoolteacher', 'cosmetics', 'wife', 'interstatecommerce', 'dignity', 'confession', 'taxexempt', 'durable', 'path', 'biannual', 'density', 'bloc', 'imply', 'optimum', 'developer', 'servicemembers', 'annum', 'depart', 'aftermarket', 'equalized', 'fairport', 'hass', 'avocado', 'peninsula', 'nonmedical', 'propaganda', 'elevate', 'members', 'hydrokinetic', 'habit', 'ontario', 'rehabilitative', 'attitude', 'hawk', 'scouts', 'coerce', 'decedent', 'opioid', 'combined', 'nonmetropolitan', 'renegotiate', 'mixed', 'lady', 'teenage', 'leverage', 'internationally', 'speculation', 'chemistry', 'presume', 'foreseeable', 'introduce', 'desalination', 'appraiser', 'dealing', 'departmental', 'informatic', 'substitution', 'counselor', 'racketeer', 'gradual', 'inflationary', 'novo', 'matsunaga', 'intrusion', 'butter', 'bottle', 'bachelor', 'airways', 'naturally', 'wine', 'compounding', 'software', 'publicity', 'appropriating', 'functional', 'lottery', 'zero', 'sovereign', 'daytime', 'visibility', 'spawning', 'unhealthy', 'domiciliarie', 'broadband', 'extortion', 'unconditional', 'methane', 'tabor', 'declassification', 'lapse', 'thorough', 'chrysler', 'rest', 'photo', 'underlie', 'survivors', 'appreciation', 'outof', 'protein', 'one', 'palliative', 'oahu', 'supplementation', 'seasonal', 'telemarketing', 'nene', 'refine', 'therefrom', 'lishment', 'lessee', 'reef', 'pro', 'greatly', 'workshop', 'honest', 'diseased', 'unwholesome', 'pu', 'sensitivity', 'octane', 'worship', 'tox', 'visa', 'smuggling', 'consequence', 'arthropod', 'fencing', 'truman', 'intermediary', 'revolve', 'cruelty', 'baseball', 'summit', 'persons', 'constructive', 'supervisor', 'spot', 'predictable', 'copeland', 'bioterrorism', 'domination', 'dismantle', 'indecent', 'semipostal', 'thirty', 'chestnut', 'estimates', 'multiyear', 'exceptional', 'conformance', 'beet', 'mainland', 'cane', 'girl', 'boy', 'cabaret', 'effectuate', 'elder', 'silvio', 'conte', 'underdeveloped', 'alienation', 'swimming', 'skate', 'rink', 'deferral', 'sensory', 'slow', 'out', 'lay', 'staten', 'painful', 'averaging', 'finger', 'passport', 'funded', 'indigenous', 'sunscreen', 'skills', 'biodiesel', 'extinguish', 'soundness', 'solvent', 'chlorinated', 'matters', 'digital', 'prosperity', 'packing', 'mechanical', 'nonpetroleum', 'chlorofluorocarbon', 'athlete', 'condemnee', 'stakeholder', 'guardian', 'rita', 'braille', 'prepared', 'uncompensated', 'mate', 'rial', 'nonemergency', 'intrusive', 'elk', 'conforming', 'existing', 'sclerosis', 'publicschool', 'wastes', 'calling', 'passyunk', 'photographic', 'drugs', 'ratepayer', 'whichever', 'conscientiously', 'ready', 'appraise', 'emotional', 'counterintelligence', 'rollover', 'lump', 'meaning', 'absentee', 'propagation', 'afflict', 'clementine', 'aquifer', 'characterization', 'commercialize', 'brutality', 'un', 'corresponding', 'rationing', 'cement', 'expensing', 'colonias', 'vegetation', 'gasification', 'formulation', 'agreements', 'clerkship', 'polling', 'noncash', 'undermine', 'formulate', 'mapping', 'famine', 'piece', 'hundredth', 'yucca', 'moderateincome', 'image', 'lockout', 'mall', 'ginnie', 'policymake', 'foreclose', 'inhibit', 'utilities', 'forgive', 'fertilization', 'seal', 'nonfarm', 'extremity', 'fingerprint', 'preborn', 'schoolbus', 'fighting', 'homebuilding', 'medicarechoice', 'lee', 'react', 'harborage', 'pistachio', 'enjoin', 'tracy', 'banish', 'quantitative', 'dorado', 'ironton', 'berlin', 'bands', 'mountrail', 'greens', 'plantship', 'projectile', 'firewood', 'laurel', 'cooper', 'sunday', 'clackamas', 'dimethyl', 'arms', 'disarmament', 'detergent', 'soda', 'sisseton', 'bicentennial', 'opera', 'mirage', 'hoh', 'polychlorinate', 'biphenyls', 'tribally', 'superintendent', 'tide', 'computing', 'scalp', 'morro', 'lummi', 'dike', 'huntley', 'playground', 'clinch', 'breeder', 'chilocco', 'coralville', 'disinvestment', 'sturgis', 'citrus', 'anthony', 'bowen', 'hexafluoride', 'dinosaur', 'annapolis', 'trip', 'blackfeet', 'pleasanton', 'lauderdale', 'benbrook', 'zion', 'reservior', 'vermejo', 'algae', 'noxubee', 'kiwifruit', 'paoli', 'brandywine', 'decatur', 'marks', 'obstetrical', 'parturient', 'hogan', 'planter', 'vienna', 'expunge', 'organotin', 'cambridge', 'quinault', 'predecease', 'ac', 'desalinization', 'domesticate', 'salmonid', 'trent', 'ltd', 'tonkawa', 'copayment', 'nitrite', 'submersible', 'cowlitz', 'escape', 'syrup', 'premature', 'brake', 'chennault', 'moclips', 'hostel', 'noncontiguous', 'bolt', 'applicator', 'ginger', 'queens', 'trillion', 'silicone', 'modeling', 'diode', 'centrifuge', 'gallup', 'notarization', 'belligerent', 'fowl', 'presidio', 'ed', 'spelling', 'antirecession', 'clinton', 'writing', 'webless', 'mukilteo', 'newsprint', 'halibut', 'spinal', 'cord', 'caliber', 'elephant', 'ofproducer', 'suburban', 'bedford', 'liquefaction', 'filbert', 'memorandum', 'moratoria', 'optimal', 'cheddar', 'debate', 'infusion', 'gum', 'visiting', 'extinction', 'interview', 'cherry', 'continetal', 'specification', 'drawing', 'olathe', 'nutria', 'senatobia', 'quantities', 'naturalization', 'satellite', 'seedling', 'perennial', 'unsolved', 'westward', 'bonding', 'onondaga', 'allentown', 'chaplain', 'woolen', 'worsted', 'fabric', 'campfire', 'mcmurdo', 'antarctica', 'colon', 'disburse', 'revene', 'lb', 'shape', 'unexploited', 'underexploited', 'impartial', 'opiate', 'mcgirts', 'acadia', 'nonstructural', 'overcrowding', 'loca', 'servicemen', 'farmlabor', 'wheeling', 'rosebud', 'siouxtribe', 'serviceconnection', 'commu', 'nism', 'infederal', 'prosecutionand', 'andfor', 'rogue', 'stockbridge', 'munsee', 'gavins', 'buslng', 'mad', 'discharging', 'villages', 'sate', 'ofa', 'evansville', 'simple', 'mcclintock', 'williams', 'waterloo', 'stone', 'servant', 'creditability', 'tears', 'gloria', 'swedes', 'abut', 'soviet', 'hundredweight', 'nongeneric', 'distinctive', 'ribbon', 'forveteransofservice', 'livingincrease', 'overthrow', 'midst', 'serial', 'forage', 'smithsonianinstitution', 'noncompensatory', 'underselling', 'fredericksburg', 'spotsylvania', 'rockland', 'complaiat', 'pract', 'full', 'cienegas', 'andprovide', 'cotto', 'na', 'ington', 'chair', 'inherently', 'bert', 'dosh', 'ansley', 'wilcox', 'exterlar', 'berthold', 'assessm', 'randall', 'expanded', 'auditorium', 'cystic', 'fibrosis', 'multispecies', 'reckless', 'subterranean', 'passageway', 'christiansted', 'coincide', 'reveste', 'reconveye', 'coos', 'wagon', 'mailman', 'flee', 'any', 'patron', 'alluvial', 'ashford', 'climatological', 'expressly', 'bulletproof', 'matte', 'menopausal', 'custis', 'mansion', 'explanatory', 'windstorm', 'kalb', 'canyons', 'escalante', 'locator', 'tan', 'lengthening', 'fame', 'petersburg', 'kaiulani', 'differ', 'depositor', 'replicate', 'produc', 'fracturing', 'phenoxy', 'corregidor', 'bataan', 'pleasant', 'ruminant', 'tombigbeetennessee', 'tribaland', 'radius', 'kk', 'oxygen', 'clock', 'likelihood', 'proteinaceous', 'particle', 'transmissible', 'bark', 'beetle', 'reinvigorate', 'sif', 'oidak', 'chuichu', 'intracoastal', 'arthur', 'bravo', 'coverdell', 'aerronautics', 'pasayten', 'ruth', 'citation', 'undistributed', 'lovejoy', 'topsail', 'estbalish', 'kosciuszko', 'shipboard', 'hazing', 'fatality', 'cycad', 'otherpuce', 'affidavit', 'bighead', 'bullis', 'theexisting', 'tulelake', 'paratuberculosis', 'reno', 'sparks', 'muliple', 'crowne', 'kingston', 'colin', 'powell', 'phillipsburg', 'elkhart', 'lesbian', 'manmade', 'twin', 'grantsin', 'frequently', 'musselshell', 'judith', 'prorgam', 'reunification', 'schuylkill', 'quitclaiming', 'barcelona', 'nonresidential', 'shawnee', 'alfred', 'fractionated', 'heirship', 'shoe', 'abnormality', 'ramiein', 'prototype', 'statehood', 'alask', 'pornographic', 'bautista', 'anza', 'tenure', 'texoma', 'rack', 'catba', 'appelate', 'jewel', 'pantego', 'cucklers', 'pike', 'easterly', 'coushatta', 'nece', 'conatruction', 'expungement', 'anticipated', 'bozeman', 'situated', 'duchesne', 'randlett', 'myton', 'amass', 'raising', 'greers', 'soilbank', 'mrs', 'oteein', 'foxworth', 'stencil', 'cm', 'inch', 'underscore', 'uncover', 'facilitie', 'retary', 'fundy', 'stanley', 'dodge', 'stonington', 'suitability', 'ox', 'nonviolent', 'overriding', 'easy', 'tq', 'disenfranchised', 'rodent', 'jeff', 'scotts', 'communicate', 'fallon', 'riverway', 'hook', 'irregular', 'spindletop', 'gulley', 'housetrailer', 'rogers', 'boulder', 'relicte', 'mace', 'suchrohib', 'validation', 'emerge', 'minneapolis', 'lookout', 'voir', 'dire', 'powder', 'meredith', 'baxter', 'morrow', 'kerin', 'clarks', 'nassau', 'oceanside', 'loading', 'unloading', 'olicy', 'cooeration', 'dedication', 'lain', 'rotect', 'entrada', 'pacifico', 'rescheduling', 'cannabidiol', 'unharvested', 'niagara', 'birthplace', 'welk', 'bonded', 'fees', 'awards', 'tehama', 'blooms', 'monopoly', 'sly', 'placerville', 'yeas', 'dredged', 'acti', 'bread', 'sikes', 'ingestion', 'redress', 'vendor', 'ance', 'biographical', 'designer', 'barter', 'joes', 'choctawhatchee', 'harney', 'allottee', 'intestate', 'heir', 'escheat', 'acreageallotment', 'pinckney', 'wright', 'brother', 'hardin', 'ohara', 'midway', 'reacquire', 'yard', 'ornament', 'mascot', 'abducted', 'puppy', 'assiniboine', 'antipollution', 'nonpublic', 'disclousure', 'advances', 'therailroad', 'uninoorporated', 'extensionsystem', 'this', 'freebase', 'capitation', 'waivere', 'hawaiians', 'preven', 'elizabeth', 'rebuilt', 'realign', 'reallocate', 'bedrock', 'bolster', 'diplomacy', 'nurture', 'intercountry', 'lap', 'meander', 'meand', 'front', 'bro', 'waiter', 'republics', 'nonprofessional', 'shawneetown', 'burglary', 'defibrillation', 'miccosukee', 'cod', 'milling', 'camping', 'portfolio', 'subprime', 'inforniation', 'tom', 'steed', 'conditioner', 'publishing', 'posting', 'mesa', 'verde', 'othernaturaldisaster', 'inyo', 'verrazano', 'narrows', 'combustible', 'lawfully', 'policewoman', 'hammond', 'georgetown', 'shivwits', 'recomputation', 'felonious', 'evaluations', 'selecting', 'counterdrug', 'nonperformance', 'other', 'urpose', 'gillis', 'hansen', 'huntington', 'eva', 'fellows', 'enforceable', 'socalled', 'walshhealey', 'pattison', 'moakley', 'lundine', 'lehman', 'holtzman', 'ertel', 'ottinger', 'carney', 'deerlin', 'eilberg', 'mazzoli', 'mikulski', 'kildee', 'beilenson', 'arouse', 'intergroup', 'commuting', 'profits', 'tae', 'memaloose', 'dalles', 'psychosis', 'downward', 'pinacles', 'beinclude', 'impute', 'powdered', 'ottawa', 'resume', 'ant', 'manaiar', 'suchiir', 'veterinarians', 'specialize', 'rolling', 'stronghold', 'luz', 'irrig', 'scottsbluff', 'tower', 'houston', 'clair', 'engle', 'taylor', 'cannadian', 'handicraft', 'clothing', 'ladd', 'eielson', 'kaunakakai', 'molokai', 'prermitte', 'stilbestrol', 'impla', 'noncombat', 'constructio', 'pechanga', 'luiseno', 'factory', 'lufkin', 'gong', 'thomas', 'showing', 'organizat', 'caller', 'guards', 'nonsensitive', 'monica', 'commensurate', 'lawenforcement', 'cheirman', 'fallout', 'harrisburg', 'respectful', 'brownwood', 'pecan', 'dickinson', 'salinity', 'stripper', 'london', 'gander', 'newfoundland', 'aggrieve', 'reusable', 'prima', 'facie', 'cameo', 'theatre', 'mitchell', 'dealter', 'prefer', 'varied', 'ira', 'maclachian', 'legion', 'standardized', 'eulia', 'rodriquez', 'units', 'licensure', 'promising', 'chamizal', 'deepening', 'straighten', 'shreveport', 'denison', 'caddo', 'parenteral', 'diacetylmorphine', 'intractable', 'vess', 'capper', 'volstead', 'plc', 'explosion', 'sinking', 'andes', 'marty', 'limitingthe', 'nome', 'carlton', 'angel', 'cooperatively', 'substantive', 'lytton', 'georges', 'extrajudicial', 'nonconventional', 'terniill', 'vvar', 'ichnisioli', 'pillilic', 'roanoke', 'chronological', 'farmington', 'dyberry', 'disappointment', 'profitshare', 'selfemploye', 'hydrolysate', 'ribal', 'educationor', 'trafne', 'hansens', 'witch', 'aspirin', 'cautionary', 'unpackaged', 'mcgee', 'angelina', 'wakulla', 'hughes', 'officers', 'filter', 'naturalize', 'boycott', 'fractional', 'obispo', 'lucia', 'angora', 'distillate', 'prorate', 'fibe', 'stinson', 'columbus', 'loundes', 'hayes', 'wilmington', 'chan', 'he', 'palmetto', 'navidad', 'texana', 'impr', 'logging', 'incendiarism', 'hatred', 'mestic', 'scrapie', 'apprehension', 'eternal', 'liquidate', 'badge', 'reconnaissance', 'sidney', 'continuous', 'nicotine', 'fishway', 'progression', 'tule', 'kidnap', 'shallotte', 'credential', 'tung', 'seney', 'moosehorn', 'fiat', 'salem', 'mcnary', 'asistance', 'frog', 'decorative', 'hearth', 'anasazi', 'evaporation', 'dispensing', 'sulfoxide', 'ingredient', 'sulfide', 'internation', 'excellent', 'simultaneous', 'misclassify', 'pecos', 'ephraim', 'throughproject', 'practicesof', 'thissideofheaven', 'amendatory', 'pawnee', 'boarding', 'mowa', 'pauper', 'expenses', 'jacinto', 'organiza', 'retrofitting', 'repowering', 'mothers', 'woods', 'polyphosphate', 'purple', 'wupatki', 'ruin', 'estuarlne', 'ear', 'unremarried', 'conveyanceof', 'seafarers', 'bosque', 'socorro', 'cities', 'freeport', 'convenient', 'routine', 'meth', 'reactors', 'postwar', 'spreading', 'newcastle', 'thequality', 'verifiable', 'nonfuel', 'flagstaff', 'youngsville', 'sheffield', 'proprietorship', 'primitive', 'crater', 'lubbock', 'customize', 'wahpeton', 'beneath', 'gull', 'outflow', 'envirnomental', 'approprtation', 'tohoku', 'earthquake', 'tsunami', 'unusually', 'reacquisition', 'theinterior', 'phosphate', 'swap', 'electrolyte', 'drycharge', 'acceptande', 'smallpox', 'nppropriation', 'ofnorth', 'dogs', 'bentonite', 'commissioned', 'reexamination', 'pensacola', 'rep', 'obtaintable', 'executor', 'habilitation', 'facili', 'ticularly', 'mentallyretarded', 'voca', 'interchange', 'schooling', 'accomack', 'familiar', 'tend', 'ninth', 'billboard', 'sequoia', 'cochiti', 'inclusi', 'devastating', 'hole', 'custer', 'onliberal', 'corregidorbataan', 'excavation', 'landssituate', 'crawford', 'rezewal', 'ofportsmouth', 'southside', 'schedules', 'therate', 'limitationson', 'lab', 'airship', 'hollings', 'censorship', 'coosa', 'erle', 'howe', 'noninflationary', 'sublette', 'reimpose', 'gallipolis', 'locks', 'navigational', 'expeditiously', 'reports', 'justifiable', 'bismarck', 'karst', 'lewistown', 'thematically', 'surveying', 'teshekpuk', 'utukok', 'documentary', 'insightful', 'audience', 'injuriously', 'propellant', 'baltimorewashington', 'suitland', 'inte', 'thefederal', 'tun', 'mobility', 'perimeter', 'underplanted', 'unfavorable', 'slows', 'comanche', 'interoperable', 'resistance', 'lafayette', 'everglades', 'harbors', 'ju', 'emblematic', 'booker', 'altamont', 'lawrenceville', 'upholstered', 'furniture', 'mattress', 'bedclothing', 'candle', 'ancillary', 'spearfish', 'promotant', 'cheney', 'polytechnic', 'haskell', 'stamford', 'knights', 'commanders', 'temple', 'solomon', 'mica', 'beryl', 'taxpayment', 'nehalem', 'predeployment', 'postdeployment', 'saturday', 'athenia', 'authorlty', 'blunt', 'leaseholder', 'relgious', 'invalidate', 'unanimous', 'users', 'admissibility', 'manatees', 'manatee', 'brevetoxin', 'amendrelief', 'gianbattista', 'unrequested', 'mutilate', 'defile', 'beaches', 'yampa', 'darn', 'switch', 'blade', 'municipally', 'arrowrock', 'seventeen', 'edition', 'catfish', 'characteristic', 'concerned', 'chatfield', 'alewife', 'altus', 'admittance', 'permanency', 'unaccompanied', 'stroke', 'rescurce', 'sisters', 'inure', 'directed', 'liter', 'intake', 'diem', 'monuments', 'intimidate', 'nonsmoker', 'darby', 'routt', 'modoc', 'alopecia', 'areata', 'houseboat', 'float', 'centralized', 'shasta', 'harpers', 'deepen', 'colgan', 'dependant', 'howards', 'librarian', 'caboose', 'arena', 'stornetta', 'brackish', 'subordinate', 'cairn', 'expedition', 'okaloosa', 'firemens', 'conin', 'iconnection', 'sardis', 'allard', 'lowenstein', 'nonhazardous', 'teen', 'mint', 'assessing', 'stateroom', 'meadow', 'altitude', 'opium', 'metric', 'restate', 'geode', 'diffuse', 'auth', 'saguaro', 'remover', 'seismic', 'periodical', 'handcraft', 'kid', 'acidity', 'craters', 'moon', 'establishing', 'monticello', 'berryessa', 'dialysis', 'presley', 'labreche', 'palmdale', 'commentary', 'impotence', 'verdict', 'radionuclide', 'fryingpan', 'agricultu', 'oklawaha', 'macadamize', 'newell', 'normally', 'assateague', 'carson', 'unconstitutional', 'portrait', 'gallerv', 'commixlion', 'redwing', 'koscluszko', 'formaldehyde', 'faci', 'gress', 'mod', 'ernization', 'blackfoot', 'trifluor', 'omethoxyphenyl', 'nchlorocarbonyl', 'carbamate', 'ininterstate', 'wainwright', 'fairbanks', 'linden', 'covington', 'renaming', 'lineal', 'ancestor', 'weas', 'plankashaws', 'peorias', 'kaskaskfas', 'unlined', 'ditch', 'opportunistic', 'irrigable', 'socialspeurity', 'aidprogram', 'assit', 'sever', 'freedmen', 'disenfranchise', 'assawoman', 'whites', 'acting', 'aldo', 'leopold', 'mamaroneck', 'sheldrake', 'anne', 'arundel', 'marshalls', 'inteinal', 'olympics', 'best', 'buddies', 'mentor', 'proraan', 'dane', 'peaks', 'arapaho', 'selway', 'bitterroot', 'sessions', 'petit', 'summons', 'preventative', 'sickle', 'kootenai', 'definite', 'tllinois', 'illinoi', 'ann', 'arbor', 'usufructuary', 'motorboat', 'sacrifice', 'atchafalaya', 'ngeocie', 'commoditiesbe', 'edgar', 'identificationof', 'yellow', 'tongass', 'timberland', 'whiskeytown', 'evident', 'ouse', 'specifica', 'curecanti', 'infested', 'infest', 'emerald', 'borer', 'tremonti', 'dedevelopment', 'certificating', 'olmste', 'brookline', 'proximity', 'wills', 'erythematosis', 'dispersion', 'collide', 'analogue', 'treasonable', 'crooked', 'acupuncture', 'swain', 'metabolic', 'retard', 'dependents', 'keweenaw', 'lambiance', 'anact', 'shorelands', 'siuslaw', 'cowpens', 'battleground', 'vegetative', 'arboretum', 'boneval', 'latrobe', 'patriots', 'petrified', 'boothill', 'modest', 'genetically', 'secretor', 'initialenrollment', 'suchtitle', 'kenneth', 'laughlin', 'benchmark', 'housebound', 'sunnyside', 'tieton', 'carryout', 'sunburn', 'ivy', 'dermatitis', 'adventure', 'acquis', 'dallas', 'participating', 'urbiculture', 'budgeting', 'flushing', 'taggant', 'detonation', 'presidents', 'brunswick', 'decontamination', 'allotted', 'fullblood', 'messeage', 'look', 'alike', 'imitation', 'arisin', 'tigua', 'allegedly', 'rungius', 'suffern', 'hoboken', 'lackawanna', 'noninvestment', 'tail', 'thorium', 'ifember', 'certain', 'reclaim', 'worksto', 'narragansett', 'gleason', 'robinson', 'ely', 'nev', 'des', 'moines', 'taxes', 'nat', 'tonal', 'supersede', 'affecting', 'possesion', 'baltimore', 'yorktown', 'williamsburg', 'nonnuc', 'grasslands', 'billings', 'delight', 'sensible', 'tour', 'handicapp', 'epinephrine', 'usefulness', 'pipelines', 'lyman', 'converted', 'broadcast', 'allegany', 'housin', 'cheaha', 'talladega', 'leon', 'gavin', 'interlocutory', 'imas', 'kwajalein', 'dalap', 'nay', 'oros', 'belknap', 'valles', 'caldera', 'manhattan', 'inthe', 'carlsbad', 'caverns', 'pur', 'assertion', 'acretion', 'avulsion', 'tomorrow', 'sure', 'jean', 'lafitte', 'propel', 'pueblos', 'lola', 'kiralfy', 'lindy', 'claiborne', 'boggs', 'alcea', 'tillamooks', 'coquille', 'toney', 'inscription', 'courtroom', 'pascua', 'yaqui', 'saginaw', 'tributaries', 'homemaking', 'mantra', 'unqualified', 'victimize', 'pasture', 'internment', 'nidoto', 'nai', 'yoni', 'mar', 'lity', 'falmouth', 'alameda', 'merchantmarine', 'authorze', 'roads', 'devastate', 'adulthood', 'consignee', 'puerco', 'sociological', 'browne', 'kasaan', 'conneoticut', 'obtaining', 'lvhile', 'jr', 'coloradobig', 'thompson', 'cooperator', 'fen', 'canvon', 'powel', 'catawba', 'cold', 'hea', 'waccamaw', 'equine', 'superconductivity', 'placer', 'inflatable', 'guy', 'construc', 'forsythe', 'jordan', 'trend', 'escort', 'intercostal', 'waterbury', 'securitization', 'trends', 'redeem', 'flower', 'floricultural', 'soquel', 'cruz', 'chinese', 'indictment', 'legalize', 'integral', 'dan', 'mccleod', 'cookman', 'volusia', 'ashley', 'kenai', 'initially', 'pad', 'italian', 'herstage', 'appurtenant', 'tran', 'bristlecone', 'tourban', 'psychoanalytic', 'vacate', 'with', 'statue', 'seneca', 'canals', 'vallejo', 'extreme', 'rainfall', 'objectionable', 'agua', 'caliente', 'unifiedschool', 'noncommunityproperty', 'communityproperty', 'programmatic', 'predictability', 'civically', 'livingston', 'cofire', 'captioner', 'realtime', 'writer', 'indemnify', 'millers', 'dannelly', 'navarro', 'mills', 'litigant', 'cppcrtunity', 'fit', 'flatcar', 'literary', 'seizu', 'bernstein', 'peach', 'californi', 'mound', 'monitored', 'retrievable', 'tainted', 'drywall', 'leghold', 'dead', 'reforestation', 'fir', 'morgagor', 'mak', 'coerced', 'male', 'tajikistan', 'da', 'desalt', 'strain', 'mashantucket', 'pequot', 'landing', 'ramp', 'kate', 'mullany', 'adjustmerit', 'poundage', 'jena', 'ons', 'fitting', 'compress', 'cylinder', 'isleta', 'subcontracting', 'mispillion', 'bonfouca', 'legislator', 'compulsorily', 'tenth', 'robocall', 'recieve', 'trainingunder', 'ofeducation', 'cellulosic', 'utllity', 'morbidity', 'siskiyou', 'kalmiopsis', 'destructive', 'grenade', 'rocket', 'missile', 'bazookas', 'antitank', 'pathologist', 'verdigris', 'newt', 'graham', 'eccnomic', 'semiannual', 'tuskegee', 'cogeneration', 'td', 'counting', 'creditable', 'lighth', 'angostura', 'ranch', 'modular', 'hubbell', 'nashville', 'kennewick', 'archeology', 'remittance', 'completely', 'devel', 'programestablishe', 'survival', 'solano', 'charleston', 'arches', 'circle', 'oscar', 'sergeant', 'priestap', 'dart', 'navigate', 'insecurity', 'indochinese', 'sovereignty', 'hamilton', 'kiddie', 'lorton', 'oakley', 'sangamon', 'potawatomi', 'religioin', 'centurion', 'washita', 'fmha', 'sction', 'statues', 'acts', 'offroad', 'lawn', 'mower', 'nonvehicular', 'mater', 'quechan', 'yuma', 'monroe', 'publications', 'satisfying', 'gros', 'struction', 'pourer', 'therapeutical', 'satisfied', 'producti', 'men', 'victory', 'levisa', 'forks', 'evidentiary', 'fed', 'eral', 'deschutes', 'kinzua', 'custodian', 'ernestine', 'grigsby', 'josephine', 'bench', 'analyst', 'matagorda', 'stake', 'transponder', 'autistic', 'sintering', 'clay', 'slate', 'inadvertent', 'paraphernalia', 'coed', 'underside', 'wing', 'brazilian', 'statfs', 'marjory', 'stoneman', 'ernest', 'coe', 'crediting', 'richardson', 'unsustainable', 'bean', 'amounts', 'blackstone', 'williamson', 'unpatented', 'herger', 'feinstein', 'quincy', 'deternine', 'elliott', 'effectual', 'airlift', 'wold', 'cohesive', 'slid', 'popular', 'obstetric', 'amelioration', 'parkinsonism', 'anonvote', 'obamacare', 'noncompetitive', 'evolve', 'barring', 'pack', 'confirmed', 'quapaw', 'mcallen', 'edinburg', 'congaree', 'icebreaker', 'plow', 'sanding', 'leaded', 'pecks', 'bilateral', 'disaggregation', 'sc', 'contracts', 'prenatal', 'chromite', 'corinth', 'exposition', 'estabilsh', 'therecession', 'sprout', 'linam', 'mclean', 'chiefs', 'sharpnose', 'dempsey', 'ouray', 'calaveras', 'slough', 'sit', 'bisphenol', 'espada', 'acequia', 'oleomargine', 'professor', 'agate', 'beds', 'clam', 'conciliation', 'consular', 'proximately', 'marianas', 'translate', 'reality', 'attention', 'policymaking', 'nonbusiness', 'antilock', 'braking', 'cede', 'potomoc', 'barrel', 'patna', 'can', 'erectile', 'dysfunction', 'kefenokee', 'creels', 'strunk', 'micronesian', 'poe', 'blatnik', 'enlisted', 'womens', 'midwestern', 'noninsure', 'apostle', 'geopraphical', 'prop', 'voidable', 'aot', 'policie', 'landlimitation', 'tor', 'milwaukee', 'railroadco', 'statio', 'haines', 'nominee', 'parish', 'fulton', 'eruption', 'pedestrian', 'motorize', 'hatteras', 'certainaddition', 'inflammatory', 'bowel', 'seamanship', 'precondition', 'irrigate', 'antifoulant', 'lading', 'unlading', 'shoreside', 'interpret', 'incineration', 'anniv', 'frigate', 'impervious', 'unincorperated', 'installations', 'soap', 'medigap', 'jobproducing', 'nonanimal', 'toxin', 'vieques', 'pelagic', 'longline', 'bycatch', 'cerebral', 'cavernous', 'malformation', 'cricket', 'raid', 'davidian', 'waco', 'wallisville', 'monkey', 'primates', 'corpora', 'departmentof', 'correspondence', 'censure', 'disbarment', 'unarmed', 'perpetrate', 'doubt', 'reconvey', 'disposable', 'insufficiently', 'pottawatomie', 'commutation', 'fulfil', 'lafaette', 'cutter', 'decommissioning', 'flycatcher', 'yosemite', 'toad', 'groundfish', 'divorced', 'marion', 'wager', 'extradition', 'humboldt', 'monocacy', 'carroll', 'disconnect', 'oject', 'buchanan', 'chowchilla', 'ramah', 'chaco', 'arsenic', 'glass', 'bead', 'pavement', 'peso', 'defensive', 'arrearage', 'morgan', 'prurient', 'viewer', 'reader', 'listener', 'nonmallable', 'molecular', 'absaroka', 'beartooth', 'midewin', 'tallgrass', 'lou', 'hamer', 'coretta', 'scott', 'inequalities', 'expended', 'ainsworth', 'sandhills', 'wake', 'crisfield', 'carden', 'chiefly', 'wheeler', 'faceted', 'uncovered', 'perry', 'cellphone', 'texting', 'lassen', 'susanville', 'ririe', 'psychology', 'sociology', 'tenement', 'gravesite', 'ao', 'betake', 'shah', 'had', 'sampling', 'providin', 'nonindustrial', 'jicarilla', 'isk', 'practic', 'jake', 'prevalence', 'pervasive', 'sled', 'appear', 'prcgr', 'annette', 'flambeau', 'stockton', 'author', 'copying', 'eufaula', 'unusual', 'flagship', 'tunneling', 'fernando', 'saratoga', 'investigatory', 'barracks', 'tailings', 'heroism', 'flammable', 'alarm', 'amite', 'improveand', 'equalityin', 'burdens', 'incitement', 'pupflsh', 'prudent', 'sta', 'coherence', 'peripheral', 'kellog', 'parallel', 'surrounding', 'shoonaq', 'kodiak', 'hindrance', 'impedance', 'eng', 'grades', 'crimi', 'designationof', 'mackinac', 'thenational', 'reeys', 'deck', 'insurable', 'electrically', 'judges', 'rightsof', 'benchmarking', 'cessation', 'interracial', 'interethnic', 'annultie', 'commissloner', 'voorheers', 'denmark', 'reproduce', 'breed', 'gag', 'assembly', 'wit', 'waters', 'df', 'preclearance', 'metabolism', 'digestive', 'dimethylsulfoxide', 'topical', 'analgesic', 'profitable', 'elemental', 'unpasteurized', 'incentives', 'hybrid', 'tapoco', 'resold', 'eugenic', 'playa', 'pothole', 'vernal', 'pocosin', 'delineation', 'broodstock', 'seedstock', 'rehabilitating', 'infertility', 'cooke', 'receiver', 'atrazine', 'enclave', 'trucking', 'conserving', 'concensus', 'emancipation', 'archival', 'spacer', 'affording', 'dea', 'inadequacy', 'stealing', 'thursday', 'celebrate', 'impending', 'complementary', 'redistribute', 'asylee', 'immigrant', 'probable', 'biologic', 'increi', 'qui', 'secondray', 'finally', 'aspheric', 'mirror', 'cosmetically', 'pigeon', 'scrapping', 'papillomavirus', 'continueto', 'jacket', 'penitentiary', 'sections', 'potassium', 'overlap', 'hypodermic', 'needle', 'syrinx', 'pupose', 'encouraging', 'stataes', 'assemblage', 'cropof', 'screw', 'ivalee', 'lydia', 'expo', 'backscatt', 'checkpoint', 'toamend', 'duplication', 'norm', 'context', 'formulae', 'jeanne', 'clery', 'clarity', 'prefinance', 'theprotection', 'regularize', 'numerical', 'facilitation', 'reinvestigation', 'spanish', 'insurrection', 'boxer', 'rebellion', 'confectionery', 'aversion', 'hartley', 'bayous', 'terrebonne', 'lecarpe', 'gable', 'proportionality', 'purp', 'binational', 'convene', 'prosthetic', 'variable', 'pocket', 'declassify', 'nonconstruction', 'minute', 'berry', 'canning', 'freezing', 'draftsman', 'coeducational', 'ratable', 'diamond', 'harvey', 'banks', 'smelt', 'organically', 'chaffee', 'pharmacology', 'racing', 'restorative', 'disparate', 'retarding', 'streambank', 'luminous', 'glassboro', 'carcinogenic', 'customsand', 'intimate', 'embark', 'semi', 'homeroom', 'raritan', 'exceptionally', 'mavar', 'biloxi', 'competitively', 'compensable', 'folsom', 'countries', 'mr', 'establishme', 'clifford', 'mackerel', 'herring', 'distillates', 'cantor', 'loansto', 'orhandicappe', 'thehousing', 'euphoria', 'heighten', 'delineate', 'regulatea', 'allotments', 'wilburn', 'kirby', 'walton', 'nondairy', 'watercraf', 'holden', 'trout', 'pittsford', 'ascertain', 'thought', 'ba', 'prong', 'wicomico', 'reemploye', 'bioengineered', 'krebiozen', 'bailout', 'harborworkers', 'annuitie', 'under', 'manumacturer', 'nontransport', 'maureen', 'mike', 'mansfield', 'genomic', 'po', 'intern', 'disputed', 'millen', 'cer', 'precollege', 'provement', 'shooter', 'incentivize', 'equipping', 'destine', 'betw', 'alternatives', 'cumulative', 'mobil', 'checkoff', 'turnover', 'jump', 'tertian', 'fora', 'deepdrait', 'logbook', 'unsanitary', 'median', 'toxics', 'rowing', 'regatta', 'conventionally', 'exploratory', 'rid', 'enforceability', 'achievable', 'judgmentthe', 'hulbert', 'ashe', 'soclal', 'oceangoing', 'seacraft', 'discontinued', 'unapproved', 'federalstate', 'helicopter', 'strengthening', 'sanish', 'knowing', 'aware', 'marietta', 'governmentwide', 'collision', 'yancey', 'telluride', 'transferring', 'hyde', 'chattanooga', 'halt', 'slump', 'amer', 'iacllitie', 'mammography', 'lean', 'misappropriation', 'regent', 'midnight', 'peril', 'commotion', 'chance', 'supersonic', 'stockpiling', 'antimicrobial', 'sot', 'appertain', 'suspended', 'probationary', 'unjustified', 'maumee', 'acquatic', 'nonreturnable', 'cloning', 'radioactiv', 'attribute', 'commissary', 'notwithstanding', 'patchwork', 'distortion', 'tupac', 'amaru', 'shakur', 'nenana', 'prosperous', 'counterterrorist', 'irradiation', 'agen', 'recurrent', 'categorical', 'unregistered', 'millennium', 'youngstown', 'tangerine', 'impor', 'habitual', 'saf', 'expedient', 'yazoo', 'headwater', 'perfect', 'fromother', 'plazas', 'cuban', 'peacekeeping', 'sti', 'preempt', 'kite', 'abbreviation', 'origi', 'nal', 'restock', 'reclaimable', 'precious', 'tryout', 'assimilation', 'craftsman', 'inservice', 'nearby', 'oxygenate', 'jul', 'mines', 'pollutional', 'hijacking', 'supervise', 'developing', 'nicolet', 'bill', 'offenders', 'airframe', 'osteopathy', 'honolulu', 'kalihi', 'conversions', 'parentage', 'pseudoephedrine', 'reorganizaiton', 'constable', 'clearwater', 'unemployman', 'polisher', 'waxer', 'satisfactory', 'zoning', 'andmaintain', 'promotional', 'cops', 'null', 'void', 'tightly', 'quieter', 'jet', 'perpetuate', 'acculturation', 'sedgwick', 'automation', 'shift', 'predominate', 'hide', 'coach', 'minnetonka', 'recitation', 'anthem', 'sepulveda', 'sober', 'numeric', 'enlist', 'developwent', 'initiates', 'negroes', 'bicycle', 'jurisdictional', 'unlicense', 'mildred', 'claude', 'airpark', 'agricul', 'boost', 'contraction', 'aloha', 'consecutive', 'defec', 'ports', 'multistate', 'realization', 'coy', 'amerce', 'bribery', 'conclude', 'tansportation', 'macadamia', 'camwissioner', 'crease', 'instruct', 'multilateral', 'cornm', 'quarterly', 'thereund', 'tot', 'shipyard', 'stephanie', 'tubbs', 'archive', 'sailing', 'wax', 'wane', 'preclude', 'incest', 'exemptibn', 'agribusiness', 'gandhi', 'nonviolence', 'entertain', 'includible', 'clearing', 'cutover', 'lancaster', 'bullying', 'overdue', 'prenotification', 'commonweal', 'monkeys', 'extraneous', 'byrd', 'quasi', 'tandem', 'highwa', 'fats', 'colombia', 'pensioner', 'transuranic', 'stepan', 'bergen', 'toddler', 'unwed', 'consistently', 'profiteering', 'again', 'jobless', 'handbook', 'picketing', 'informal', 'nosie', 'finfish', 'holistic', 'indisaster', 'preteste', 'ful', 'chatham', 'hydropower', 'simplified', 'forfeited', 'stevenson', 'wydler', 'before', 'digestere', 'nationalemergency', 'regularly', 'hemodialysis', 'ballard', 'spencer', 'jeannette', 'rankin', 'minorities', 'fields', 'husband', 'jacksonville', 'beat', 'manufac', 'ture', 'seas', 'dying', 'allotman', 'classical', 'ballet', 'auspex', 'headquarters', 'valve', 'supervisory', 'segman', 'engraving', 'emerson', 'mickey', 'leland', 'outreach', 'det', 'plate', 'degradation', 'collar', 'hb', 'warn', 'cooking', 'modified', 'cattleman', 'flora', 'intervene', 'worcester', 'finan', 'honesty', 'noncarrier', 'methcathinine', 'automatically', 'otter', 'seeker', 'goods', 'british', 'terminating', 'fairban', 'conservationacid', 'theagricultural', 'toprovide', 'doubling', 'subsidized', 'prospecting', 'fissionable', 'ito', 'nonhighway', 'respite', 'string', 'sail', 'plano', 'thunder', 'underwater', 'ultra', 'bale', 'plight', 'magnitude', 'forgone', 'saves', 'lives', 'nonrural', 'plug', 'carrybut', 'ammount', 'rodeo', 'transmittal', 'communistic', 'circulation', 'bib', 'nontransportation', 'massive', 'oportunitie', 'allowances', 'capricious', 'grossly', 'nominal', 'aeronautical', 'explicitly', 'eating', 'tension', 'habilitative', 'rulemake', 'pretense', 'yearly', 'reconfiguration', 'strife', 'ireland', 'algona', 'overdose', 'biologicalcultural', 'tov', 'sanctuarle', 'susends', 'nepotism', 'ccncerne', 'hydration', 'statesin', 'vector', 'underlying', 'contraindicate', 'piketown', 'interriai', 'farmloan', 'interbasin', 'kit', 'rendering', 'complie', 'subjuct', 'concealing', 'niblack', 'warehouseman', 'drastic', 'melville', 'alumni', 'stateand', 'hydrilla', 'beaty', 'psoriatic', 'interdisciplinary', 'comorbid', 'denture', 'expanding', 'maths', 'matic', 'literate', 'citizenry', 'goals', 'runway', 'levi', 'dawson', 'adn', 'motorcycle', 'lobster', 'folk', 'goodwill', 'serviceconnecte', 'mafia', 'syndicate', 'syringomyelia', 'minimally', 'preterm', 'prematurity', 'gel', 'liablity', 'alotment', 'wet', 'eare', 'bat', 'rotate', 'hake', 'deducation', 'retrain', 'paying', 'undisclosed', 'summary', 'grape', 'treason', 'sedition', 'misbehavior', 'sterilization', 'anesthetist', 'hoonah', 'glaucoma', 'fraternity', 'sorority', 'corrupt', 'dynamic', 'static', 'unprocesse', 'resell', 'lyndon', 'baines', 'episode', 'noncompensable', 'wedlock', 'noncompliance', 'recklessness', 'blockage', 'passage', 'mechant', 'severin', 'te', 'becauseof', 'dover', 'kent', 'palmyra', 'christian', 'proration', 'grime', 'susceptibility', 'familial', 'hells', 'icebreaking', 'intercity', 'passeng', 'unlighte', 'annotated', 'professionals', 'polyvinylacetate', 'blackwell', 'guidepost', 'unavailable', 'mediator', 'illumination', 'conducting', 'qu', 'websites', 'anticrime', 'nonnu', 'inoperative', 'monie', 'admissible', 'durango', 'notary', 'drone', 'intravenous', 'enemy', 'hostile', 'manila', 'officially', 'obama', 'proposed', 'seating', 'mud', 'lsd', 'thereo', 'halogeton', 'restroom', 'shower', 'eduea', 'causeway', 'healing', 'pulmonary', 'congenital', 'predictive', 'thereun', 'whistleblower', 'antidiscrimation', 'deafness', 'interetate', 'reptile', 'amphibian', 'coda', 'appointed', 'lawrenceburg', 'stimulation', 'energysmart', 'predatory', 'remunerative', 'randolphsheppard', 'geriatrics', 'gerontology', 'demonstratio', 'pensions', 'ad', 'valorem', 'compassionate', 'noisy', 'mayor', 'defective', 'hawkins', 'barber', 'beautician', 'continent', 'workstudy', 'drift', 'hospitalize', 'ecology', 'capitalize', 'uninsurable', 'catastrophe', 'insolvency', 'reapportion', 'dictionary', 'biocide', 'reconstitute', 'nashua', 'japan', 'productivitv', 'lcnefit', 'productivi', 'intrepid', 'dragon', 'rangoon', 'ruby', 'needles', 'mohave', 'telecommunication', 'acetamiprid', 'adjuvant', 'providence', 'aiding', 'abetting', 'neonatal', 'abstinence', 'coalbe', 'impossible', 'uncertainty', 'religiously', 'prefix', 'arming', 'reversion', 'reevaluation', 'ap', 'externship', 'kinship', 'flightcrew', 'otowi', 'spina', 'bifida', 'westchester', 'chester', 'addison', 'innovator', 'repurpose', 'inefficient', 'allowa', 'exploited', 'prioritization', 'away', 'mementary', 'photographing', 'microfilming', 'stating', 'crimecontrol', 'morn', 'attractive', 'andrelieve', 'onboard', 'levying', 'landside', 'preside', 'bll', 'triple', 'abolition', 'falsity', 'ciudad', 'juarez', 'floyd', 'bison', 'barnhart', 'blackout', 'kickback', 'unearned', 'farmerowne', 'ranchers', 'artificially', 'haying', 'stancavage', 'prvide', 'delays', 'toe', 'sist', 'prograausfor', 'alum', 'facilitaes', 'improvethe', 'these', 'anhingas', 'crest', 'cormorant', 'fracture', 'osteoporosis', 'standardize', 'slant', 'directional', 'kewaunee', 'euthanasia', 'morning', 'judp', 'waikiki', 'relatng', 'visual', 'stamps', 'abnormally', 'deterrent', 'commissions', 'antidiscrimination', 'ambience', 'disrupt', 'interocean', 'payor', 'radiology', 'const', 'aramid', 'esta', 'diet', 'correspondingly', 'differental', 'bradley', 'libel', 'slander', 'or', 'reinsure', 'unimportant', 'rarely', 'debridement', 'mycotic', 'toenail', 'distriev', 'forgivable', 'houses', 'antidumpe', 'countervail', 'provo', 'lag', 'nonvoting', 'bono', 'honeybee', 'tuberculosis', 'publicassistance', 'gaining', 'eb', 'vet', 'known', 'nonsmoke', 'unhealthful', 'intrathecal', 'credits', 'coercion', 'cardiac', 'nonincorporate', 'spitfire', 'conpensation', 'borders', 'ensign', 'airfield', 'bettendorf', 'doctrine', 'disorderptsd', 'lafourche', 'zany', 'vesting', 'hugo', 'sink', 'onset', 'unreasonably', 'infringement', 'defintion', 'terror', 'admeasurement', 'ballast', 'edith', 'laredo', 'pan', 'interoperability', 'noncoal', 'volatile', 'bloodsucke', 'estatetax', 'shelby', 'beaumont', 'tyler', 'albion', 'morgantown', 'unemploy', 'assets', 'wietapping', 'nonuniformed', 'ammunicition', 'subway', 'acordance', 'admiral', 'entitl', 'exit', 'turbidity', 'interpreter', 'wallet', 'commtssioner', 'obstructive', 'semiprofessional', 'amateur', 'football', 'hockey', 'soccer', 'underprivileged', 'ongoing', 'responsibilities', 'ninety', 'transgortabion', 'purpow', 'commerc', 'cc', 'nmerce', 'lifestyle', 'risky', 'asparagus', 'sectiona', 'pansion', 'facil', 'assemble', 'arrange', 'fcreign', 'chaxter', 'transporation', 'consulting', 'ecologically', 'unitedstates', 'pennant', 'noncapital', 'bacterial', 'meningitis', 'iranian', 'railhighway', 'highspeed', 'lion', 'outlying', 'prescott', 'laetrile', 'consist', 'depiction', 'gratuitous', 'uraniferous', 'multinational', 'oilheat', 'iudicial', 'leadbase', 'twice', 'sanctity', 'anaphylaxis', 'healt', 'reclassify', 'postmaster', 'newspapers', 'actof', 'sleeper', 'costly', 'unmarketable', 'wellbore', 'junkyard', 'reappraisal', 'curtailment', 'tuber', 'propagate', 'launderer', 'tracing', 'enf', 'unifo', 'evolution', 'harmonize', 'centralize', 'navigator', 'verge', 'fl', 'blas', 'bythe', 'recession', 'loving', 'invention', 'liminte', 'constituent', 'possessing', 'debtor', 'requriement', 'locating', 'reactivate', 'diverted', 'devoted', 'animals', 'algonac', 'maxwell', 'cheraw', 'adam', 'myelogram', 'arachnoiditis', 'jacketed', 'hollow', 'horticulture', 'distil', 'stabillzation', 'mainte', 'nonce', 'arteriosclerosis', 'cardiovascular', 'developmethod', 'calculatin', 'digester', 'extraterritorial', 'thesocial', 'more', 'on', 'underwithholde', 'biologically', 'quest', 'instrumental', 'coconut', 'resignation', 'disbursing', 'prtofessionaa', 'areawide', 'latin', 'jewish', 'ratitae', 'collegiate', 'speak', 'instructor', 'contributory', 'nonaural', 'functioning', 'guardianship', 'annunity', 'frame', 'scheme', 'axriend', 'there', 'infraction', 'psychiatry', 'intercircuit', 'agirculture', 'haleiwa', 'down', 'acturial', 'recharging', 'ward', 'hen', 'birds', 'prey', 'virtue', 'trapping', 'negative', 'vegas', 'troubled', 'ofhealth', 'makegrant', 'educationalprogram', 'concerningwoman', 'educationalpurpose', 'intercultural', 'suggest', 'coinsurance', 'heath', 'continually', 'tick', 'borne', 'vietnamese', 'students', 'ciiftie', 'oomstruction', 'fecilitie', 'broome', 'atuhorize', 'it', 'backbone', 'reversionary', 'nez', 'perce', 'enterprises', 'downturn', 'secretaxy', 'concussion', 'nearly', 'com', 'merce', 'quel', 'qty', 'maaiufacture', 'anthrax', 'portiton', 'interaction', 'simllar', 'onfarm', 'dis', 'recycler', 'copper', 'gregory', 'rhinoceros', 'tiger', 'fingerprinting', 'unity', 'boss', 'dale', 'agriculturalbargaining', 'standardsfor', 'noncustodial', 'hodge', 'abduction', 'vandalism', 'recreate', 'explosives', 'encoura', 'hardware', 'intensify', 'perfection', 'hoof', 'andhospital', 'drawdown', 'particulate', 'gestate', 'sumer', 'telemental', 'tee', 'performing', 'filene', 'carver', 'bartiara', 'mora', 'torium', 'profitsharing', 'cleaning', 'taxon', 'remodeling', 'bakken', 'flurocarbon', 'farallones', 'cordell', 'puget', 'produccr', 'tread', 'rubber', 'imported', 'forestland', 'mesh', 'nehemiah', 'idle', 'animas', 'temperature', 'anhydrous', 'ammonia', 'poisonous', 'approximation', 'timeliness', 'thoroughly', 'maui', 'purview', 'unsuitable', 'sugarcane', 'depredation', 'blow', 'incipient', 'transferee', 'nonpoint', 'miller', 'symphony', 'orchestra', 'elizabeths', 'theoretical', 'physic', 'socio', 'policymaker', 'randolph', 'unshelled', 'sphere', 'proclaim', 'larg', 'deferment', 'vend', 'monthan', 'tuscon', 'blueprint', 'interconnect', 'multimodal', 'slot', 'libraries', 'await', 'families', 'countryside', 'escalate', 'therapeutics', 'lowincomehouse', 'jumper', 'athens', 'clarke', 'stcongress', 'creature', 'abridgement', 'cognitive', 'nantucket', 'competence', 'phenomenon', 'lakeland', 'baptist', 'bible', 'disproportionate', 'profitmaking', 'cheatham', 'captive', 'cosmeic', 'mancos', 'competent', 'speciman', 'specimen', 'bricklayers', 'dysautonomia', 'get', 'prograin', 'indetermine', 'purport', 'predation', 'fresno', 'wasting', 'epizootic', 'hemorrhagic', 'fulll', 'ukraine', 'acquisiton', 'corner', 'bergstrom', 'austin', 'attrition', 'storable', 'ag', 'grieve', 'peat', 'muck', 'exhaustion', 'oxidation', 'oldage', 'attache', 'prime', 'creel', 'reel', 'lur', 'bait', 'selector', 'profoundly', 'deviation', 'sonic', 'boom', 'constant', 'circumvent', 'reap', 'awildlife', 'exonerate', 'allege', 'indochina', 'protecting', 'tenants', 'email', 'ask', 'itechnology', 'ove', 'str', 'scoring', 'fond', 'insert', 'robust', 'neurobiological', 'pear', 'factiltie', 'watts', 'mix', 'newspaperman', 'broadening', 'influenza', 'unexpended', 'drunk', 'growing', 'stormstricken', 'taxfree', 'receivership', 'strawberry', 'defaulted', 'includ', 'brazoria', 'galveston', 'debit', 'budgetmaking', 'comtroller', 'veto', 'orprocessing', 'suffe', 'foreman', 'requisition', 'architecture', 'shielded', 'explosions', 'refrigerator', 'stove', 'apparatus', 'gram', 'hires', 'byproduct', 'scholarships', 'spection', 'enthusiast', 'ruinous', 'wreck', 'chaos', 'hurricanes', 'insignia', 'communitite', 'athletics', 'tooperate', 'rich', 'jeopardize', 'bureaucracy', 'linkage', 'subsidization', 'oilseed', 'amortized', 'culinary', 'accredit', 'repeatedly', 'laud', 'autoimmune', 'convevance', 'pecwan', 'invitee', 'colle', 'cushing', 'framingham', 'discolsure', 'musculoskeletal', 'scleroderma', 'starling', 'blackbird', 'visible', 'sorbent', 'suisun', 'marsh', 'astate', 'oode', 'eliminationof', 'advancedtechnology', 'regionalize', 'lynch', 'unjustifiably', 'housatonic', 'riverto', 'speculator', 'undersection', 'expe', 'costs', 'councils', 'cereal', 'healthcaregov', 'authorityof', 'learner', 'bilingualism', 'bb', 'minimis', 'shoot', 'exploit', 'evade', 'extremely', 'sealing', 'perchlorate', 'clarita', 'recertification', 'toxicity', 'carcinogenicity', 'weighing', 'inernai', 'obligaticns', 'unsold', 'migratorybird', 'marketingquota', 'umemployed', 'umemployment', 'outright', 'computers', 'underproduction', 'montreal', 'disadvantage', 'versus', 'bookseller', 'consequential', 'falcon', 'dain', 'nutritionally', 'nutritious', 'unprepared', 'offices', 'cutting', 'chanter', 'driftnet', 'unexpected', 'profitmake', 'coercive', 'eleventh', 'twelfth', 'cream', 'flatiron', 'ironer', 'immobilization', 'embody', 'subspecie', 'nonagricultural', 'contagious', 'rabie', 'feder', 'occupationalsafety', 'requirethe', 'thedifference', 'industryand', 'unlock', 'presidentially', 'increasedincentive', 'resp', 'retroactively', 'programing', 'preparatory', 'will', 'prudhoe', 'entirely', 'mcleod', 'borough', 'pm', 'flat', 'scholastically', 'jekyll', 'useless', 'marina', 'intefrial', 'sardine', 'airtight', 'skinned', 'harmonized', 'provisionally', 'horsepower', 'contractual', 'arch', 'hurley', 'dirty', 'wo', 'servi', 'nicolas', 'miguel', 'spaying', 'neutering', 'capistrano', 'nonnative', 'negatively', 'kiln', 'biosphere', 'interal', 'upcoming', 'reset', 'essay', 'refreshment', 'drain', 'quick', 'constraint', 'flextime', 'tinder', 'measurable', 'style', 'expending', 'modernizing', 'bidder', 'threatened', 'constitutionality', 'dar', 'westlands', 'caw', 'slaughterhouse', 'estimation', 'advi', 'mutton', 'lamb', 'seventyseventh', 'susana', 'metering', 'larmer', 'ai', 'grateful', 'wahoo', 'alligator', 'usable', 'employable', 'targeting', 'negotiator', 'glasgow', 'domesticbeet', 'vanderbilt', 'peabody', 'scarritt', 'suppress', 'evil', 'antisemitism', 'antinegro', 'floodplain', 'bracket', 'underutilized', 'golf', 'caddie', 'taxicab', 'purification', 'provislow', 'interregional', 'voltage', 'undersecretary', 'intermountain', 'missoula', 'chartering', 'loanm', 'debenture', 'foodborne', 'recalled', 'spray', 'morganza', 'gateways', 'watertrails', 'redlining', 'discontinuance', 'strom', 'thurmond', 'subtherapeutic', 'penicillin', 'chlortetracycline', 'oxytetracycline', 'lawsin', 'nanotechnology', 'io', 'dividual', 'costsave', 'winterize', 'vertebrate', 'initiation', 'marshland', 'independently', 'underwithholding', 'fluorocarbon', 'auarantine', 'li', 'brewer', 'demonstrating', 'respecting', 'otlier', 'assistive', 'crosscut', 'boutique', 'richland', 'acknowledge', 'inhumanity', 'subsequently', 'jure', 'facto', 'musician', 'euratom', 'projection', 'generator', 'friendly', 'dropout', 'organiaztion', 'grantinaid', 'lightning', 'drums', 'craft', 'castle', 'inhibition', 'nonsurplus', 'silage', 'flying', 'unitedstate', 'phoenix', 'fairhaven', 'dependable', 'entering', 'evacuation', 'nonqualified', 'employers', 'iiiof', 'relatingto', 'establishmentby', 'ofagriculture', 'meetingsofeuch', 'catch', 'snapper', 'fluorination', 'reentere', 'perio', 'westway', 'stockholm', 'transboundary', 'rotterdam', 'chemicals', 'pesticides', 'coding', 'sorting', 'resin', 'misconstruction', 'destitution', 'marketi', 'hydrate', 'tradeable', 'interchangably', 'touch', 'shadegrown', 'dismiss', 'sponge', 'tripartite', 'jobproduce', 'restrictive', 'proposals', 'selfridge', 'clemens', 'widespread', 'boys', 'administering', 'requirements', 'risks', 'rin', 'aa', 'toliet', 'box', 'workload', 'recur', 'creditor', 'statuis', 'nematode', 'glenn', 'seaborg', 'mortgag', 'orphans', 'stopp', 'publisher', 'hod', 'carriers', 'laborers', 'oc', 'cupie', 'olive', 'academically', 'rigorous', 'giant', 'snail', 'spike', 'disclaimer', 'pernicious', 'admittcd', 'dc', 'trask', 'changes', 'recoupment', 'magnet', 'contemplate', 'pork', 'administrators', 'toa', 'locational', 'oversea', 'monoxide', 'rederal', 'noncommunity', 'curtain', 'flnanced', 'manipulative', 'reexamine', 'nontraditional', 'sweet', 'unscrupulous', 'anticipation', 'finish', 'developme', 'culturally', 'jeopardy', 'piling', 'neotropical', 'exer', 'steelmaking', 'relaed', 'prom', 'strait', 'nesting', 'accidentally', 'generals', 'complimentary', 'trailing', 'insolvent', 'globally', 'panther', 'variation', 'populated', 'islanders', 'gratuity', 'peonage', 'yea', 'which', 'qolitrolact', 'effedtivecertain', 'compensatio', 'turbojet', 'warwick', 'hampton', 'hazleton', 'anthracite', 'sedimentation', 'disturb', 'keeping', 'instability', 'acadernic', 'harness', 'ceremony', 'subgroup', 'cybercrime', 'educati', 'apriority', 'emissions', 'lifeguard', 'foresight', 'ride', 'eater', 'caribbean', 'tailor', 'edison', 'amendmentto', 'conferring', 'codeof', 'retrai', 'wi', 'bodie', 'reinstitute', 'affected', 'parents', 'preeminence', 'studen', 'confusion', 'complexity', 'hazardoussubstances', 'fromtoy', 'rendition', 'mistake', 'res', 'assumption', 'fellowships', 'chlldresistant', 'ingest', 'rename', 'pendency', 'instrumentalities', 'drydock', 'exemtion', 'nondenominational', 'potable', 'believe', 'disposed', 'subversion', 'subchaper', 'utilizer', 'nonenergy', 'leak', 'indebted', 'inimical', 'similarly', 'intelligent', 'nurseryschool', 'meridian', 'displaced', 'biweekly', 'theservice', 'sci', 'easily', 'petitioning', 'undertakenby', 'suchdeduction', 'maximu', 'winnebago', 'pulic', 'calculator', 'saugatuck', 'prog', 'momentum', 'overfished', 'mere', 'glue', 'blanket', 'reta', 'capitalgrant', 'waterflow', 'glines', 'fountain', 'contributions', 'mangement', 'entitled', 'theretofore', 'dir', 'amy', 'lobar', 'naturalgas', 'croaker', 'contact', 'globalization', 'providi', 'nondisclosure', 'remorse', 'refocus', 'scrutiny', 'raliroad', 'forb', 'pollinator', 'aurora', 'monett', 'newburg', 'cassville', 'webb', 'appropriateness', 'unavailability', 'compatible', 'cropping', 'bioenergy', 'smooth', 'pederal', 'controlaotto', 'sub', 'saharan', 'africa', 'interconnection', 'cert', 'norris', 'laguardia', 'adaptation', 'intervenor', 'investi', 'gation', 'canalconnecte', 'pacificoceans', 'andresponsible', 'nonbeverage', 'appropriately', 'env', 'distraint', 'per', 'mortage', 'plastics', 'committees', 'tybee', 'grip', 'taxidermist', 'pair', 'decade', 'lowsent', 'stratosphere', 'tahoe', 'quagga', 'mussel', 'interests', 'internalrevenue', 'noncriminal', 'decentralized', 'elections', 'nonprocurement', 'evidenc', 'apprise', 'casework', 'hone', 'noncovere', 'misaligned', 'misalignment', 'trim', 'coat', 'successfully', 'predominant', 'flux', 'screener', 'covert', 'aldrin', 'chlordane', 'dieldrin', 'endrin', 'heptachlor', 'lindane', 'toxaphene', 'caretaker', 'acknowledgement', 'opener', 'questionable', 'collector', 'uncollected', 'enrich', 'isotope', 'forthwith', 'midwest', 'federalaide', 'aluminum', 'tact', 'adjusted', 'cyclical', 'sheepherder', 'showerhead', 'faucet', 'burial', 'remarriage', 'addequate', 'postponement', 'liberal', 'irrespective', 'clergyman', 'antiharassment', 'pte', 'se', 'eighteen', 'literature', 'unhouse', 'collectible', 'intensity', 'redeveloper', 'assiste', 'providing', 'inculcate', 'loya', 'canceling', 'swear', 'signal', 'servicing', 'trespass', 'motivational', 'structurebeaner', 'cute', 'housingshoe', 'arc', 'deterio', 'further', 'violen', 'journalist', 'meritless', 'lawsuits', 'slapp', 'remotely', 'inoperable', 'unskilled', 'teenager', 'secreta', 'annui', 'movie', 'prhibition', 'slumclearance', 'trades', 'housingact', 'employmentbecause', 'logical', 'such', 'expect', 'example', 'compul', 'sory', 'nonrefundable', 'attach', 'nullify', 'discrim', 'malden', 'blanagement', 'iii', 'tat', 'jobseeker', 'continuously', 'injured', 'mutilation', 'angoon', 'warrantless', 'searching', 'fianancial', 'onthejob', 'onthefarm', 'contractorsemployed', 'appraisers', 'feedthrough', 'flange', 'diameter', 'thick', 'requirementsgoverne', 'neurological', 'locomotio', 'exercisable', 'app', 'employing', 'decontrol', 'penatie', 'aflairs', 'prerogative', 'dictate', 'iv', 'razing', 'topic', 'deserve', 'sevicemans', 'hubzone', 'emend', 'hauling', 'deteriorate', 'substandard', 'adiust', 'answer', 'registered', 'agents', 'brokers', 'habitational', 'excessively', 'multichannel', 'programming', 'envoy', 'peoples', 'burton', 'conception', 'newsman', 'franco', 'dustrial', 'estab', 'adjustable', 'win', 'develpment', 'ignore', 'liquidity', 'moment', 'subscriber', 'inner', 'disloyal', 'vietcong', 'inn', 'advancing', 'unutilized', 'abridgment', 'desegregate', 'requirementthat', 'opportuviltie', 'lowincome', 'institutionalization', 'localities', 'fixing', 'regulations', 'accomodation', 'chore', 'authorizes', 'supervis', 'lamp', 'socket']"
            ]
          },
          "execution_count": 28,
          "metadata": {},
          "output_type": "execute_result"
        }
      ],
      "source": [
        "Model.model.used_vocabs"
      ]
    },
    {
      "cell_type": "code",
      "execution_count": null,
      "metadata": {
        "id": "qmm2njqAiWjb"
      },
      "outputs": [],
      "source": [
        "for word in Model.model.used_vocabs:\n",
        "    prior = Model.model.get_word_prior(word)\n",
        "    if len(prior) > 0:\n",
        "        print(word)"
      ]
    },
    {
      "cell_type": "code",
      "execution_count": null,
      "metadata": {
        "id": "YIRn-HSTiWjb",
        "outputId": "0c2033a9-2869-4973-bd85-dab9558763fc"
      },
      "outputs": [
        {
          "data": {
            "text/plain": [
              "0"
            ]
          },
          "execution_count": 34,
          "metadata": {},
          "output_type": "execute_result"
        }
      ],
      "source": [
        "Model.model.tw"
      ]
    },
    {
      "cell_type": "code",
      "execution_count": null,
      "metadata": {
        "id": "Xjw9y74ziWjb",
        "outputId": "05d88ba9-531c-4d31-e3e4-dcd7468dd416"
      },
      "outputs": [
        {
          "data": {
            "text/plain": [
              "9306"
            ]
          },
          "execution_count": 4,
          "metadata": {},
          "output_type": "execute_result"
        }
      ],
      "source": [
        "model_vocabs = set()\n",
        "for i in Model.data_words_nonstop:\n",
        "    for j in i:\n",
        "        model_vocabs.add(j)\n",
        "\n",
        "len(model_vocabs)"
      ]
    },
    {
      "cell_type": "code",
      "execution_count": null,
      "metadata": {
        "id": "T32Vm2Y-iWjb",
        "outputId": "a21fc47f-250e-4784-cfc3-3dcec521c9e4"
      },
      "outputs": [
        {
          "name": "stdout",
          "output_type": "stream",
          "text": [
            "Word Prior Probability for 'college': 0.0000\n"
          ]
        }
      ],
      "source": [
        "from gensim import corpora, models\n",
        "\n",
        "# Example corpus of documents (list of lists of tokens)\n",
        "with open('./Data/congressional_bill_train_processed.pkl', 'rb') as inp:\n",
        "    data = pickle.load(inp)\n",
        "    corpus = data['datawords_nonstop']\n",
        "\n",
        "# Create a dictionary from the corpus\n",
        "dictionary = corpora.Dictionary(corpus)\n",
        "\n",
        "# Create a bag-of-words representation of the corpus\n",
        "bow_corpus = [dictionary.doc2bow(doc) for doc in corpus]\n",
        "\n",
        "# Train an LDA model on the bag-of-words corpus\n",
        "lda_model = models.LdaModel(bow_corpus, num_topics=13, id2word=dictionary, passes=10)\n",
        "\n"
      ]
    },
    {
      "cell_type": "code",
      "execution_count": null,
      "metadata": {
        "id": "pYh0mOW9iWjc"
      },
      "outputs": [],
      "source": [
        "def get_prior(target_word):\n",
        "    # The word for which you want to get the word prior probability\n",
        "    # target_word = \"veteran\"\n",
        "\n",
        "    # Get the word prior probability for the target word\n",
        "    word_id = dictionary.token2id[target_word]\n",
        "    word_prior_prob = sum(prob for _, prob in lda_model.get_term_topics(word_id))\n",
        "\n",
        "    print(f\"Word Prior Probability for '{target_word}': {word_prior_prob:.4f}\")"
      ]
    },
    {
      "cell_type": "code",
      "execution_count": null,
      "metadata": {
        "id": "kohnfrZtiWjc",
        "outputId": "641d546c-8a4e-4d2a-9a07-c32f163647f0"
      },
      "outputs": [
        {
          "name": "stdout",
          "output_type": "stream",
          "text": [
            "Word Prior Probability for 'authorize': 0.0886\n",
            "Word Prior Probability for 'study': 0.0000\n",
            "Word Prior Probability for 'feasibility': 0.0000\n",
            "Word Prior Probability for 'desirability': 0.0000\n",
            "Word Prior Probability for 'establish': 0.0602\n",
            "Word Prior Probability for 'national': 0.0994\n",
            "Word Prior Probability for 'recreation': 0.0000\n",
            "Word Prior Probability for 'area': 0.0113\n",
            "Word Prior Probability for 'know': 0.0000\n",
            "Word Prior Probability for 'santa': 0.0000\n",
            "Word Prior Probability for 'margarita': 0.0000\n",
            "Word Prior Probability for 'national': 0.0994\n",
            "Word Prior Probability for 'recreation': 0.0000\n",
            "Word Prior Probability for 'area': 0.0113\n",
            "Word Prior Probability for 'area': 0.0113\n",
            "Word Prior Probability for 'san': 0.0000\n",
            "Word Prior Probability for 'diego': 0.0000\n",
            "Word Prior Probability for 'county': 0.0145\n",
            "Word Prior Probability for 'calif': 0.0000\n",
            "Word Prior Probability for 'presently': 0.0000\n",
            "Word Prior Probability for 'constitute': 0.0000\n",
            "Word Prior Probability for 'camp': 0.0000\n",
            "Word Prior Probability for 'pendleton': 0.0000\n"
          ]
        }
      ],
      "source": [
        "for word in corpus[0]:\n",
        "    get_prior(word)"
      ]
    }
  ],
  "metadata": {
    "colab": {
      "provenance": []
    },
    "kernelspec": {
      "display_name": "Python 3",
      "language": "python",
      "name": "python3"
    },
    "language_info": {
      "codemirror_mode": {
        "name": "ipython",
        "version": 3
      },
      "file_extension": ".py",
      "mimetype": "text/x-python",
      "name": "python",
      "nbconvert_exporter": "python",
      "pygments_lexer": "ipython3",
      "version": "3.9.16"
    },
    "orig_nbformat": 4
  },
  "nbformat": 4,
  "nbformat_minor": 0
}
