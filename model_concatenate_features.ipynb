{
 "cells": [
  {
   "cell_type": "code",
   "execution_count": 38,
   "id": "09c26c7e",
   "metadata": {},
   "outputs": [],
   "source": [
    "import time\n",
    "from scipy.sparse import vstack\n",
    "from spacy_topic_model import TopicModel\n",
    "import pandas as pd\n",
    "import numpy as np\n",
    "import matplotlib.pyplot as plt\n",
    "import sklearn\n",
    "import json\n",
    "from sklearn.linear_model import SGDClassifier\n",
    "from sklearn.feature_extraction.text import TfidfVectorizer\n",
    "from alto_session import NAITM\n",
    "from sklearn.metrics import accuracy_score\n",
    "import sys, os\n",
    "import spacy\n",
    "from spacy.lang.en.stop_words import STOP_WORDS\n",
    "import re\n",
    "import pickle\n",
    "from IPython.display import display\n",
    "from tomotopy.utils import Corpus\n",
    "from active_learning_session import LA\n",
    "\n",
    "\n",
    "def blockPrint():\n",
    "    sys.stdout = open(os.devnull, 'w')\n",
    "    \n",
    "def enablePrint():\n",
    "    sys.stdout = sys.__stdout__\n",
    "\n",
    "file_name = './Data/newsgroup_sub_500.json'\n",
    "save_json_file_name = \"./Data/{}_newsgroup_sub_500_data.json\"\n",
    "dataset_name = 'newsgroup_sub_500'\n",
    "test_dataset_name = './Data/newsgroup_sub_1000.json'"
   ]
  },
  {
   "cell_type": "code",
   "execution_count": 2,
   "id": "5396bdaa",
   "metadata": {},
   "outputs": [
    {
     "name": "stdout",
     "output_type": "stream",
     "text": [
      "20\n"
     ]
    },
    {
     "data": {
      "text/html": [
       "<div>\n",
       "<style scoped>\n",
       "    .dataframe tbody tr th:only-of-type {\n",
       "        vertical-align: middle;\n",
       "    }\n",
       "\n",
       "    .dataframe tbody tr th {\n",
       "        vertical-align: top;\n",
       "    }\n",
       "\n",
       "    .dataframe thead th {\n",
       "        text-align: right;\n",
       "    }\n",
       "</style>\n",
       "<table border=\"1\" class=\"dataframe\">\n",
       "  <thead>\n",
       "    <tr style=\"text-align: right;\">\n",
       "      <th></th>\n",
       "      <th>text</th>\n",
       "      <th>label</th>\n",
       "    </tr>\n",
       "  </thead>\n",
       "  <tbody>\n",
       "    <tr>\n",
       "      <th>0</th>\n",
       "      <td>: : rangers top tenkwords: rangers: panix publ...</td>\n",
       "      <td>rec.sport.hockey</td>\n",
       "    </tr>\n",
       "    <tr>\n",
       "      <th>1</th>\n",
       "      <td>: intersc. bible search inst.: teme lines: 27 ...</td>\n",
       "      <td>soc.religion.christian</td>\n",
       "    </tr>\n",
       "    <tr>\n",
       "      <th>2</th>\n",
       "      <td>: : top 10 asons why i love cr (not for the ho...</td>\n",
       "      <td>rec.autos</td>\n",
       "    </tr>\n",
       "    <tr>\n",
       "      <th>3</th>\n",
       "      <td>subject: : amerins and evolutionfrom: halat@po...</td>\n",
       "      <td>alt.atheism</td>\n",
       "    </tr>\n",
       "    <tr>\n",
       "      <th>4</th>\n",
       "      <td>: frozen shoulder and lawn mowing: eastern ill...</td>\n",
       "      <td>sci.med</td>\n",
       "    </tr>\n",
       "  </tbody>\n",
       "</table>\n",
       "</div>"
      ],
      "text/plain": [
       "                                                text                   label\n",
       "0  : : rangers top tenkwords: rangers: panix publ...        rec.sport.hockey\n",
       "1  : intersc. bible search inst.: teme lines: 27 ...  soc.religion.christian\n",
       "2  : : top 10 asons why i love cr (not for the ho...               rec.autos\n",
       "3  subject: : amerins and evolutionfrom: halat@po...             alt.atheism\n",
       "4  : frozen shoulder and lawn mowing: eastern ill...                 sci.med"
      ]
     },
     "execution_count": 2,
     "metadata": {},
     "output_type": "execute_result"
    }
   ],
   "source": [
    "df = pd.read_json(file_name)\n",
    "print(len(np.unique(df['label'])))\n",
    "actual_labels = df.label.values.tolist()\n",
    "df.head(5)"
   ]
  },
  {
   "cell_type": "code",
   "execution_count": 3,
   "id": "759ddf84",
   "metadata": {},
   "outputs": [],
   "source": [
    "def train_models(path_name, num_topics):\n",
    "    SLDA_model = TopicModel(corpus_path=path_name, model_type='SLDA', min_num_topics= 5, num_iters= 600, load_model=True, save_model=False, load_path='./Model/model_data.pkl', hypers = None)\n",
    "    LLDA_model = TopicModel(corpus_path=path_name, model_type='LLDA', min_num_topics= 5, num_iters= 600, load_model=True, save_model=False, load_path='./Model/model_data.pkl', hypers = None)\n",
    "    LDA_model = TopicModel(corpus_path=path_name, model_type='LDA', min_num_topics= 5, num_iters= 600, load_model=True, save_model=False, load_path='./Model/model_data.pkl', hypers = None)\n",
    "    models = dict()\n",
    "    models['SLDA'] = SLDA_model\n",
    "    models['LLDA'] = LLDA_model\n",
    "    models['LDA'] = LDA_model\n",
    "#     model_topics = dict()\n",
    "    \n",
    "    for key, model in models.items():\n",
    "        print('start {} model'.format(key))\n",
    "        model.preprocess(5, 100);\n",
    "        start = time.time()\n",
    "        model.train(num_topics);\n",
    "        end = time.time()\n",
    "        print('Took {} seconds to prepare the model'.format(end-start))\n",
    "#         model_topics[key] = model.print_topics();\n",
    "        \n",
    "    return models"
   ]
  },
  {
   "cell_type": "code",
   "execution_count": 4,
   "id": "bc4fc8fa",
   "metadata": {},
   "outputs": [],
   "source": [
    "def get_topic_probability(model_collection):\n",
    "    doc_distribution = dict()\n",
    "    for key, model in model_collection.items():\n",
    "        doc_distribution[key] = dict()\n",
    "        start = time.time()\n",
    "        document_probas, doc_topic_probas = model.group_docs_to_topics()\n",
    "        end = time.time()\n",
    "        print('Took {} seconds to group the model'.format(end-start))\n",
    "        \n",
    "        doc_distribution[key]['document_probas'] = document_probas\n",
    "        doc_distribution[key]['doc_topic_probas'] = doc_topic_probas\n",
    "        \n",
    "    return doc_distribution"
   ]
  },
  {
   "cell_type": "code",
   "execution_count": 17,
   "id": "78111650",
   "metadata": {},
   "outputs": [],
   "source": [
    "def predict_labels(model_collection, model_type):\n",
    "    inferred, _ = model_collection[model_type].lda_model.infer(model_collection[model_type].corpus)\n",
    "    # print(inferred)\n",
    "    preds = model_collection[model_type].lda_model.estimate(inferred)\n",
    "    \n",
    "    label_predictions = []\n",
    "    for i, scores in enumerate(preds):\n",
    "        topic_num = int(np.argmax(scores))\n",
    "        label_predictions.append(model_collection[model_type].label_set[topic_num])\n",
    "        \n",
    "    return label_predictions"
   ]
  },
  {
   "cell_type": "code",
   "execution_count": 5,
   "id": "e50bad66",
   "metadata": {},
   "outputs": [],
   "source": [
    "def get_accuracy(model_type, model_collection, document_data):\n",
    "    result_df = model_collection[model_type].predict_labels(document_data)\n",
    "    for k, v in result_df['topic_model_prediction_score'].items():\n",
    "        result_df['topic_model_prediction_score'][k] = str(v)\n",
    "        \n",
    "    accuracy = sklearn.metrics.accuracy_score(result_df['label'], result_df['topic_model_prediction'])\n",
    "    predicted_labels = result_df['topic_model_prediction']\n",
    "    \n",
    "    return accuracy, predicted_labels"
   ]
  },
  {
   "cell_type": "code",
   "execution_count": 6,
   "id": "a8a46abc",
   "metadata": {},
   "outputs": [],
   "source": [
    "def map_labels(model_type, model_collection, labels):\n",
    "    simple_label_map = dict()\n",
    "\n",
    "    unique_set = model_collection[model_type].label_set\n",
    "    for i in range(len(unique_set)):\n",
    "        simple_label_map[unique_set[i]] = i\n",
    "        \n",
    "    map_labels = []\n",
    "\n",
    "    for ele in labels:\n",
    "        map_labels.append(simple_label_map[ele])\n",
    "    \n",
    "    return simple_label_map, map_labels\n",
    "\n",
    "def vectorize_texts(input_texts):\n",
    "    vectorizer = TfidfVectorizer(stop_words='english', lowercase=True, ngram_range=(1,2))\n",
    "    vectorizer_idf = vectorizer.fit_transform(input_texts)\n",
    "    \n",
    "    return vectorizer_idf\n",
    "\n",
    "def get_reverse_topics(model_type, model_collection):\n",
    "    if model_type == 'LDA':\n",
    "        simple_label_map, LDA_map_labels = map_labels(model_type, model_collection, model_collection[model_type].labels)\n",
    "        return simple_label_map\n",
    "    \n",
    "    topics = model_collection[model_type].print_topics(verbose=False)\n",
    "    \n",
    "    topic_map = dict()\n",
    "    for k, v in topics.items():\n",
    "        topic_map[k] = v[1]\n",
    "\n",
    "    reverse_topic_map = dict()\n",
    "    for k, v in topics.items():\n",
    "        reverse_topic_map[v[1]] = k\n",
    "        \n",
    "    return reverse_topic_map"
   ]
  },
  {
   "cell_type": "code",
   "execution_count": 52,
   "id": "b4ddb973",
   "metadata": {},
   "outputs": [],
   "source": [
    "def concatenate_input_vectorizer(model_collection, model_type, document_data):        \n",
    "    LDA_df = model_collection[model_type].predict_labels(document_data)\n",
    "    for k, v in LDA_df['topic_model_prediction_score'].items():\n",
    "        LDA_df['topic_model_prediction_score'][k] = str(v)\n",
    "    \n",
    "    save_json_file_name = './Data/{}_concatenated_input.json'\n",
    "    with open(save_json_file_name.format(model_type), \"w\") as outfile:\n",
    "        json.dump(LDA_df,outfile)\n",
    "    \n",
    "    prediction_df = pd.read_json(save_json_file_name.format(model_type))\n",
    "    \n",
    "    doc_keywords = prediction_df['topic_keywords']\n",
    "    doc_words_only = [ele.replace(',', '') for ele in doc_keywords]\n",
    "    \n",
    "    filtered_texts = [' '.join(ele) for ele in model_collection[model_type].data_words_nonstop]\n",
    "\n",
    "    contatenated_texts = [filtered_texts[i] + '' + doc_words_only[i] for i in range(len(filtered_texts))]\n",
    "        \n",
    "    return contatenated_texts\n",
    "\n",
    "def concatenate_unseen_vectorizer(model_collection, model_type, document_data, processed_texts):\n",
    "#     documents = document_data.text.values.tolist()\n",
    "    # doc_key_words = [model_collection[model_type].predict_new_doc(doc)[1] for doc in processed_texts]\n",
    "    test_corpus = Corpus()\n",
    "    for doc in processed_texts:\n",
    "        test_corpus.add_doc(model_collection[model_type].lda_model.make_doc(doc))\n",
    "        \n",
    "    # test_datas = [model_collection[model_type] for doc in pre_processing_texts]\n",
    "    # model_predictions = model_collection[model_type].predict\n",
    "    \n",
    "    if model_type == 'SLDA':\n",
    "        inferred, _ = model_collection[model_type].lda_model.infer(test_corpus)\n",
    "        preds = model_collection[model_type].lda_model.estimate(inferred)\n",
    "    else:\n",
    "        preds, _ = model_collection[model_type].lda_model.infer(test_corpus)\n",
    "\n",
    "    doc_key_words = []\n",
    "    for i, scores in enumerate(preds):\n",
    "        if model_type == 'SLDA':\n",
    "            topic_num = int(np.argmax(scores))\n",
    "            topic_words = ' '.join([tup[0] for tup in model_collection[model_type].lda_model.get_topic_words(topic_num, top_n=10)])\n",
    "            doc_key_words.append(topic_words)\n",
    "        else:\n",
    "            topic_num, topic_pct = scores.get_topics(top_n=1)[0]\n",
    "            topic_words = ' '.join([tup[0] for tup in model_collection[model_type].lda_model.get_topic_words(topic_num, top_n=10)])\n",
    "            doc_key_words.append(topic_words)\n",
    "    \n",
    "    filtered_texts = [' '.join(ele) for ele in processed_texts]\n",
    "    # doc_words_only = [''.join(ele) for ele in doc_key_words]\n",
    "    \n",
    "    contatenated_texts = [filtered_texts[i] + ' ' + doc_key_words[i] for i in range(len(filtered_texts))]\n",
    "#     print(contatenated_texts[1])\n",
    "    \n",
    "    return contatenated_texts"
   ]
  },
  {
   "cell_type": "code",
   "execution_count": 9,
   "id": "1897f49b",
   "metadata": {},
   "outputs": [],
   "source": [
    "def pre_processing_texts(corpus_data_path):\n",
    "    print('Processing data...')\n",
    "    dataframe = pd.read_json(corpus_data_path)\n",
    "    data = dataframe.text.values.tolist()\n",
    "    data_words_nonstop = []\n",
    "    # print('Finish lemmatization')\n",
    "\n",
    "    nlp = spacy.load('en_core_web_sm')\n",
    "    nlp.add_pipe('sentencizer')\n",
    "                            \n",
    "    docs = [nlp(x) for x in data]\n",
    "    stop_words = STOP_WORDS\n",
    "    \n",
    "    with open(\"newsgroup_removewords.txt\") as f:\n",
    "        words_to_remove = f.readlines()\n",
    "            \n",
    "    words_to_remove = [x.strip() for x in words_to_remove]\n",
    "    new_words_to_remove = [j.replace('\\'', '') for i in words_to_remove for j in i.split(',')]\n",
    "    new_words_to_remove = [j.replace(' ', '') for j in new_words_to_remove]\n",
    "    # self.stop_words.extend(new_words_to_remove)\n",
    "    for word in new_words_to_remove:\n",
    "        stop_words.add(word)\n",
    "    \n",
    "    print('not')\n",
    "    print('not' in stop_words)\n",
    "    #Creating and updating our list of tokens using list comprehension \n",
    "    if 'newsgroup' in corpus_data_path:\n",
    "        for doc in docs:\n",
    "            temp_doc = []\n",
    "            \n",
    "            for token in doc:\n",
    "                if not len(str(token)) == 1 and (re.search('[a-z0-9]+',str(token))) \\\n",
    "                    and not token.pos_ == 'PROPN' and not token.is_digit and not token.is_space \\\n",
    "                    and str(token).lower() not in stop_words:\n",
    "                    temp_doc.append(token.lemma_)\n",
    "                    \n",
    "            data_words_nonstop.append(temp_doc)\n",
    "                    \n",
    "    else:\n",
    "        for doc in docs:\n",
    "            temp_doc = []\n",
    "            for token in doc:\n",
    "                if (re.search('[a-z0-9]+',str(token))) \\\n",
    "                    and not len(str(token)) == 1 and not token.is_digit and not token.is_space \\\n",
    "                    and str(token).lower() not in stop_words:\n",
    "                        temp_doc.append(token.lemma_)\n",
    "            \n",
    "            data_words_nonstop.append(temp_doc)\n",
    "            \n",
    "    return data_words_nonstop"
   ]
  },
  {
   "cell_type": "code",
   "execution_count": 10,
   "id": "fbeb6fe7",
   "metadata": {},
   "outputs": [],
   "source": [
    "def simulate_experiment(model_collection, model_type, model_topic_distribution, dataframe, test_path, break_down_test_size, input_vectorizer):\n",
    "    topics = model_collection[model_type].print_topics(verbose=False)\n",
    "    test_df = pd.read_json(test_path)\n",
    "    \n",
    "    '''\n",
    "    vectorizer = TfidfVectorizer(stop_words='english', lowercase=True, ngram_range=(1,2))\n",
    "    token_lst = concatenate_input_vectorizer(model_collection[model_type].data_words_nonstop, model_collection, model_type, topics)\n",
    "    input_vectorizer = vectorizer.fit_transform(token_lst)\n",
    "    '''\n",
    "    \n",
    "#     test_texts = test_df['text']\n",
    "    test_labels = test_df['label']\n",
    "    \n",
    "    gold_labels = dataframe.label.values.tolist()\n",
    "    unique_labels = np.unique(gold_labels)\n",
    "    \n",
    "    simple_label_map = {i:unique_labels[i] for i in range(len(unique_labels))}\n",
    "    reverse_label_mapping = {v:k for k, v in simple_label_map.items()}\n",
    "    test_map_labels = [reverse_label_mapping[ele] for ele in test_labels]\n",
    "\n",
    "    \n",
    "    session = NAITM(model_collection[model_type].get_texts(), model_topic_distribution[model_type]['document_probas'],  model_topic_distribution[model_type]['doc_topic_probas'], dataframe, 'logreg', input_vectorizer, len(topics), 500)\n",
    "    \n",
    "    \n",
    "    doc_count = 0\n",
    "    doc_recommend_score = []\n",
    "    lst = []\n",
    "\n",
    "    classifier_acc = []\n",
    "    recommend_ids1, actual_topic1 = [], []\n",
    "\n",
    "    test_acc1 = dict()\n",
    "    for ele in break_down_test_size:\n",
    "        test_acc1[ele] = []\n",
    "\n",
    "    # logreg_model3 = SGDClassifier(loss=\"log\", penalty=\"l2\", max_iter=1000, tol=1e-3, random_state=42, learning_rate=\"adaptive\", eta0=0.1, validation_fraction=0.2)\n",
    "    start_time = time.time()\n",
    "    while doc_count < 500:\n",
    "        try:\n",
    "            random_document, score = session.recommend_document();\n",
    "        except:\n",
    "            print('reached the end of the experiment. {} docs labeled'.format(doc_count))\n",
    "            end_time = time.time()\n",
    "            break\n",
    "\n",
    "            \n",
    "        inferred_topics = gold_labels[random_document]\n",
    "\n",
    "\n",
    "        if doc_count >= 3:\n",
    "            logreg_y_pred= session.classifier.predict(input_vectorizer[0:500])\n",
    "\n",
    "\n",
    "\n",
    "            accuracy = accuracy_score(test_map_labels[0:500], logreg_y_pred)\n",
    "            print('classifier accuracy is {}'.format(accuracy))\n",
    "            for j in break_down_test_size:\n",
    "        #         print(j)\n",
    "                test_logreg_y_pred= session.classifier.predict(input_vectorizer[500:j])\n",
    "                test_accuracy = accuracy_score(test_map_labels[500:j], test_logreg_y_pred)\n",
    "                test_acc1[j].append(test_accuracy)\n",
    "\n",
    "            print('test set acc {}'.format(test_acc1[800][-1]))\n",
    "            '''\n",
    "            Save this part\n",
    "            '''\n",
    "            classifier_acc.append(accuracy)\n",
    "            doc_recommend_score.append(score)\n",
    "        else:\n",
    "            classifier_acc.append(-1)\n",
    "            doc_recommend_score.append(-1)\n",
    "            for j in break_down_test_size:\n",
    "                test_acc1[j].append(-1)\n",
    "\n",
    "        '''\n",
    "        remember to also save recommended document id and inferred topics\n",
    "        '''\n",
    "        recommend_ids1.append(random_document)\n",
    "        \n",
    "        actual_topic1.append(reverse_label_mapping[gold_labels[random_document]])\n",
    "\n",
    "        print('document id {}'.format(random_document))\n",
    "        print('inferred topics are {}'.format(inferred_topics))\n",
    "        print('\\033[1mactual label is {}\\033[0m'.format(model_collection[model_type].labels[random_document]))\n",
    "    #     session.label(random_document, user_input)\n",
    "    #     print('\\033[1mpredicted topic is {}\\033[0m'.format(reverse_SLDA_topic_map[slda_predicted[random_document]]))\n",
    "        print('\\033[1mgold topic is {}\\033[0m'.format(reverse_label_mapping[gold_labels[random_document]]))\n",
    "\n",
    "    #     session.label(random_document, reverse_SLDA_topic_map[slda_predicted[random_document]])\n",
    "        session.label(random_document, reverse_label_mapping[gold_labels[random_document]])\n",
    "\n",
    "    #     logreg_y_pred= .predict(vectorizer_idf)\n",
    "\n",
    "        lst.append(doc_count)\n",
    "        \n",
    "        if doc_count % 7 == 0 and model_type == 'SLDA':\n",
    "            model_collection[model_type].retrain()\n",
    "        \n",
    "        doc_count += 1\n",
    "        end_time = time.time()\n",
    "    \n",
    "    result = pd.DataFrame()\n",
    "    result['classifier acc'] = classifier_acc\n",
    "    result['actual topic'] = actual_topic1\n",
    "    result['recommend ids'] = recommend_ids1\n",
    "    result['recommend score'] = doc_recommend_score\n",
    "\n",
    "    for k, v in test_acc1.items():\n",
    "        result['{} test set'.format(k-500)] = v\n",
    "    \n",
    "    result.to_csv('./Data/{}_concatenate_result.csv'.format(model_type), index=False)\n",
    "    \n",
    "    return result, end_time-start_time"
   ]
  },
  {
   "cell_type": "code",
   "execution_count": 11,
   "id": "aa177e2e",
   "metadata": {},
   "outputs": [],
   "source": [
    "def simulate_baseline_experiment(dataframe, test_path, break_down_test_size, input_vectorizer, gold_labels):\n",
    "    test_df = pd.read_json(test_path)\n",
    "    \n",
    "    test_labels = test_df['label']\n",
    "    unique_labels = np.unique(gold_labels)\n",
    "    \n",
    "    simple_label_map = {i:unique_labels[i] for i in range(len(unique_labels))}\n",
    "    reverse_label_mapping = {v:k for k, v in simple_label_map.items()}\n",
    "    test_map_labels = [reverse_label_mapping[ele] for ele in test_labels]\n",
    "    \n",
    "    \n",
    "    print(simple_label_map)\n",
    "    document_texts = dataframe.text.values.tolist()\n",
    "    result_actual_labels = []\n",
    "    session = LA(document_texts, dataframe, 'logreg', input_vectorizer, 500)\n",
    "    \n",
    "    doc_count = 0\n",
    "    doc_recommend_score = []\n",
    "    lst = []\n",
    "    acc= []\n",
    "    document_stack, labels_track = None, []\n",
    "    classifier_acc = []\n",
    "    recommend_ids1 = []\n",
    "\n",
    "    test_acc1 = dict()\n",
    "    for ele in break_down_test_size:\n",
    "        test_acc1[ele] = []\n",
    "\n",
    "    # logreg_model3 = SGDClassifier(loss=\"log\", penalty=\"l2\", max_iter=1000, tol=1e-3, random_state=42, learning_rate=\"adaptive\", eta0=0.1, validation_fraction=0.2)\n",
    "    start_time = time.time()\n",
    "    \n",
    "    while doc_count < 500:\n",
    "        try:\n",
    "            random_document, score = session.recommend_document();\n",
    "        except:\n",
    "            print('reached the end of the experiment. {} docs labeled'.format(doc_count))\n",
    "            end_time = time.time()\n",
    "            break\n",
    "        \n",
    "    #     inferred_topics = models['SLDA'].predict_doc(random_document, 3);\n",
    "\n",
    "    #     inferred_topics = slda_predicted[random_document]\n",
    "        inferred_topics = gold_labels[random_document]\n",
    "        result_actual_labels.append(inferred_topics)\n",
    "\n",
    "        if doc_count >= 3:\n",
    "            logreg_y_pred= session.classifier.predict(input_vectorizer[0:500])\n",
    "\n",
    "\n",
    "\n",
    "            accuracy = accuracy_score(test_map_labels[0:500], logreg_y_pred)\n",
    "\n",
    "            for j in break_down_test_size:\n",
    "        #         print(j)\n",
    "                test_logreg_y_pred= session.classifier.predict(input_vectorizer[500:j])\n",
    "                test_accuracy = accuracy_score(test_map_labels[500:j], test_logreg_y_pred)\n",
    "                test_acc1[j].append(test_accuracy)\n",
    "\n",
    "            print('test set acc {}'.format(test_acc1[800][-1]))\n",
    "            '''\n",
    "            Save this part\n",
    "            '''\n",
    "            classifier_acc.append(accuracy)\n",
    "            doc_recommend_score.append(score)\n",
    "            print('classifier accuracy is {}'.format(accuracy))\n",
    "        else:\n",
    "            classifier_acc.append(-1)\n",
    "            doc_recommend_score.append(-1)\n",
    "            for j in break_down_test_size:\n",
    "                test_acc1[j].append(-1)\n",
    "\n",
    "        '''\n",
    "        remember to also save recommended document id and inferred topics\n",
    "        '''\n",
    "        recommend_ids1.append(random_document)\n",
    "\n",
    "\n",
    "        print('document id {}'.format(random_document))\n",
    "        print('actual label is {}'.format(inferred_topics))\n",
    "        \n",
    "       \n",
    "\n",
    "        session.label(random_document, reverse_label_mapping[gold_labels[random_document]])\n",
    "\n",
    "\n",
    "        lst.append(doc_count)\n",
    "        \n",
    "        \n",
    "        doc_count += 1\n",
    "        end_time = time.time()\n",
    "    \n",
    "    result = pd.DataFrame()\n",
    "    result['classifier acc'] = classifier_acc\n",
    "#     result['inferred topic'] = model_inferred_topics1\n",
    "    result['actual label'] = result_actual_labels\n",
    "    result['recommend ids'] = recommend_ids1\n",
    "    result['recommend score'] = doc_recommend_score\n",
    "\n",
    "    for k, v in test_acc1.items():\n",
    "        result['{} test set'.format(k-500)] = v\n",
    "    \n",
    "    result.to_csv('./Data/baseline_result.csv', index=False)\n",
    "    \n",
    "    return result, end_time-start_time"
   ]
  },
  {
   "cell_type": "markdown",
   "id": "1667df2b",
   "metadata": {},
   "source": [
    "# This section runs an experiment"
   ]
  },
  {
   "cell_type": "code",
   "execution_count": 12,
   "id": "5f1eae03",
   "metadata": {},
   "outputs": [
    {
     "name": "stdout",
     "output_type": "stream",
     "text": [
      "start SLDA model\n",
      "num topics: 20\n",
      "Created SLDA model\n",
      "starting training...\n",
      "Took 18.666397094726562 seconds to prepare the model\n",
      "start LLDA model\n",
      "num topics: 20\n",
      "Created LLDA model\n",
      "starting training...\n",
      "Took 1.7921907901763916 seconds to prepare the model\n",
      "start LDA model\n",
      "num topics: 20\n",
      "Created LDA model\n",
      "starting training...\n",
      "Took 1.7590200901031494 seconds to prepare the model\n"
     ]
    }
   ],
   "source": [
    "# blockPrint()\n",
    "experiment_models = train_models(file_name, 20);"
   ]
  },
  {
   "cell_type": "code",
   "execution_count": 13,
   "id": "d10a0069",
   "metadata": {},
   "outputs": [],
   "source": [
    "enablePrint()\n",
    "experiment_topic_distribution = get_topic_probability(experiment_models)"
   ]
  },
  {
   "cell_type": "code",
   "execution_count": 33,
   "id": "3ab8cd62",
   "metadata": {},
   "outputs": [],
   "source": [
    "vectorizer = TfidfVectorizer(stop_words='english', lowercase=True, ngram_range=(1,2))\n",
    "# experiment_vectorizer_idf = vectorizer.fit_transform(pd.read_json(test_dataset_name)['text'])\n",
    "# processed_data = pre_processing_texts(test_dataset_name)\n",
    "SLDA_experiment_vectorizer_idf = concatenate_input_vectorizer(experiment_models, 'SLDA', df)\n",
    "SLDA_experiment_vectorizer_idf = vectorizer.fit_transform(SLDA_experiment_vectorizer_idf)\n",
    "experiment_vectorizer_idf = vectorizer.fit_transform(pd.read_json(test_dataset_name)['text'])"
   ]
  },
  {
   "cell_type": "code",
   "execution_count": 15,
   "id": "cfa2ce69",
   "metadata": {},
   "outputs": [],
   "source": [
    "experiment_test_sizes = [i for i in range(len(pd.read_json(test_dataset_name)['text']) + 1) if i > 500 and i % 100 == 0]"
   ]
  },
  {
   "cell_type": "code",
   "execution_count": 18,
   "id": "e00f65e0",
   "metadata": {},
   "outputs": [
    {
     "data": {
      "text/plain": [
       "0.51"
      ]
     },
     "metadata": {},
     "output_type": "display_data"
    }
   ],
   "source": [
    "# Check the accuracy rate of sLDA\n",
    "sLDA_pred = predict_labels(experiment_models, 'SLDA')\n",
    "display(sklearn.metrics.accuracy_score(experiment_models['SLDA'].labels, sLDA_pred))"
   ]
  },
  {
   "cell_type": "code",
   "execution_count": 26,
   "id": "c0bcbf8b",
   "metadata": {},
   "outputs": [],
   "source": [
    "# SLDA_experiment_result, SLDA_experiment_time = simulate_experiment(experiment_models, 'SLDA', experiment_topic_distribution, df, test_dataset_name, experiment_test_sizes, SLDA_experiment_vectorizer_idf)"
   ]
  },
  {
   "cell_type": "code",
   "execution_count": 17,
   "id": "4d8cfbef",
   "metadata": {},
   "outputs": [],
   "source": [
    "LLDA_experiment_vectorizer_idf = concatenate_input_vectorizer(experiment_models, 'LLDA', df)\n",
    "LLDA_experiment_vectorizer_idf = vectorizer.fit_transform(LLDA_experiment_vectorizer_idf)\n",
    "LLDA_experiment_result, LLDA_experiment_time = simulate_experiment(experiment_models, 'LLDA', experiment_topic_distribution, df, test_dataset_name, experiment_test_sizes, LLDA_experiment_vectorizer_idf)"
   ]
  },
  {
   "cell_type": "code",
   "execution_count": 14,
   "id": "8730daab",
   "metadata": {},
   "outputs": [],
   "source": [
    "LDA_experiment_vectorizer_idf = concatenate_input_vectorizer(experiment_models, 'LDA', df)\n",
    "LDA_experiment_vectorizer_idf = vectorizer.fit_transform(LDA_experiment_vectorizer_idf)\n",
    "LDA_experiment_result, LDA_experiment_time = simulate_experiment(experiment_models, 'LDA', experiment_topic_distribution, df, test_dataset_name, experiment_test_sizes, LDA_experiment_vectorizer_idf)"
   ]
  },
  {
   "cell_type": "markdown",
   "id": "b6a0a699",
   "metadata": {},
   "source": [
    "# Plotting results"
   ]
  },
  {
   "cell_type": "code",
   "execution_count": 27,
   "id": "2fbeae16",
   "metadata": {},
   "outputs": [],
   "source": [
    "from plotnine import *\n",
    "def plot(data, xlabel, ylabel, title):\n",
    "    data_long = pd.melt(data, id_vars=['k'], var_name='model', value_name='perplexity')\n",
    "\n",
    "    # Create line plot\n",
    "    return ggplot(data_long, aes(x='k', y='perplexity', color='model', group='model')) \\\n",
    "        + geom_line() \\\n",
    "        + xlab(xlabel) \\\n",
    "        + ylab(ylabel) \\\n",
    "        + ggtitle(title) \\\n",
    "        + theme_minimal()\n",
    "    \n",
    "    "
   ]
  },
  {
   "cell_type": "code",
   "execution_count": 28,
   "id": "430690a8",
   "metadata": {},
   "outputs": [],
   "source": [
    "save = False"
   ]
  },
  {
   "cell_type": "code",
   "execution_count": 35,
   "id": "f80e2aef",
   "metadata": {},
   "outputs": [
    {
     "data": {
      "image/png": "[encoded data removed]",
      "text/plain": [
       "<Figure size 640x480 with 1 Axes>"
      ]
     },
     "metadata": {
      "needs_background": "light"
     },
     "output_type": "display_data"
    },
    {
     "data": {
      "text/plain": [
       "<ggplot: (8791475210885)>"
      ]
     },
     "execution_count": 35,
     "metadata": {},
     "output_type": "execute_result"
    }
   ],
   "source": [
    "SLDA_experiment_acc = SLDA_experiment_result['classifier acc']\n",
    "LLDA_experiment_acc = LLDA_experiment_result['classifier acc']\n",
    "LDA_experiment_acc = LDA_experiment_result['classifier acc']\n",
    "baseline_experiment_acc = baseline_result['classifier acc']\n",
    "\n",
    "lst_len = min(len(SLDA_experiment_acc), len(LLDA_experiment_acc), len(LDA_experiment_acc), len(baseline_experiment_acc))\n",
    "\n",
    "# Create data frame from the given data\n",
    "data = pd.DataFrame({\n",
    "    'k': [i for i in range(4, lst_len)],\n",
    "    'LLDA': LLDA_experiment_acc[4:lst_len],\n",
    "    'SLDA': SLDA_experiment_acc[4:lst_len],\n",
    "    'LDA': LDA_experiment_acc[4:lst_len],\n",
    "    'base': baseline_experiment_acc[4:lst_len]\n",
    "})\n",
    "\n",
    "plot_res = plot(data, 'Number of documents labeled (k)', 'Training Set Accuracy', 'Training Accuracy of LDA, LLDA and SLDA, baseline')\n",
    "if save:\n",
    "    ggsave(plot_res,file='Training_accuracy.png')\n",
    "plot_res"
   ]
  },
  {
   "cell_type": "code",
   "execution_count": 36,
   "id": "6d7014ea",
   "metadata": {},
   "outputs": [
    {
     "data": {
      "image/png": "[encoded data removed]",
      "text/plain": [
       "<Figure size 640x480 with 1 Axes>"
      ]
     },
     "metadata": {
      "needs_background": "light"
     },
     "output_type": "display_data"
    },
    {
     "data": {
      "text/plain": [
       "<ggplot: (8791353263025)>"
      ]
     },
     "execution_count": 36,
     "metadata": {},
     "output_type": "execute_result"
    }
   ],
   "source": [
    "SLDA_experiment_test_acc = SLDA_experiment_result['400 test set']\n",
    "LLDA_experiment_test_acc = LLDA_experiment_result['400 test set']\n",
    "LDA_experiment_test_acc = LDA_experiment_result['400 test set']\n",
    "baseline_experiment_test_acc = baseline_result['400 test set']\n",
    "\n",
    "# Create data frame from the given data\n",
    "data = pd.DataFrame({\n",
    "    'k': [i for i in range(4, lst_len)],\n",
    "    'LLDA': LLDA_experiment_test_acc[4:lst_len],\n",
    "    'SLDA': SLDA_experiment_test_acc[4:lst_len],\n",
    "    'LDA': LDA_experiment_test_acc[4:lst_len],\n",
    "    'base': baseline_experiment_test_acc[4:lst_len]\n",
    "})\n",
    "\n",
    "plot_res1 = plot(data, 'Number of documents labeled (k)', 'Test Set Accuracy', 'Testing Accuracy of LDA, LLDA and SLDA (Test Size 400)')\n",
    "if save:\n",
    "    ggsave(plot_res1,file='Testing_accuracy_400.png')\n",
    "plot_res1"
   ]
  },
  {
   "cell_type": "code",
   "execution_count": 37,
   "id": "30fc14a6",
   "metadata": {},
   "outputs": [
    {
     "data": {
      "image/png": "[encoded data removed]",
      "text/plain": [
       "<Figure size 640x480 with 1 Axes>"
      ]
     },
     "metadata": {
      "needs_background": "light"
     },
     "output_type": "display_data"
    },
    {
     "data": {
      "text/plain": [
       "<ggplot: (8791349847977)>"
      ]
     },
     "execution_count": 37,
     "metadata": {},
     "output_type": "execute_result"
    }
   ],
   "source": [
    "# Create data frame from the given data\n",
    "data = pd.DataFrame({\n",
    "    'k': [i for i in range(4, lst_len)],\n",
    "    'LLDA': LLDA_experiment_result['100 test set'][4:lst_len],\n",
    "    'SLDA': SLDA_experiment_result['100 test set'][4:lst_len],\n",
    "    'LDA': LDA_experiment_result['100 test set'][4:lst_len],\n",
    "    'base': baseline_result['100 test set'][4:lst_len]\n",
    "})\n",
    "\n",
    "plot_res2 = plot(data, 'Number of documents labeled (k)', 'Test Set Accuracy', 'Testing Accuracy of LDA, LLDA and SLDA (Test Size 100)')\n",
    "if save:\n",
    "    ggsave(plot_res2,file='Testing_accuracy_150.png')\n",
    "plot_res2"
   ]
  },
  {
   "cell_type": "markdown",
   "id": "092eff24",
   "metadata": {},
   "source": [
    "# Run the experiment when only using the training set in the LDA models"
   ]
  },
  {
   "cell_type": "code",
   "execution_count": 40,
   "id": "b5d4f184",
   "metadata": {},
   "outputs": [],
   "source": [
    "vectorizer = TfidfVectorizer(stop_words='english', lowercase=True, ngram_range=(1,2))\n",
    "# experiment_vectorizer_idf = vectorizer.fit_transform(pd.read_json(test_dataset_name)['text'])\n",
    "test_df = pd.read_json(test_dataset_name)\n",
    "\n",
    "if os.path.exists(test_dataset_name.replace('.json', '.pkl')):\n",
    "     with open(test_dataset_name.replace('.json', '.pkl'), 'rb') as inp:\n",
    "        processed_data = pickle.load(inp)\n",
    "else:\n",
    "    processed_data = pre_processing_texts(test_dataset_name)\n",
    "# concatenate_unseen_vectorizer(model_collection, model_type, document_data, processed_texts)"
   ]
  },
  {
   "cell_type": "markdown",
   "id": "34bb7b0a",
   "metadata": {},
   "source": [
    "### Code to save the data. If not saving data, then need to process the data"
   ]
  },
  {
   "cell_type": "code",
   "execution_count": 21,
   "id": "fdae18c9",
   "metadata": {},
   "outputs": [],
   "source": [
    "# test_dataset_name = './Data/newsgroup_sub_1000.json'\n",
    "with open(test_dataset_name.replace('.json', '.pkl'), 'wb+') as outp:\n",
    "    pickle.dump(processed_data, outp)"
   ]
  },
  {
   "cell_type": "markdown",
   "id": "9e1b07d7",
   "metadata": {},
   "source": [
    "### Perform the experiment"
   ]
  },
  {
   "cell_type": "code",
   "execution_count": 53,
   "id": "19863c51",
   "metadata": {},
   "outputs": [],
   "source": [
    "SLDA_experiment_vectorizer_idf = concatenate_unseen_vectorizer(experiment_models, 'SLDA', test_df, processed_data)\n",
    "SLDA_experiment_vectorizer_idf = vectorizer.fit_transform(SLDA_experiment_vectorizer_idf)"
   ]
  },
  {
   "cell_type": "code",
   "execution_count": 54,
   "id": "83490581",
   "metadata": {},
   "outputs": [],
   "source": [
    "SLDA_experiment_result, SLDA_experiment_time = simulate_experiment(experiment_models, 'SLDA', experiment_topic_distribution, df, test_dataset_name, experiment_test_sizes, SLDA_experiment_vectorizer_idf)"
   ]
  },
  {
   "cell_type": "code",
   "execution_count": 55,
   "id": "6727dc96",
   "metadata": {},
   "outputs": [],
   "source": [
    "LLDA_experiment_vectorizer_idf = concatenate_unseen_vectorizer(experiment_models, 'LLDA', test_df, processed_data)\n",
    "LLDA_experiment_vectorizer_idf = vectorizer.fit_transform(LLDA_experiment_vectorizer_idf)\n",
    "LLDA_experiment_result, LLDA_experiment_time = simulate_experiment(experiment_models, 'LLDA', experiment_topic_distribution, df, test_dataset_name, experiment_test_sizes, LLDA_experiment_vectorizer_idf)"
   ]
  },
  {
   "cell_type": "code",
   "execution_count": 56,
   "id": "2dd45522",
   "metadata": {},
   "outputs": [],
   "source": [
    "LDA_experiment_vectorizer_idf = concatenate_unseen_vectorizer(experiment_models, 'LDA', test_df, processed_data)\n",
    "LDA_experiment_vectorizer_idf = vectorizer.fit_transform(LDA_experiment_vectorizer_idf)\n",
    "LDA_experiment_result, LDA_experiment_time = simulate_experiment(experiment_models, 'LDA', experiment_topic_distribution, df, test_dataset_name, experiment_test_sizes, LDA_experiment_vectorizer_idf)"
   ]
  },
  {
   "cell_type": "code",
   "execution_count": 51,
   "id": "ea06ba4f",
   "metadata": {},
   "outputs": [],
   "source": [
    "# simulate_baseline_experiment(dataframe, test_path, break_down_test_size, input_vectorizer, gold_labels)\n",
    "baseline_result, baseline_time = simulate_baseline_experiment(df, test_dataset_name, experiment_test_sizes, experiment_vectorizer_idf, df.label.values.tolist())"
   ]
  }
 ],
 "metadata": {
  "kernelspec": {
   "display_name": "Python 3",
   "language": "python",
   "name": "python3"
  },
  "language_info": {
   "codemirror_mode": {
    "name": "ipython",
    "version": 3
   },
   "file_extension": ".py",
   "mimetype": "text/x-python",
   "name": "python",
   "nbconvert_exporter": "python",
   "pygments_lexer": "ipython3",
   "version": "3.7.10"
  },
  "vscode": {
   "interpreter": {
    "hash": "31f2aee4e71d21fbe5cf8b01ff0e069b9275f58929596ceb00d14d90e3e16cd6"
   }
  }
 },
 "nbformat": 4,
 "nbformat_minor": 5
}
