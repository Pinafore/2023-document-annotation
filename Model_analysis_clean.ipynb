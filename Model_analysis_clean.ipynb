{
 "cells": [
  {
   "cell_type": "code",
   "execution_count": 2,
   "id": "09c26c7e",
   "metadata": {},
   "outputs": [],
   "source": [
    "import time\n",
    "from scipy.sparse import vstack\n",
    "from spacy_topic_model import TopicModel\n",
    "import pandas as pd\n",
    "import numpy as np\n",
    "import matplotlib.pyplot as plt\n",
    "import sklearn\n",
    "from sklearn.linear_model import SGDClassifier\n",
    "from sklearn.feature_extraction.text import TfidfVectorizer\n",
    "from alto_session import NAITM\n",
    "from sklearn.metrics import accuracy_score\n",
    "import sys, os\n",
    "from tomotopy import TermWeight\n",
    "import pickle\n",
    "from IPython.display import display\n",
    "from active_learning_session import LA\n",
    "\n",
    "'''\n",
    "LDA\n",
    "\n",
    "tw=TermWeight.ONE, min_cf=0, min_df=0, rm_top=0, k=1, alpha=0.1, \n",
    "eta=0.01, seed=None, corpus=None, transform=None\n",
    "'''\n",
    "\n",
    "'''\n",
    "SLDA\n",
    "vars='',mu=[], nu_sq=[], glm_param=[]\n",
    "\n",
    "tw=TermWeight.ONE, min_cf=0, min_df=0, rm_top=0, k=1, alpha=0.1, \n",
    "eta=0.01, vars='',mu=[], nu_sq=[], glm_param=[], seed=None, corpus=None, transform=None\n",
    "'''\n",
    "\n",
    "'''\n",
    "LLDA\n",
    "\n",
    "tw=TermWeight.ONE, min_cf=0, min_df=0, rm_top=0, k=1, alpha=0.1, \n",
    "eta=0.01, seed=None, corpus=None, transform=None\n",
    "'''\n",
    "\n",
    "\n",
    "\n",
    "# SLDA_hyper_params = {'alpha': , 'eta': , 'min_cf': , 'min_df': , 'rm_top': , 'tw':TermWeight.ONE , 'iterations': }\n",
    "\n",
    "def blockPrint():\n",
    "    sys.stdout = open(os.devnull, 'w')\n",
    "    \n",
    "def enablePrint():\n",
    "    sys.stdout = sys.__stdout__\n",
    "\n",
    "file_name = './Data/newsgroup_sub_500.json'\n",
    "save_json_file_name = \"./Data/{}_newsgroup_sub_500_data.json\"\n",
    "dataset_name = 'newsgroup_sub_500'\n",
    "test_dataset_name = './Data/newsgroup_sub_1000.json'"
   ]
  },
  {
   "cell_type": "code",
   "execution_count": 3,
   "id": "5396bdaa",
   "metadata": {},
   "outputs": [
    {
     "name": "stdout",
     "output_type": "stream",
     "text": [
      "20\n"
     ]
    },
    {
     "data": {
      "text/html": [
       "<div>\n",
       "<style scoped>\n",
       "    .dataframe tbody tr th:only-of-type {\n",
       "        vertical-align: middle;\n",
       "    }\n",
       "\n",
       "    .dataframe tbody tr th {\n",
       "        vertical-align: top;\n",
       "    }\n",
       "\n",
       "    .dataframe thead th {\n",
       "        text-align: right;\n",
       "    }\n",
       "</style>\n",
       "<table border=\"1\" class=\"dataframe\">\n",
       "  <thead>\n",
       "    <tr style=\"text-align: right;\">\n",
       "      <th></th>\n",
       "      <th>text</th>\n",
       "      <th>label</th>\n",
       "    </tr>\n",
       "  </thead>\n",
       "  <tbody>\n",
       "    <tr>\n",
       "      <th>0</th>\n",
       "      <td>: : rangers top tenkwords: rangers: panix publ...</td>\n",
       "      <td>rec.sport.hockey</td>\n",
       "    </tr>\n",
       "    <tr>\n",
       "      <th>1</th>\n",
       "      <td>: intersc. bible search inst.: teme lines: 27 ...</td>\n",
       "      <td>soc.religion.christian</td>\n",
       "    </tr>\n",
       "    <tr>\n",
       "      <th>2</th>\n",
       "      <td>: : top 10 asons why i love cr (not for the ho...</td>\n",
       "      <td>rec.autos</td>\n",
       "    </tr>\n",
       "    <tr>\n",
       "      <th>3</th>\n",
       "      <td>subject: : amerins and evolutionfrom: halat@po...</td>\n",
       "      <td>alt.atheism</td>\n",
       "    </tr>\n",
       "    <tr>\n",
       "      <th>4</th>\n",
       "      <td>: frozen shoulder and lawn mowing: eastern ill...</td>\n",
       "      <td>sci.med</td>\n",
       "    </tr>\n",
       "  </tbody>\n",
       "</table>\n",
       "</div>"
      ],
      "text/plain": [
       "                                                text                   label\n",
       "0  : : rangers top tenkwords: rangers: panix publ...        rec.sport.hockey\n",
       "1  : intersc. bible search inst.: teme lines: 27 ...  soc.religion.christian\n",
       "2  : : top 10 asons why i love cr (not for the ho...               rec.autos\n",
       "3  subject: : amerins and evolutionfrom: halat@po...             alt.atheism\n",
       "4  : frozen shoulder and lawn mowing: eastern ill...                 sci.med"
      ]
     },
     "execution_count": 3,
     "metadata": {},
     "output_type": "execute_result"
    }
   ],
   "source": [
    "df = pd.read_json(file_name)\n",
    "print(len(np.unique(df['label'])))\n",
    "actual_labels = df.label.values.tolist()\n",
    "df.head(5)"
   ]
  },
  {
   "cell_type": "code",
   "execution_count": 20,
   "id": "759ddf84",
   "metadata": {},
   "outputs": [],
   "source": [
    "def train_models(path_name, num_topics):\n",
    "    SLDA_model = TopicModel(corpus_path=path_name, model_type='SLDA', min_num_topics= 5, num_iters= 600, load_model=False, save_model=True, load_path='./Model/model_data.pkl', hypers = None)\n",
    "    LLDA_model = TopicModel(corpus_path=path_name, model_type='LLDA', min_num_topics= 5, num_iters= 600, load_model=True, save_model=True, load_path='./Model/model_data.pkl', hypers = None)\n",
    "    LDA_model = TopicModel(corpus_path=path_name, model_type='LDA', min_num_topics= 5, num_iters= 600, load_model=True, save_model=True, load_path='./Model/model_data.pkl', hypers = None)\n",
    "    models = dict()\n",
    "    models['SLDA'] = SLDA_model\n",
    "    models['LLDA'] = LLDA_model\n",
    "    models['LDA'] = LDA_model\n",
    "#     model_topics = dict()\n",
    "    \n",
    "    for key, model in models.items():\n",
    "        print('start {} model'.format(key))\n",
    "        model.preprocess(5, 100);\n",
    "        start = time.time()\n",
    "        model.train(num_topics);\n",
    "        end = time.time()\n",
    "        print('Took {} seconds to prepare the model'.format(end-start))\n",
    "#         model_topics[key] = model.print_topics();\n",
    "        \n",
    "    return models"
   ]
  },
  {
   "cell_type": "code",
   "execution_count": 5,
   "id": "bc4fc8fa",
   "metadata": {},
   "outputs": [],
   "source": [
    "def get_topic_probability(model_collection):\n",
    "    doc_distribution = dict()\n",
    "    for key, model in model_collection.items():\n",
    "        doc_distribution[key] = dict()\n",
    "        start = time.time()\n",
    "        document_probas, doc_topic_probas = model.group_docs_to_topics()\n",
    "        end = time.time()\n",
    "        print('Took {} seconds to group the model'.format(end-start))\n",
    "        \n",
    "        doc_distribution[key]['document_probas'] = document_probas\n",
    "        doc_distribution[key]['doc_topic_probas'] = doc_topic_probas\n",
    "        \n",
    "    return doc_distribution"
   ]
  },
  {
   "cell_type": "code",
   "execution_count": 6,
   "id": "e50bad66",
   "metadata": {},
   "outputs": [],
   "source": [
    "def get_accuracy(model_type, model_collection, document_data):\n",
    "    result_df = model_collection[model_type].predict_labels(document_data)\n",
    "    for k, v in result_df['topic_model_prediction_score'].items():\n",
    "        result_df['topic_model_prediction_score'][k] = str(v)\n",
    "        \n",
    "    accuracy = sklearn.metrics.accuracy_score(result_df['label'], result_df['topic_model_prediction'])\n",
    "    predicted_labels = result_df['topic_model_prediction']\n",
    "    \n",
    "    return accuracy, predicted_labels"
   ]
  },
  {
   "cell_type": "code",
   "execution_count": 7,
   "id": "a8a46abc",
   "metadata": {},
   "outputs": [],
   "source": [
    "def map_labels(model_type, model_collection, labels):\n",
    "    simple_label_map = dict()\n",
    "\n",
    "    unique_set = model_collection[model_type].label_set\n",
    "    for i in range(len(unique_set)):\n",
    "        simple_label_map[unique_set[i]] = i\n",
    "        \n",
    "    map_labels = []\n",
    "\n",
    "    for ele in labels:\n",
    "        map_labels.append(simple_label_map[ele])\n",
    "    \n",
    "    return simple_label_map, map_labels\n",
    "\n",
    "def vectorize_texts(input_texts):\n",
    "    vectorizer = TfidfVectorizer(stop_words='english', lowercase=True, ngram_range=(1,2))\n",
    "    vectorizer_idf = vectorizer.fit_transform(input_texts)\n",
    "    \n",
    "    return vectorizer_idf\n",
    "\n",
    "def get_reverse_topics(model_type, model_collection):\n",
    "    if model_type == 'LDA':\n",
    "        simple_label_map, LDA_map_labels = map_labels(model_type, model_collection, model_collection[model_type].labels)\n",
    "        return simple_label_map\n",
    "    \n",
    "    topics = model_collection[model_type].print_topics(verbose=False)\n",
    "    \n",
    "    topic_map = dict()\n",
    "    for k, v in topics.items():\n",
    "        topic_map[k] = v[1]\n",
    "\n",
    "    reverse_topic_map = dict()\n",
    "    for k, v in topics.items():\n",
    "        reverse_topic_map[v[1]] = k\n",
    "        \n",
    "    return reverse_topic_map"
   ]
  },
  {
   "cell_type": "code",
   "execution_count": 8,
   "id": "b4ddb973",
   "metadata": {},
   "outputs": [],
   "source": [
    "def concatenate_input_vectorizer(processed_texts, model_collection, model_type, topics):\n",
    "    result = []\n",
    "    for i, ele in enumerate(processed_texts):\n",
    "        top_words = model_collection[model_type].predict_doc(i, 1)\n",
    "        topic_num = top_words[0][0]\n",
    "        \n",
    "        if model_type == 'LDA':\n",
    "            topic_words = topics[topic_num]\n",
    "        else:\n",
    "            topic_words = topics[topic_num][0]\n",
    "#         print('top words are ')\n",
    "#         print(top_words)\n",
    "        concatanated_texts = ele + topic_words\n",
    "        if len(concatanated_texts) == 0:\n",
    "            print(i)\n",
    "        \n",
    "        result.append(' '.join(concatanated_texts))\n",
    "        \n",
    "    return result"
   ]
  },
  {
   "cell_type": "code",
   "execution_count": 9,
   "id": "03a0f47d",
   "metadata": {},
   "outputs": [],
   "source": [
    "def predict_labels(model_collection, model_type):\n",
    "    inferred, _ = model_collection[model_type].lda_model.infer(model_collection[model_type].corpus)\n",
    "    # print(inferred)\n",
    "    preds = model_collection[model_type].lda_model.estimate(inferred)\n",
    "    \n",
    "    label_predictions = []\n",
    "    for i, scores in enumerate(preds):\n",
    "        topic_num = int(np.argmax(scores))\n",
    "        label_predictions.append(model_collection[model_type].label_set[topic_num])\n",
    "        \n",
    "    return label_predictions"
   ]
  },
  {
   "cell_type": "code",
   "execution_count": 10,
   "id": "fbeb6fe7",
   "metadata": {},
   "outputs": [],
   "source": [
    "def simulate_experiment(model_collection, model_type, model_topic_distribution, dataframe, test_path, break_down_test_size, input_vectorizer):\n",
    "    topics = model_collection[model_type].print_topics(verbose=False)\n",
    "    test_df = pd.read_json(test_path)\n",
    "    \n",
    "    '''\n",
    "    vectorizer = TfidfVectorizer(stop_words='english', lowercase=True, ngram_range=(1,2))\n",
    "    token_lst = concatenate_input_vectorizer(model_collection[model_type].data_words_nonstop, model_collection, model_type, topics)\n",
    "    input_vectorizer = vectorizer.fit_transform(token_lst)\n",
    "    '''\n",
    "    \n",
    "#     test_texts = test_df['text']\n",
    "    test_labels = test_df['label']\n",
    "    \n",
    "    gold_labels = dataframe.label.values.tolist()\n",
    "    unique_labels = np.unique(gold_labels)\n",
    "    \n",
    "    simple_label_map = {i:unique_labels[i] for i in range(len(unique_labels))}\n",
    "    reverse_label_mapping = {v:k for k, v in simple_label_map.items()}\n",
    "    test_map_labels = [reverse_label_mapping[ele] for ele in test_labels]\n",
    "\n",
    "    \n",
    "    session = NAITM(model_collection[model_type].get_texts(), model_topic_distribution[model_type]['document_probas'],  model_topic_distribution[model_type]['doc_topic_probas'], dataframe, 'logreg', input_vectorizer, len(topics), 500)\n",
    "    \n",
    "    \n",
    "    doc_count = 0\n",
    "    doc_recommend_score = []\n",
    "    lst = []\n",
    "\n",
    "    classifier_acc = []\n",
    "    recommend_ids1, actual_topic1 = [], []\n",
    "\n",
    "    test_acc1 = dict()\n",
    "    for ele in break_down_test_size:\n",
    "        test_acc1[ele] = []\n",
    "\n",
    "    # logreg_model3 = SGDClassifier(loss=\"log\", penalty=\"l2\", max_iter=1000, tol=1e-3, random_state=42, learning_rate=\"adaptive\", eta0=0.1, validation_fraction=0.2)\n",
    "    start_time = time.time()\n",
    "    while doc_count < 500:\n",
    "        try:\n",
    "            random_document, score = session.recommend_document();\n",
    "        except:\n",
    "            print('reached the end of the experiment. {} docs labeled'.format(doc_count))\n",
    "            end_time = time.time()\n",
    "            break\n",
    "\n",
    "            \n",
    "        inferred_topics = gold_labels[random_document]\n",
    "\n",
    "\n",
    "        if doc_count >= 3:\n",
    "            logreg_y_pred= session.classifier.predict(input_vectorizer[0:500])\n",
    "\n",
    "\n",
    "\n",
    "            accuracy = accuracy_score(test_map_labels[0:500], logreg_y_pred)\n",
    "            print('classifier accuracy is {}'.format(accuracy))\n",
    "            for j in break_down_test_size:\n",
    "        #         print(j)\n",
    "                test_logreg_y_pred= session.classifier.predict(input_vectorizer[500:j])\n",
    "                test_accuracy = accuracy_score(test_map_labels[500:j], test_logreg_y_pred)\n",
    "                test_acc1[j].append(test_accuracy)\n",
    "\n",
    "            print('test set acc {}'.format(test_acc1[800][-1]))\n",
    "            '''\n",
    "            Save this part\n",
    "            '''\n",
    "            classifier_acc.append(accuracy)\n",
    "            doc_recommend_score.append(score)\n",
    "        else:\n",
    "            classifier_acc.append(-1)\n",
    "            doc_recommend_score.append(-1)\n",
    "            for j in break_down_test_size:\n",
    "                test_acc1[j].append(-1)\n",
    "\n",
    "        '''\n",
    "        remember to also save recommended document id and inferred topics\n",
    "        '''\n",
    "        recommend_ids1.append(random_document)\n",
    "        \n",
    "        actual_topic1.append(reverse_label_mapping[gold_labels[random_document]])\n",
    "\n",
    "        print('document id {}'.format(random_document))\n",
    "        print('inferred topics are {}'.format(inferred_topics))\n",
    "        print('\\033[1mactual label is {}\\033[0m'.format(model_collection[model_type].labels[random_document]))\n",
    "    #     session.label(random_document, user_input)\n",
    "    #     print('\\033[1mpredicted topic is {}\\033[0m'.format(reverse_SLDA_topic_map[slda_predicted[random_document]]))\n",
    "        print('\\033[1mgold topic is {}\\033[0m'.format(reverse_label_mapping[gold_labels[random_document]]))\n",
    "\n",
    "    #     session.label(random_document, reverse_SLDA_topic_map[slda_predicted[random_document]])\n",
    "        session.label(random_document, reverse_label_mapping[gold_labels[random_document]])\n",
    "\n",
    "    #     logreg_y_pred= .predict(vectorizer_idf)\n",
    "\n",
    "        lst.append(doc_count)\n",
    "        \n",
    "        if doc_count % 7 == 0 and model_type == 'SLDA':\n",
    "            model_collection[model_type].retrain()\n",
    "        \n",
    "        doc_count += 1\n",
    "        end_time = time.time()\n",
    "    \n",
    "    result = pd.DataFrame()\n",
    "    result['classifier acc'] = classifier_acc\n",
    "    result['actual topic'] = actual_topic1\n",
    "    result['recommend ids'] = recommend_ids1\n",
    "    result['recommend score'] = doc_recommend_score\n",
    "\n",
    "    for k, v in test_acc1.items():\n",
    "        result['{} test set'.format(k-500)] = v\n",
    "    \n",
    "    result.to_csv('./Data/{}_result.csv'.format(model_type), index=False)\n",
    "    \n",
    "    return result, end_time-start_time"
   ]
  },
  {
   "cell_type": "code",
   "execution_count": 11,
   "id": "5033a6a9",
   "metadata": {},
   "outputs": [],
   "source": [
    "def simulate_baseline_experiment(dataframe, test_path, break_down_test_size, input_vectorizer, gold_labels):\n",
    "    test_df = pd.read_json(test_path)\n",
    "    \n",
    "    test_labels = test_df['label']\n",
    "    unique_labels = np.unique(gold_labels)\n",
    "    \n",
    "    simple_label_map = {i:unique_labels[i] for i in range(len(unique_labels))}\n",
    "    reverse_label_mapping = {v:k for k, v in simple_label_map.items()}\n",
    "    test_map_labels = [reverse_label_mapping[ele] for ele in test_labels]\n",
    "    \n",
    "    \n",
    "    print(simple_label_map)\n",
    "    document_texts = dataframe.text.values.tolist()\n",
    "    result_actual_labels = []\n",
    "    session = LA(document_texts, dataframe, 'logreg', input_vectorizer, 500)\n",
    "    \n",
    "    doc_count = 0\n",
    "    doc_recommend_score = []\n",
    "    lst = []\n",
    "    acc= []\n",
    "    document_stack, labels_track = None, []\n",
    "    classifier_acc = []\n",
    "    recommend_ids1 = []\n",
    "\n",
    "    test_acc1 = dict()\n",
    "    for ele in break_down_test_size:\n",
    "        test_acc1[ele] = []\n",
    "\n",
    "    # logreg_model3 = SGDClassifier(loss=\"log\", penalty=\"l2\", max_iter=1000, tol=1e-3, random_state=42, learning_rate=\"adaptive\", eta0=0.1, validation_fraction=0.2)\n",
    "    start_time = time.time()\n",
    "    \n",
    "    while doc_count < 500:\n",
    "        try:\n",
    "            random_document, score = session.recommend_document();\n",
    "        except:\n",
    "            print('reached the end of the experiment. {} docs labeled'.format(doc_count))\n",
    "            end_time = time.time()\n",
    "            break\n",
    "        \n",
    "    #     inferred_topics = models['SLDA'].predict_doc(random_document, 3);\n",
    "\n",
    "    #     inferred_topics = slda_predicted[random_document]\n",
    "        inferred_topics = gold_labels[random_document]\n",
    "        result_actual_labels.append(inferred_topics)\n",
    "\n",
    "        if doc_count >= 3:\n",
    "            logreg_y_pred= session.classifier.predict(input_vectorizer[0:500])\n",
    "\n",
    "\n",
    "\n",
    "            accuracy = accuracy_score(test_map_labels[0:500], logreg_y_pred)\n",
    "\n",
    "            for j in break_down_test_size:\n",
    "        #         print(j)\n",
    "                test_logreg_y_pred= session.classifier.predict(input_vectorizer[500:j])\n",
    "                test_accuracy = accuracy_score(test_map_labels[500:j], test_logreg_y_pred)\n",
    "                test_acc1[j].append(test_accuracy)\n",
    "\n",
    "            print('test set acc {}'.format(test_acc1[800][-1]))\n",
    "            '''\n",
    "            Save this part\n",
    "            '''\n",
    "            classifier_acc.append(accuracy)\n",
    "            doc_recommend_score.append(score)\n",
    "            print('classifier accuracy is {}'.format(accuracy))\n",
    "        else:\n",
    "            classifier_acc.append(-1)\n",
    "            doc_recommend_score.append(-1)\n",
    "            for j in break_down_test_size:\n",
    "                test_acc1[j].append(-1)\n",
    "\n",
    "        '''\n",
    "        remember to also save recommended document id and inferred topics\n",
    "        '''\n",
    "        recommend_ids1.append(random_document)\n",
    "\n",
    "\n",
    "        print('document id {}'.format(random_document))\n",
    "        print('actual label is {}'.format(inferred_topics))\n",
    "        \n",
    "       \n",
    "\n",
    "        session.label(random_document, reverse_label_mapping[gold_labels[random_document]])\n",
    "\n",
    "\n",
    "        lst.append(doc_count)\n",
    "        \n",
    "        \n",
    "        doc_count += 1\n",
    "        end_time = time.time()\n",
    "    \n",
    "    result = pd.DataFrame()\n",
    "    result['classifier acc'] = classifier_acc\n",
    "#     result['inferred topic'] = model_inferred_topics1\n",
    "    result['actual label'] = result_actual_labels\n",
    "    result['recommend ids'] = recommend_ids1\n",
    "    result['recommend score'] = doc_recommend_score\n",
    "\n",
    "    for k, v in test_acc1.items():\n",
    "        result['{} test set'.format(k-500)] = v\n",
    "    \n",
    "    result.to_csv('./Data/baseline_result.csv', index=False)\n",
    "    \n",
    "    return result, end_time-start_time"
   ]
  },
  {
   "cell_type": "markdown",
   "id": "1667df2b",
   "metadata": {},
   "source": [
    "# This section runs an experiment"
   ]
  },
  {
   "cell_type": "code",
   "execution_count": 27,
   "id": "5f1eae03",
   "metadata": {},
   "outputs": [],
   "source": [
    "# blockPrint()\n",
    "experiment_models = train_models(file_name, 20);"
   ]
  },
  {
   "cell_type": "code",
   "execution_count": 22,
   "id": "d10a0069",
   "metadata": {},
   "outputs": [],
   "source": [
    "enablePrint()\n",
    "experiment_topic_distribution = get_topic_probability(experiment_models)"
   ]
  },
  {
   "cell_type": "code",
   "execution_count": 23,
   "id": "3ab8cd62",
   "metadata": {},
   "outputs": [],
   "source": [
    "vectorizer = TfidfVectorizer(stop_words='english', lowercase=True, ngram_range=(1,2))\n",
    "experiment_vectorizer_idf = vectorizer.fit_transform(pd.read_json(test_dataset_name)['text'])"
   ]
  },
  {
   "cell_type": "code",
   "execution_count": 15,
   "id": "cfa2ce69",
   "metadata": {},
   "outputs": [],
   "source": [
    "experiment_test_sizes = [i for i in range(len(pd.read_json(test_dataset_name)['text']) + 1) if i > 500 and i % 100 == 0]"
   ]
  },
  {
   "cell_type": "code",
   "execution_count": 28,
   "id": "796b27dd",
   "metadata": {},
   "outputs": [
    {
     "data": {
      "text/plain": [
       "0.056"
      ]
     },
     "metadata": {},
     "output_type": "display_data"
    }
   ],
   "source": [
    "# Check the accuracy rate of sLDA\n",
    "sLDA_pred = predict_labels(experiment_models, 'SLDA')\n",
    "display(sklearn.metrics.accuracy_score(experiment_models['SLDA'].labels, sLDA_pred))"
   ]
  },
  {
   "cell_type": "code",
   "execution_count": 17,
   "id": "c0bcbf8b",
   "metadata": {},
   "outputs": [],
   "source": [
    "SLDA_experiment_result, SLDA_experiment_time = simulate_experiment(experiment_models, 'SLDA', experiment_topic_distribution, df, test_dataset_name, experiment_test_sizes, experiment_vectorizer_idf)"
   ]
  },
  {
   "cell_type": "code",
   "execution_count": 18,
   "id": "6f3fecd2",
   "metadata": {},
   "outputs": [],
   "source": [
    "USE_PREVIOUS_RESULT = True"
   ]
  },
  {
   "cell_type": "code",
   "execution_count": 19,
   "id": "4d8cfbef",
   "metadata": {},
   "outputs": [],
   "source": [
    "if os.path.exists('./Model/LLDA_model_{}_result.pkl'.format(dataset_name)) and USE_PREVIOUS_RESULT:\n",
    "    print('exists')\n",
    "    with open('./Model/LLDA_model_{}_result.pkl'.format(dataset_name), 'rb') as inp:\n",
    "        LLDA_experiment_result = pickle.load(inp)\n",
    "else:\n",
    "    print('not exists')\n",
    "    LLDA_experiment_result, LLDA_experiment_time = simulate_experiment(experiment_models, 'LLDA', experiment_topic_distribution, df, test_dataset_name, experiment_test_sizes, experiment_vectorizer_idf)\n",
    "    with open('./Model/LLDA_model_{}_result.pkl'.format(dataset_name), 'wb+') as outp:\n",
    "        pickle.dump(LLDA_experiment_result, outp)"
   ]
  },
  {
   "cell_type": "code",
   "execution_count": 33,
   "id": "8730daab",
   "metadata": {},
   "outputs": [],
   "source": [
    "if os.path.exists('./Model/LDA_model_{}_result.pkl'.format(dataset_name)) and USE_PREVIOUS_RESULT:\n",
    "    with open('./Model/LDA_model_{}_result.pkl'.format(dataset_name), 'rb') as inp:\n",
    "        LDA_experiment_result = pickle.load(inp)\n",
    "else:\n",
    "    LDA_experiment_result, LDA_experiment_time = simulate_experiment(experiment_models, 'LDA', experiment_topic_distribution, df, test_dataset_name, experiment_test_sizes, experiment_vectorizer_idf)\n",
    "    with open('./Model/LDA_model_{}_result.pkl'.format(dataset_name), 'wb+') as outp:\n",
    "        pickle.dump(LDA_experiment_result, outp)"
   ]
  },
  {
   "cell_type": "code",
   "execution_count": 34,
   "id": "0aeb5280",
   "metadata": {},
   "outputs": [],
   "source": [
    "# simulate_baseline_experiment(dataframe, test_path, break_down_test_size, input_vectorizer, gold_labels)\n",
    "baseline_result, baseline_time = simulate_baseline_experiment(df, test_dataset_name, experiment_test_sizes, experiment_vectorizer_idf, df.label.values.tolist())"
   ]
  },
  {
   "cell_type": "markdown",
   "id": "b6a0a699",
   "metadata": {},
   "source": [
    "# Plotting results"
   ]
  },
  {
   "cell_type": "code",
   "execution_count": 35,
   "id": "2fbeae16",
   "metadata": {},
   "outputs": [],
   "source": [
    "from plotnine import *\n",
    "def plot(data, xlabel, ylabel, title):\n",
    "    data_long = pd.melt(data, id_vars=['k'], var_name='model', value_name='perplexity')\n",
    "\n",
    "    # Create line plot\n",
    "    return ggplot(data_long, aes(x='k', y='perplexity', color='model', group='model')) \\\n",
    "        + geom_line() \\\n",
    "        + xlab(xlabel) \\\n",
    "        + ylab(ylabel) \\\n",
    "        + ggtitle(title) \\\n",
    "        + theme_minimal()\n",
    "    \n",
    "    "
   ]
  },
  {
   "cell_type": "code",
   "execution_count": 36,
   "id": "875fb0d7",
   "metadata": {},
   "outputs": [],
   "source": [
    "save = False"
   ]
  },
  {
   "cell_type": "code",
   "execution_count": 1,
   "id": "f80e2aef",
   "metadata": {},
   "outputs": [
    {
     "ename": "NameError",
     "evalue": "name 'SLDA_experiment_result' is not defined",
     "output_type": "error",
     "traceback": [
      "\u001b[0;31m---------------------------------------------------------------------------\u001b[0m",
      "\u001b[0;31mNameError\u001b[0m                                 Traceback (most recent call last)",
      "\u001b[0;32m<ipython-input-1-4e2e6fdd347e>\u001b[0m in \u001b[0;36m<module>\u001b[0;34m\u001b[0m\n\u001b[0;32m----> 1\u001b[0;31m \u001b[0mSLDA_experiment_acc\u001b[0m \u001b[0;34m=\u001b[0m \u001b[0mSLDA_experiment_result\u001b[0m\u001b[0;34m[\u001b[0m\u001b[0;34m'classifier acc'\u001b[0m\u001b[0;34m]\u001b[0m\u001b[0;34m\u001b[0m\u001b[0;34m\u001b[0m\u001b[0m\n\u001b[0m\u001b[1;32m      2\u001b[0m \u001b[0mLLDA_experiment_acc\u001b[0m \u001b[0;34m=\u001b[0m \u001b[0mLLDA_experiment_result\u001b[0m\u001b[0;34m[\u001b[0m\u001b[0;34m'classifier acc'\u001b[0m\u001b[0;34m]\u001b[0m\u001b[0;34m\u001b[0m\u001b[0;34m\u001b[0m\u001b[0m\n\u001b[1;32m      3\u001b[0m \u001b[0mLDA_experiment_acc\u001b[0m \u001b[0;34m=\u001b[0m \u001b[0mLDA_experiment_result\u001b[0m\u001b[0;34m[\u001b[0m\u001b[0;34m'classifier acc'\u001b[0m\u001b[0;34m]\u001b[0m\u001b[0;34m\u001b[0m\u001b[0;34m\u001b[0m\u001b[0m\n\u001b[1;32m      4\u001b[0m \u001b[0mbaseline_experiment_acc\u001b[0m \u001b[0;34m=\u001b[0m \u001b[0mbaseline_result\u001b[0m\u001b[0;34m[\u001b[0m\u001b[0;34m'classifier acc'\u001b[0m\u001b[0;34m]\u001b[0m\u001b[0;34m\u001b[0m\u001b[0;34m\u001b[0m\u001b[0m\n\u001b[1;32m      5\u001b[0m \u001b[0;34m\u001b[0m\u001b[0m\n",
      "\u001b[0;31mNameError\u001b[0m: name 'SLDA_experiment_result' is not defined"
     ]
    }
   ],
   "source": [
    "SLDA_experiment_acc = SLDA_experiment_result['classifier acc']\n",
    "LLDA_experiment_acc = LLDA_experiment_result['classifier acc']\n",
    "LDA_experiment_acc = LDA_experiment_result['classifier acc']\n",
    "baseline_experiment_acc = baseline_result['classifier acc']\n",
    "\n",
    "lst_len = min(len(SLDA_experiment_acc), len(LLDA_experiment_acc), len(LDA_experiment_acc), len(baseline_experiment_acc))\n",
    "\n",
    "# Create data frame from the given data\n",
    "data = pd.DataFrame({\n",
    "    'k': [i for i in range(4, lst_len)],\n",
    "    'LLDA': LLDA_experiment_acc[4:lst_len],\n",
    "    'SLDA': SLDA_experiment_acc[4:lst_len],\n",
    "    'LDA': LDA_experiment_acc[4:lst_len],\n",
    "    'base': baseline_experiment_acc[4:lst_len]\n",
    "})\n",
    "\n",
    "plot_res = plot(data, 'Number of documents labeled (k)', 'Training Set Accuracy', 'Training Accuracy of LDA, LLDA and SLDA, baseline')\n",
    "if save:\n",
    "    ggsave(plot_res,file='Training_accuracy.png')\n",
    "plot_res"
   ]
  },
  {
   "cell_type": "code",
   "execution_count": 40,
   "id": "6d7014ea",
   "metadata": {},
   "outputs": [
    {
     "data": {
      "image/png": "[encoded data removed]",
      "text/plain": [
       "<Figure size 640x480 with 1 Axes>"
      ]
     },
     "metadata": {
      "needs_background": "light"
     },
     "output_type": "display_data"
    },
    {
     "data": {
      "text/plain": [
       "<ggplot: (8785894153693)>"
      ]
     },
     "execution_count": 40,
     "metadata": {},
     "output_type": "execute_result"
    }
   ],
   "source": [
    "SLDA_experiment_test_acc = SLDA_experiment_result['400 test set']\n",
    "LLDA_experiment_test_acc = LLDA_experiment_result['400 test set']\n",
    "LDA_experiment_test_acc = LDA_experiment_result['400 test set']\n",
    "baseline_experiment_test_acc = baseline_result['400 test set']\n",
    "\n",
    "# Create data frame from the given data\n",
    "data = pd.DataFrame({\n",
    "    'k': [i for i in range(4, lst_len)],\n",
    "    'LLDA': LLDA_experiment_test_acc[4:lst_len],\n",
    "    'SLDA': SLDA_experiment_test_acc[4:lst_len],\n",
    "    'LDA': LDA_experiment_test_acc[4:lst_len],\n",
    "    'base': baseline_experiment_test_acc[4:lst_len]\n",
    "})\n",
    "\n",
    "plot_res1 = plot(data, 'Number of documents labeled (k)', 'Test Set Accuracy', 'Testing Accuracy of LDA, LLDA and SLDA (Test Size 400)')\n",
    "if save:\n",
    "    ggsave(plot_res1,file='Testing_accuracy_400.png')\n",
    "plot_res1"
   ]
  },
  {
   "cell_type": "code",
   "execution_count": 41,
   "id": "30fc14a6",
   "metadata": {},
   "outputs": [
    {
     "data": {
      "image/png": "[encoded data removed]",
      "text/plain": [
       "<Figure size 640x480 with 1 Axes>"
      ]
     },
     "metadata": {
      "needs_background": "light"
     },
     "output_type": "display_data"
    },
    {
     "data": {
      "text/plain": [
       "<ggplot: (8785894247345)>"
      ]
     },
     "execution_count": 41,
     "metadata": {},
     "output_type": "execute_result"
    }
   ],
   "source": [
    "# Create data frame from the given data\n",
    "data = pd.DataFrame({\n",
    "    'k': [i for i in range(4, lst_len)],\n",
    "    'LLDA': LLDA_experiment_result['100 test set'][4:lst_len],\n",
    "    'SLDA': SLDA_experiment_result['100 test set'][4:lst_len],\n",
    "    'LDA': LDA_experiment_result['100 test set'][4:lst_len],\n",
    "    'base': baseline_result['100 test set'][4:lst_len]\n",
    "})\n",
    "\n",
    "plot_res2 = plot(data, 'Number of documents labeled (k)', 'Test Set Accuracy', 'Testing Accuracy of LDA, LLDA and SLDA (Test Size 100)')\n",
    "if save:\n",
    "    ggsave(plot_res2,file='Testing_accuracy_150.png')\n",
    "plot_res2"
   ]
  }
 ],
 "metadata": {
  "kernelspec": {
   "display_name": "Python 3",
   "language": "python",
   "name": "python3"
  },
  "language_info": {
   "codemirror_mode": {
    "name": "ipython",
    "version": 3
   },
   "file_extension": ".py",
   "mimetype": "text/x-python",
   "name": "python",
   "nbconvert_exporter": "python",
   "pygments_lexer": "ipython3",
   "version": "3.7.10"
  },
  "vscode": {
   "interpreter": {
    "hash": "31f2aee4e71d21fbe5cf8b01ff0e069b9275f58929596ceb00d14d90e3e16cd6"
   }
  }
 },
 "nbformat": 4,
 "nbformat_minor": 5
}
