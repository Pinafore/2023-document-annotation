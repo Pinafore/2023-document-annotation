{
 "cells": [
  {
   "cell_type": "markdown",
   "metadata": {},
   "source": [
    "### Contextualized topic model quick example"
   ]
  },
  {
   "cell_type": "code",
   "execution_count": 9,
   "metadata": {},
   "outputs": [],
   "source": [
    "from gensim.models import CoherenceModel\n",
    "from gensim.corpora import Dictionary\n",
    "import numpy as np\n",
    "\n",
    "\n",
    "def get_coherence(model_keywords):\n",
    "    keywords = []\n",
    "    for k, v in model_keywords.items():\n",
    "            keywords.append(v)\n",
    "    dictionary = Dictionary(processed_data)\n",
    "\n",
    "    coherence_model = CoherenceModel(\n",
    "            topics=keywords,\n",
    "            texts=processed_data,\n",
    "            dictionary=dictionary,\n",
    "            coherence='u_mass'\n",
    "            )\n",
    "\n",
    "    coherence_score = coherence_model.get_coherence()\n",
    "\n",
    "    return coherence_score"
   ]
  },
  {
   "cell_type": "code",
   "execution_count": 11,
   "metadata": {},
   "outputs": [],
   "source": [
    "import pandas as pd\n",
    "import pickle\n",
    "from Topic_Models.Neural_Topic_Model import Neural_Model\n",
    "doc_dir = './Topic_Models/Data/congressional_bill_train.json'\n",
    "processed_doc_dir = './Topic_Models/Data/congressional_bill_train_processed.pkl'\n",
    "\n",
    "'''\n",
    "Mapping the mode numbers to which model we use\n",
    "LA: active learning baseline\n",
    "'''\n",
    "model_types_map = {0: 'LA' , 1: 'LDA', 2: 'SLDA', 3: 'ETM'}\n",
    "num_iter = 1500\n",
    "load_data = True\n",
    "save_model = False\n",
    "\n",
    "'''\n",
    "Enter the number of topics for the model you just trained\n",
    "'''\n",
    "num_topics =30\n",
    "inference_alg = 'logreg'\n",
    "test_dataset_name = './Topic_Models/Data/congressional_bill_test.json'\n",
    "test_processed_doc_dir = './Topic_Models/Data/congressional_bill_test_processed.pkl'\n",
    "\n",
    "'''\n",
    "Keep those and don't change\n",
    "'''\n",
    "USE_TEST_DATA = True\n",
    "USE_PROCESSED_TEXT = False\n",
    "CONCATENATE_KEYWORDS = True\n",
    "table = pd.read_json(doc_dir)\n",
    "training_length = len(table)\n",
    "REGRESSOR_PREDICT = True\n",
    "mode = 1\n",
    "labels = table.sub_labels.values.tolist()\n",
    "\n",
    "\n",
    "table = pd.read_json(doc_dir)\n",
    "training_length = len(table)\n",
    "list_of_unpreprocessed_documents = table.text.values.tolist()\n",
    "\n",
    "with open(processed_doc_dir, 'rb') as inp:\n",
    "    loaded_data = pickle.load(inp)\n",
    "    processed_data = loaded_data['datawords_nonstop']\n",
    "    list_of_preprocessed_documents = [' '.join(ele) for ele in processed_data]\n",
    "\n",
    "test_table = pd.read_json(test_dataset_name)\n",
    "list_of_unpreprocessed_test_documents = test_table.text.values.tolist()\n",
    "with open(test_processed_doc_dir, 'rb') as inp:\n",
    "    loaded_test_data = pickle.load(inp)\n",
    "    processed_test_data = loaded_test_data['datawords_nonstop']\n",
    "    list_of_preprocessed_test_documents = [' '.join(ele) for ele in processed_test_data]"
   ]
  },
  {
   "cell_type": "markdown",
   "metadata": {},
   "source": [
    "### sLDA prediction test with preprocessed words"
   ]
  },
  {
   "cell_type": "code",
   "execution_count": 12,
   "metadata": {},
   "outputs": [],
   "source": [
    "'''\n",
    "Given a training documents, and a testing documents, return the model prediciton by slda\n",
    "'''\n",
    "def slda_predict(train_docs, test_docs, model):\n",
    "    '''\n",
    "    train docs, test docs: a corpus. Each document is a list of tokens\n",
    "    model: a trained slda model\n",
    "    '''\n",
    "    counter = {}\n",
    "    predictive_labels = []\n",
    "    test_predictive_labels = []\n",
    "    for i in range(len(train_docs)):\n",
    "        doc_nist = model.make_doc(train_docs[i])\n",
    "        \n",
    "        model.infer(doc_nist)\n",
    "        max_response = model.estimate(doc_nist).argmax()\n",
    "        predictive_labels.append(max_response)\n",
    "        try:\n",
    "            test_inst = model.make_doc(test_docs[i])\n",
    "            model.infer(test_inst)\n",
    "            max_test_response = model.estimate(test_inst).argmax()\n",
    "            test_predictive_labels.append(max_test_response)\n",
    "        except: \n",
    "            pass\n",
    "        # test_inst = Model.model.make_doc(Model.data_words_nonstop[i])\n",
    "        if max_response in counter:\n",
    "            counter[max_response] += 1\n",
    "        else:\n",
    "            counter[max_response] = 1\n",
    "\n",
    "    return counter, predictive_labels, test_predictive_labels"
   ]
  },
  {
   "cell_type": "code",
   "execution_count": 13,
   "metadata": {},
   "outputs": [],
   "source": [
    "'''\n",
    "Given a list of text labels, convert them to integers as inputs of response variables for model testing\n",
    "'''\n",
    "def convert_labels_to_numbers(label_list):\n",
    "    label_mapping = {}\n",
    "    next_label_number = 0\n",
    "    numeric_labels = []\n",
    "\n",
    "    for label in label_list:\n",
    "        if label not in label_mapping:\n",
    "            label_mapping[label] = next_label_number\n",
    "            next_label_number += 1\n",
    "        numeric_labels.append(label_mapping[label])\n",
    "\n",
    "    return numeric_labels, label_mapping"
   ]
  },
  {
   "cell_type": "code",
   "execution_count": 14,
   "metadata": {},
   "outputs": [
    {
     "data": {
      "text/plain": [
       "[0, 1, 2, 3, 0, 4, 5, 6, 7, 8]"
      ]
     },
     "execution_count": 14,
     "metadata": {},
     "output_type": "execute_result"
    }
   ],
   "source": [
    "'''\n",
    "Convert the training set labels to integers and get a map from text to integers\n",
    "'''\n",
    "texts = table.text.values.tolist()\n",
    "sub_labels = table.sub_labels.values.tolist()\n",
    "\n",
    "'''\n",
    "Here, we pretend the user labels all the training set, we want to run sLDA\n",
    "first with the existing user labels, then test the prediction accuracy directly\n",
    "from sLDA with the training and testing set\n",
    "'''\n",
    "user_labels = {i: sub_labels[i] for i in range(len(texts))}\n",
    "\n",
    "user_labels = dict(sorted(user_labels.items()))\n",
    "user_label_list = list(user_labels.values())\n",
    "\n",
    "user_label_map, mappings = convert_labels_to_numbers(user_label_list)\n",
    "user_label_map[:10]"
   ]
  },
  {
   "cell_type": "code",
   "execution_count": 15,
   "metadata": {},
   "outputs": [
    {
     "data": {
      "text/plain": [
       "8607"
      ]
     },
     "execution_count": 15,
     "metadata": {},
     "output_type": "execute_result"
    }
   ],
   "source": [
    "len(user_labels)"
   ]
  },
  {
   "cell_type": "code",
   "execution_count": 16,
   "metadata": {},
   "outputs": [
    {
     "data": {
      "text/plain": [
       "'\\nAlso extract the preprocessed test data and use the label-integer mapping to map test texst labels to integers\\n'"
      ]
     },
     "execution_count": 16,
     "metadata": {},
     "output_type": "execute_result"
    }
   ],
   "source": [
    "'''\n",
    "Also extract the preprocessed test data and use the label-integer mapping to map test texst labels to integers\n",
    "'''\n",
    "# test_table = pd.read_json(test_dataset_name)\n",
    "# test_texts = test_table.text.values.tolist()\n",
    "# test_sub_labels = test_table.sub_labels.values.tolist()\n",
    "\n",
    "# with open('./Topic_Models/Data/congressional_bill_train_processed.pkl', 'rb') as inp:\n",
    "#     loaded_data = pickle.load(inp)\n",
    "#     processed_test_data = loaded_data['datawords_nonstop']\n",
    "\n",
    "# test_label_map = [mappings[ele] for ele in test_sub_labels]\n"
   ]
  },
  {
   "cell_type": "code",
   "execution_count": 10,
   "metadata": {},
   "outputs": [
    {
     "data": {
      "text/plain": [
       "[0, 15, 14, 7, 0, 4, 0, 2, 15, 2]"
      ]
     },
     "execution_count": 10,
     "metadata": {},
     "output_type": "execute_result"
    }
   ],
   "source": [
    "'''View the first ten mapped test labels'''\n",
    "test_label_map[30:40]"
   ]
  },
  {
   "cell_type": "code",
   "execution_count": 17,
   "metadata": {},
   "outputs": [
    {
     "name": "stdout",
     "output_type": "stream",
     "text": [
      "num topics: 30\n",
      "Created SLDA model\n",
      "total user labels are 8607\n",
      "starting training...\n",
      "Iteration: 0, Log-likelihood: -8.756933018416754, Perplexity: 6354.592243192826, cv coherence: 0.33639948398298614\n",
      "Iteration: 300, Log-likelihood: -8.425364725686173, Perplexity: 4561.308101278413, cv coherence: 0.4180431772532487\n",
      "Iteration: 600, Log-likelihood: -8.44556107815405, Perplexity: 4654.366443819756, cv coherence: 0.42368575203947256\n",
      "Iteration: 900, Log-likelihood: -8.307986744323031, Perplexity: 4056.138713726887, cv coherence: 0.4218146943974183\n"
     ]
    }
   ],
   "source": [
    "'''\n",
    "Train the sLDA using the training set, assuming sLDA has access to all labels in the training set\n",
    "'''\n",
    "from Topic_Models.topic_model import Topic_Model\n",
    "Model = Topic_Model(30, 1500, 'SLDA', './Topic_Models/Data/congressional_bill_train_processed.pkl', training_length , user_labels, False, None)\n",
    "Model.train('./Topic_Models/Model/SLDA_30.pkl')"
   ]
  },
  {
   "cell_type": "code",
   "execution_count": 27,
   "metadata": {},
   "outputs": [],
   "source": [
    "counter, predictive_label, test_predictive_label = slda_predict(processed_data, processed_test_data, Model.model)"
   ]
  },
  {
   "cell_type": "code",
   "execution_count": 30,
   "metadata": {},
   "outputs": [
    {
     "data": {
      "text/plain": [
       "0.5683773074321059"
      ]
     },
     "execution_count": 30,
     "metadata": {},
     "output_type": "execute_result"
    }
   ],
   "source": [
    "from sklearn.metrics import accuracy_score\n",
    "\n",
    "'''\n",
    "Training accuracy for sLDA\n",
    "'''\n",
    "accuracy_score(user_label_map, predictive_label)"
   ]
  },
  {
   "cell_type": "code",
   "execution_count": 31,
   "metadata": {},
   "outputs": [
    {
     "data": {
      "text/plain": [
       "0.4348134487161299"
      ]
     },
     "execution_count": 31,
     "metadata": {},
     "output_type": "execute_result"
    }
   ],
   "source": [
    "'''\n",
    "sLDA testing accuracy\n",
    "'''\n",
    "accuracy_score(test_label_map, test_predictive_label)"
   ]
  },
  {
   "cell_type": "code",
   "execution_count": 16,
   "metadata": {},
   "outputs": [
    {
     "data": {
      "text/plain": [
       "array([[-7.1717715e+00, -9.4333820e+00, -5.7512579e+00, -3.3249002e+00,\n",
       "        -4.0262671e+00, -5.5705385e+00, -3.9009543e+02,  2.2824147e+00,\n",
       "        -1.5841526e+00, -6.6370311e+00, -8.2382861e+03, -1.0060060e+02,\n",
       "        -4.3441943e+02, -3.1912555e+02, -1.5520414e+00, -2.9579976e+00],\n",
       "       [-8.4064159e+00, -2.4118944e+02, -6.0421720e+00, -3.7932055e+00,\n",
       "        -4.1082692e+00, -2.1879861e+02, -6.1473203e+00, -6.4143572e+00,\n",
       "        -1.9729582e+00,  7.3525006e-01, -3.7234268e-01, -5.3845730e+00,\n",
       "        -3.5734338e+02, -2.8559399e+00, -7.1398320e+00, -1.5399799e+00],\n",
       "       [-5.8458986e+00, -4.7016916e+02, -7.7924094e+00, -3.0099306e+00,\n",
       "        -5.2282624e+00, -5.6554224e+02,  3.1108414e+01, -3.9984808e+02,\n",
       "        -1.2367842e+00, -1.3726552e+01, -4.4619560e+00, -5.4000775e+02,\n",
       "        -3.6306488e+01, -3.6162691e+00, -5.0478735e+00, -2.1048298e+00],\n",
       "       [-7.1053696e+00,  2.1463418e+00,  4.7284150e-01, -3.2197487e+00,\n",
       "        -1.3858293e+02, -1.1481842e+02, -5.1952405e+00, -7.6698971e+00,\n",
       "        -1.3789823e+00, -1.0964658e+01, -8.8831455e-01, -3.4103348e+02,\n",
       "        -1.1762506e+03, -1.3549325e+03, -2.1943691e+00, -2.4788842e+00],\n",
       "       [ 5.0140059e-01, -2.8613613e+00, -3.3962870e-01, -1.0375643e+00,\n",
       "        -4.1914396e+00, -7.8549690e+00, -6.4747639e+00, -9.7801602e-01,\n",
       "        -3.7600646e+00, -3.3043957e+00, -1.2063307e+00, -1.5917708e+02,\n",
       "        -4.2587139e+01, -3.6073358e+00,  4.6401778e-01, -1.8723543e+01],\n",
       "       [-2.2724741e+00, -4.7422252e+00, -5.8532276e+00, -1.0048296e+00,\n",
       "        -3.3736873e+00, -4.2862835e+00, -4.6074162e+00,  1.8954043e+00,\n",
       "        -6.9765840e+00, -3.2514505e+02, -2.1353569e+03, -1.0796672e+01,\n",
       "        -5.4299874e+00, -3.0349348e+00, -6.3963451e+00, -3.0499032e+00],\n",
       "       [-5.6271988e+01, -6.2846027e+02, -3.6235290e+00, -2.2414668e+00,\n",
       "        -5.8224483e+00, -1.7179504e+02, -2.0648850e+03, -1.5061649e+02,\n",
       "        -2.3024893e+00, -1.0044286e+02, -6.5080945e+02, -2.1515964e+02,\n",
       "         8.3071680e+02, -2.1777777e+01, -1.4142315e+00, -1.5908322e+00],\n",
       "       [-8.0074348e+00, -4.5639359e+02, -3.8346703e+00, -3.9705365e+00,\n",
       "         1.4146786e+01, -2.0075542e+02, -9.0155764e+00, -7.3526549e+00,\n",
       "        -7.6219761e-01, -1.7724432e+01, -1.0115700e+04, -3.6974316e+01,\n",
       "        -2.5428201e+02, -2.7267299e+00, -5.2658443e+00, -4.2454166e+00],\n",
       "       [ 9.5865387e-01, -2.6550133e+01, -4.8452077e+00, -3.5645750e+00,\n",
       "        -7.5997987e+00, -5.0299163e+00, -7.7721765e+02, -6.2752023e+00,\n",
       "        -3.5356283e+00, -6.3292892e+01, -1.3080024e+00, -3.7001236e+02,\n",
       "        -1.5572937e+01, -2.2271551e+01, -4.9015093e+00, -2.1650546e+00],\n",
       "       [-1.4340719e+00, -4.3711615e+00, -2.6033990e+00, -1.6197306e+00,\n",
       "        -1.5172405e+01, -2.2717389e-01, -7.8115387e+02, -1.3440800e+01,\n",
       "        -2.5118446e+00, -1.5809172e+02, -1.3613449e+00, -5.7479467e+00,\n",
       "        -1.0365157e+02,  2.2243054e+00, -3.0242722e+00, -3.3630264e+00],\n",
       "       [-1.0805617e+01, -6.0809790e+02, -3.9622169e+01, -3.1307006e+00,\n",
       "        -1.3684053e+02, -5.6049908e+01, -9.1124078e+02, -4.8785057e+01,\n",
       "        -3.0853469e+00, -5.2179712e+02, -7.9725562e+03,  2.3118770e+02,\n",
       "        -4.2967221e+02, -2.2038214e+00, -2.8778727e+00, -1.8332912e+00],\n",
       "       [ 1.9419688e-01, -7.4509063e+00, -4.8199115e+00, -4.1675563e+00,\n",
       "        -2.4222858e+02, -3.6021187e+00, -2.4553831e+00, -4.4278440e+00,\n",
       "        -2.7004206e+00, -4.5468716e+02, -3.4620818e+03, -1.4210097e+02,\n",
       "        -8.9331951e+00, -1.6475237e+02, -3.8164661e+00, -2.0294087e+00],\n",
       "       [-9.3377695e+00, -5.2827506e+00, -4.7142630e+00, -5.5601811e+00,\n",
       "         1.5575388e-01, -1.2165461e+02, -4.1822362e+00, -1.4125692e+01,\n",
       "        -2.3947306e+00, -3.5357344e+00, -6.2381367e+03, -3.4266500e+00,\n",
       "        -1.4614822e+02, -3.2972347e+01,  2.5543971e+00, -2.0051935e+00],\n",
       "       [-6.1176176e+00, -3.6968420e+02, -3.0300055e+00, -1.4539775e+00,\n",
       "        -9.0452871e+00,  1.9590342e+00, -6.8543695e+02, -8.2899694e+00,\n",
       "        -4.1339669e+00, -1.9705626e+01,  2.5441470e+00, -4.9290970e+02,\n",
       "        -1.1374122e+01, -2.3999363e+01, -3.1917305e+00, -2.4528968e+00],\n",
       "       [-3.1304493e+00, -3.7501240e+01, -7.7164774e+00,  2.4924408e-01,\n",
       "        -1.3894971e+02,  7.6016001e-02, -5.9104266e+00, -6.0955367e+00,\n",
       "        -3.8252764e+00, -9.0301256e+00, -2.2840753e+00, -1.1992974e+02,\n",
       "        -5.1417584e+02, -6.3284431e+00, -4.2141461e+00, -2.1355584e+00],\n",
       "       [-1.1767818e+01, -9.3182640e+00, -3.0315454e+00, -1.6737721e+00,\n",
       "        -2.9802802e+02, -5.5685835e+00,  1.2763839e+01, -3.4348946e+00,\n",
       "        -2.7976532e+00, -2.7837302e+02, -4.2432213e+00, -9.0256186e+00,\n",
       "        -9.8394728e+00, -4.1077223e+00,  2.4018755e+00, -2.0308821e+00],\n",
       "       [-5.9273152e+00, -2.5374025e+02, -6.8436623e+00, -2.5425010e+00,\n",
       "        -1.4768844e+01, -1.7603253e+02, -4.7023664e+00, -7.6236282e+01,\n",
       "        -2.9073627e+00,  8.6648827e+00, -8.5392051e+03, -5.8121047e+00,\n",
       "        -7.2791466e+01, -2.3502818e+02, -2.7130592e+00, -2.6625440e+00],\n",
       "       [-8.1533756e+00, -3.8943378e+02, -4.1348895e+02, -5.0527987e+00,\n",
       "        -3.2188079e+00, -5.5823431e+00, -6.8382483e+00, -1.4812438e+01,\n",
       "        -2.1950374e+00, -7.1631694e-01, -7.8611450e+03, -1.4638239e+01,\n",
       "        -2.1988130e+02, -1.2259314e+03, -5.0477958e+00,  3.1108940e-01],\n",
       "       [-6.1071167e+00,  1.7509606e+00, -1.0647372e+00, -2.6121376e+00,\n",
       "        -7.5491219e+00, -2.8602786e+02, -1.3884297e+01, -1.2871943e+01,\n",
       "        -7.9585147e-01, -1.3354602e+01, -5.4973633e+03, -6.3876367e+00,\n",
       "        -4.4720917e+02, -3.6843164e+03, -5.2729225e+00, -2.4574318e+00],\n",
       "       [-8.7140789e+00, -3.9702592e+00, -5.6227875e+00, -3.0109870e+00,\n",
       "        -3.6579762e+00, -6.2967474e+02, -7.0813043e+02,  2.0189316e+00,\n",
       "        -2.8482875e-01, -7.2559595e+00,  7.8986400e-01, -9.0918455e+00,\n",
       "        -4.3161438e+01, -8.5390778e+02, -4.3153958e+00, -3.8420200e+00]],\n",
       "      dtype=float32)"
      ]
     },
     "execution_count": 16,
     "metadata": {},
     "output_type": "execute_result"
    }
   ],
   "source": [
    "'''\n",
    "Check whether regressor coefficient is good\n",
    "'''\n",
    "Model.model.get_regression_coef()"
   ]
  },
  {
   "cell_type": "code",
   "execution_count": 17,
   "metadata": {},
   "outputs": [
    {
     "name": "stdout",
     "output_type": "stream",
     "text": [
      "0 -9528.254070520401\n",
      "1 -870.773551851511\n",
      "2 -2032.8360702991486\n",
      "3 -3164.0942156910896\n",
      "4 -255.13821169734\n",
      "5 -2520.43114900589\n",
      "6 -3246.4967193603516\n",
      "7 -11112.864233613014\n",
      "8 -1313.1837648749352\n",
      "9 -1095.5500347316265\n",
      "10 -10517.410782694817\n",
      "11 -4510.059874117374\n",
      "12 -6590.766949862242\n",
      "13 -1636.322233557701\n",
      "14 -860.9017847403884\n",
      "15 -628.0747654438019\n",
      "16 -9393.248667001724\n",
      "17 -10175.824758648872\n",
      "18 -9985.523555397987\n",
      "19 -2281.8317324221134\n"
     ]
    }
   ],
   "source": [
    "'''\n",
    "Check whether there are some difference in the regression coefficient sum\n",
    "'''\n",
    "for i in range(len(Model.model.get_regression_coef())):\n",
    "    print(i, sum(Model.model.get_regression_coef()[i]))"
   ]
  },
  {
   "cell_type": "code",
   "execution_count": 13,
   "metadata": {},
   "outputs": [
    {
     "data": {
      "text/plain": [
       "array([-5.96283245e+00, -4.84228516e+00, -4.65203619e+00, -5.81537437e+00,\n",
       "       -3.68868047e+04,  1.20726105e+02, -2.75120926e+00, -4.30867052e+00,\n",
       "       -8.20122147e+00, -1.09877899e+02, -4.66463995e+00, -6.69718075e+00,\n",
       "       -1.71611080e+01, -3.18311381e+00, -1.83578145e+04, -1.67979919e+02],\n",
       "      dtype=float32)"
      ]
     },
     "execution_count": 13,
     "metadata": {},
     "output_type": "execute_result"
    }
   ],
   "source": [
    "Model.model.get_regression_coef(var_id=3)"
   ]
  },
  {
   "cell_type": "code",
   "execution_count": 18,
   "metadata": {},
   "outputs": [
    {
     "data": {
      "text/plain": [
       "array([  -5.8458986, -470.16916  ,   -7.7924094,   -3.0099306,\n",
       "         -5.2282624, -565.54224  ,   31.108414 , -399.84808  ,\n",
       "         -1.2367842,  -13.726552 ,   -4.461956 , -540.00775  ,\n",
       "        -36.306488 ,   -3.616269 ,   -5.0478735,   -2.1048298],\n",
       "      dtype=float32)"
      ]
     },
     "execution_count": 18,
     "metadata": {},
     "output_type": "execute_result"
    }
   ],
   "source": [
    "Model.model.get_regression_coef()[2]"
   ]
  },
  {
   "cell_type": "code",
   "execution_count": 19,
   "metadata": {},
   "outputs": [
    {
     "data": {
      "text/plain": [
       "'b'"
      ]
     },
     "execution_count": 19,
     "metadata": {},
     "output_type": "execute_result"
    }
   ],
   "source": [
    "Model.model.get_var_type(6)"
   ]
  },
  {
   "cell_type": "code",
   "execution_count": 20,
   "metadata": {},
   "outputs": [
    {
     "data": {
      "text/plain": [
       "20"
      ]
     },
     "execution_count": 20,
     "metadata": {},
     "output_type": "execute_result"
    }
   ],
   "source": [
    "Model.model.f"
   ]
  },
  {
   "cell_type": "code",
   "execution_count": 23,
   "metadata": {},
   "outputs": [
    {
     "data": {
      "text/plain": [
       "array(['atheism', 'autos', 'crypt', 'electronics', 'forsale', 'graphics',\n",
       "       'med', 'motorcycles', 'os.ms-windows.misc', 'politics.guns',\n",
       "       'politics.mideast', 'politics.misc', 'religion.christian',\n",
       "       'religion.misc', 'space', 'sport.baseball', 'sport.hockey',\n",
       "       'sys.ibm.pc.hardware', 'sys.mac.hardware', 'windows.x'],\n",
       "      dtype='<U19')"
      ]
     },
     "execution_count": 23,
     "metadata": {},
     "output_type": "execute_result"
    }
   ],
   "source": [
    "np.unique(list(user_labels.values()))"
   ]
  },
  {
   "cell_type": "markdown",
   "metadata": {},
   "source": [
    "### Test sLDA prediction accuracy on unprocessed dataset"
   ]
  },
  {
   "cell_type": "code",
   "execution_count": 24,
   "metadata": {},
   "outputs": [],
   "source": [
    "from sklearn.datasets import fetch_20newsgroups\n",
    "\n",
    "train = fetch_20newsgroups(subset='train')\n",
    "test = fetch_20newsgroups(subset='test')"
   ]
  },
  {
   "cell_type": "code",
   "execution_count": 25,
   "metadata": {},
   "outputs": [
    {
     "data": {
      "text/plain": [
       "array([ 0,  1,  2,  3,  4,  5,  6,  7,  8,  9, 10, 11, 12, 13, 14, 15, 16,\n",
       "       17, 18, 19])"
      ]
     },
     "execution_count": 25,
     "metadata": {},
     "output_type": "execute_result"
    }
   ],
   "source": [
    "np.unique(train.target)"
   ]
  },
  {
   "cell_type": "code",
   "execution_count": 27,
   "metadata": {},
   "outputs": [
    {
     "name": "stdout",
     "output_type": "stream",
     "text": [
      "Iteration: 0\tLog-likelihood: -10.1851959941106\n",
      "Iteration: 500\tLog-likelihood: -8.990684810387462\n",
      "<Basic Info>\n",
      "| SLDAModel (current version: 0.12.4)\n",
      "| 7532 docs, 2093344 words\n",
      "| Total Vocabs: 201144, Used Vocabs: 201144\n",
      "| Entropy of words: 8.52757\n",
      "| Entropy of term-weighted words: 8.52757\n",
      "| Removed Vocabs: <NA>\n",
      "|\n",
      "<Training Info>\n",
      "| Iterations: 1000, Burn-in steps: 0\n",
      "| Optimization Interval: 10\n",
      "| Log-likelihood per word: -8.97208\n",
      "|\n",
      "<Initial Parameters>\n",
      "| tw: TermWeight.ONE\n",
      "| min_cf: 0 (minimum collection frequency of words)\n",
      "| min_df: 0 (minimum document frequency of words)\n",
      "| rm_top: 0 (the number of top words to be removed)\n",
      "| k: 16 (the number of topics between 1 ~ 32767)\n",
      "| vars: binary, binary, binary, binary, binary, binary, binary, binary, binary, binary, binary, binary, binary, binary, binary, binary, binary, binary, binary, binary\n",
      "| alpha: [0.1] (hyperparameter of Dirichlet distribution for document-topic, given as a single `float` in case of symmetric prior and as a list with length `k` of `float` in case of asymmetric prior.)\n",
      "| eta: 0.01 (hyperparameter of Dirichlet distribution for topic-word)\n",
      "| mu: [] (mean of regression coefficients, default value is 0)\n",
      "| nu_sq: [inf inf inf inf inf inf inf inf inf inf inf inf inf inf inf inf inf inf\n",
      " inf inf] (variance of regression coefficients, default value is 1)\n",
      "| glm_param: [] (the parameter for Generalized Linear Model, default value is 1)\n",
      "| trained in version 0.12.4\n",
      "|\n",
      "<Parameters>\n",
      "| alpha (Dirichlet prior on the per-document topic distributions)\n",
      "|  [0.08499099 0.25802314 0.06593581 0.07490139 0.8787852  0.1454923\n",
      "|   0.07725232 0.05489037 0.30266577 0.26302162 0.0425543  0.01144547\n",
      "|   0.05647176 0.04905899 0.06925169 0.08878875]\n",
      "| eta (Dirichlet prior on the per-topic word distribution)\n",
      "|  0.01\n",
      "| regression coefficients of response variables\n",
      "|  #0 (binary): [  -5.679509      3.0408618    -0.9636158    -6.398635     -0.36390775\n",
      "|       -3.5070853   -12.552038   -282.15683      -3.004209    -12.906087\n",
      "|       -5.236324     -5.6039987   -16.366562    -18.754274     -5.0867157\n",
      "|     -116.03703   ]\n",
      "|  #1 (binary): [  -3.7921412   -3.858661    -7.8678575    6.339664    -3.2497556\n",
      "|       -3.1149642 -116.471794    -6.423413    -4.914283    -2.0064979\n",
      "|       -5.7868204   -3.4631767   -4.7346745   -4.992622   -10.024784\n",
      "|       -2.8616216]\n",
      "|  #2 (binary): [-1.3833970e+00 -2.7953134e+00 -1.2360035e+01 -2.1115906e+00\n",
      "|     -4.7846594e-01 -4.3049803e+00 -1.1428837e+01 -9.1321850e+00\n",
      "|     -7.8499627e+00 -3.1641092e+00 -6.1373993e+02 -3.4213548e+00\n",
      "|     -1.6911518e+01 -5.7585144e+01 -1.2204653e+01  6.7249388e-01]\n",
      "|  #3 (binary): [-5.9375191e+00 -5.1097183e+00 -1.0696012e+02 -1.1422612e+01\n",
      "|     -1.0391757e+00 -3.2395558e+00 -1.2740640e+01 -6.7734512e+01\n",
      "|     -2.8364146e+00  2.9659992e-01 -5.7095923e+02 -1.0263561e+01\n",
      "|     -9.3234129e+00 -1.4690456e+01 -8.6671352e+00 -3.6618733e-01]\n",
      "|  #4 (binary): [ -10.182689     -1.3018982  -308.62192     -13.262502     -1.3196744\n",
      "|       -4.530002    -12.066451    -29.69763      -0.63802993    1.3913933\n",
      "|      -46.011227    -10.194441    -10.703088     -9.809066    -27.707981\n",
      "|       -2.651336  ]\n",
      "|  #5 (binary): [  -3.9695392    -6.1028295   -41.322227      4.2886505    -2.939906\n",
      "|       -2.0105112    -9.268726    -10.996299     -9.011868     -3.6113665\n",
      "|     -388.54385      -1.6610909    -8.145418     -1.1848605    -6.0623236\n",
      "|        0.60675824]\n",
      "|  #6 (binary): [  -1.6818904  -10.604916  -264.80457     -8.666062    -6.841075\n",
      "|        4.7255254   -6.5182962   -8.856894    -1.3975726   -0.9179141\n",
      "|       -4.6147294    1.4774736   -7.2080226   -6.021839   -14.212972\n",
      "|       -1.9306762]\n",
      "|  #7 (binary): [ 1.4770169e+01 -6.3463645e+00 -1.1101385e+03 -1.1341673e+01\n",
      "|     -3.3564199e-02 -4.9383841e+00 -1.1748669e+01 -1.1980400e+02\n",
      "|     -1.8094956e+00 -5.6303549e+00 -1.3746315e+01 -1.1520069e+01\n",
      "|     -2.6793724e+01 -7.7639432e+00 -1.0760782e+01 -2.7188235e+03]\n",
      "|  #8 (binary): [-6.4803896e+00 -6.0188460e+00 -3.6676535e+02 -9.2849503e+00\n",
      "|     -3.4051731e+00 -4.2823148e+00 -7.2624268e+01 -4.5685764e+02\n",
      "|      6.1936921e-01 -5.3931227e+00 -1.2927753e+03 -4.0408489e+01\n",
      "|     -3.6861973e+01  6.4318138e+01 -5.0998240e+00 -2.9097473e+03]\n",
      "|  #9 (binary): [-7.6213584e+00 -1.9085846e+00 -2.2077076e+01 -9.3724899e+00\n",
      "|     -5.5364802e-02 -3.4611881e+00 -2.2563612e+01  1.8535054e+00\n",
      "|     -9.6996617e-01 -4.0885310e+00 -2.4263548e+01 -1.0382919e+01\n",
      "|     -1.5112182e+01 -6.8283553e+00 -8.2178268e+00 -1.4470835e+03]\n",
      "|  #10 (binary): [-7.95997143e+00 -5.79553270e+00 -6.69233322e+01 -4.74255037e+00\n",
      "|     -1.90371406e+00 -4.78818655e+00 -1.13148737e+01  4.53297186e+00\n",
      "|      2.65785980e+00 -5.36431837e+00 -1.66707825e+02 -8.19795430e-02\n",
      "|     -1.20018015e+01 -6.45764589e+00 -5.30996943e+00 -1.77061768e+03]\n",
      "|  #11 (binary): [  -4.8964057    -9.214598    -61.112045     -2.4689386     0.39114574\n",
      "|       -4.797688      7.6396465  -371.148       -18.936316     -4.9639654\n",
      "|      -24.504028     -5.580659     -5.8880973    -4.591734     -7.9951344\n",
      "|       -3.4505908 ]\n",
      "|  #12 (binary): [-5.1513309e+00 -2.1258459e+00 -2.2103101e+02 -7.7915974e+00\n",
      "|     -9.8008223e-02 -2.0482855e+00 -1.2458591e+01 -1.2653400e+01\n",
      "|     -6.1159635e+00 -1.5867786e+00 -2.5599858e+02 -1.0134507e+00\n",
      "|     -1.0670761e+01 -3.2378147e+00 -1.1753755e+00 -2.4961915e+00]\n",
      "|  #13 (binary): [   -7.280568      1.8344116   -18.48465      -7.0272098    -2.060678\n",
      "|        -4.13288     -26.612654    -49.996597      3.5613499    -2.8062594\n",
      "|      -186.538       -13.087327      8.181383    -13.617836     -5.998086\n",
      "|     -1239.8428   ]\n",
      "|  #14 (binary): [-13.020471   -6.488476  -75.01291    -2.5612414  -1.4239556  -1.6567584\n",
      "|     -11.088143  -16.264797   -2.601151   -9.672161   -7.221232  -14.817889\n",
      "|     -13.863952  -56.290356   16.96159   -67.84442  ]\n",
      "|  #15 (binary): [-8.2848349e+00 -1.5661060e+01  1.0637782e+01 -5.3195615e+00\n",
      "|     -3.1469572e+00 -4.2851930e+00 -7.6413579e+00 -1.3302938e+01\n",
      "|     -2.3520504e-01 -3.2727783e+00 -9.1973143e+00 -6.9345636e+00\n",
      "|     -7.8847308e+00 -1.9072977e+01 -1.3559183e+01 -1.3588330e+03]\n",
      "|  #16 (binary): [   -8.444044     -2.1685703   -11.42659      -5.9884486    -2.338921\n",
      "|        -3.8338332     3.932318   -137.18803       2.0398664    -4.986247\n",
      "|       -11.916445     -4.3846726    -8.612627     -7.361683    -10.481229\n",
      "|     -1961.5841   ]\n",
      "|  #17 (binary): [-9.9711704e+00 -6.0411625e+00 -1.2731300e+02 -2.0173895e+00\n",
      "|     -4.6550021e+00 -4.6052003e+00 -4.0999516e+01 -1.5365810e+02\n",
      "|     -1.9283717e+00 -4.3062758e+00  7.6568924e+01 -6.6129614e+02\n",
      "|     -7.3013024e+00 -5.1726584e+00 -8.9860016e+01 -3.2708611e+03]\n",
      "|  #18 (binary): [-7.2446957e+00 -1.4393356e+00 -8.7739439e+00 -5.7703524e+00\n",
      "|     -1.7629806e+00 -4.5031729e+00 -2.9303882e-01 -1.8640074e+01\n",
      "|     -1.8599541e-01 -7.6740842e+00 -6.1432161e+00 -1.4512226e+01\n",
      "|      2.6748919e+00 -8.8466179e+01 -7.0342388e+00 -1.7452206e+03]\n",
      "|  #19 (binary): [  -8.95919       0.56964463   -0.5003382    -9.633713     -1.7148817\n",
      "|       -2.8562524    -4.4303665  -106.838585     -2.4265487    -7.6434636\n",
      "|       -6.9969053    -0.7407068   -12.936755    -17.332268     -3.5443697\n",
      "|     -113.792786  ]\n",
      "|\n",
      "<Topics>\n",
      "| #0 (54164) : : the a of and\n",
      "| #1 (106049) : > writes: article >> Re:\n",
      "| #2 (127883) : the of and is to\n",
      "| #3 (99548) : the and of to for\n",
      "| #4 (690002) : the to a is that\n",
      "| #5 (67905) : | * / for Lines:\n",
      "| #6 (89711) : the of to and they\n",
      "| #7 (68550) : 0 1 2 - 3\n",
      "| #8 (227653) : the and was to a\n",
      "| #9 (128185) : I a the From: Subject:\n",
      "| #10 (99409) : the of and in to\n",
      "| #11 (29865) : $ 1 25 $1 $2\n",
      "| #12 (75715) : of and the in to\n",
      "| #13 (40643) : | of Re: and Subject:\n",
      "| #14 (68707) : |> the of and in\n",
      "| #15 (119355) : the to and a I\n",
      "|\n",
      "\n"
     ]
    }
   ],
   "source": [
    "import tomotopy as tp\n",
    "# mdl = tp.LDAModel(k=20)\n",
    "mdl = tp.SLDAModel(k=16, vars=['b' for _ in range(20)], tw = tp.TermWeight.ONE, nu_sq= float('Inf'))\n",
    "\n",
    "for line,label in zip(test.data, test.target):\n",
    "    tgt = [0 for i in range(20)]\n",
    "    tgt[label] = 1\n",
    "    # mdl.add_doc(line.strip().split())\n",
    "    mdl.add_doc(line.strip().split(), y=tgt)\n",
    "\n",
    "for i in range(0, 1000, 10):\n",
    "    mdl.train(10)\n",
    "    if i % 500 == 0:\n",
    "        print('Iteration: {}\\tLog-likelihood: {}'.format(i, mdl.ll_per_word))\n",
    "\n",
    "# for k in range(mdl.k):\n",
    "#     print('Top 10 words of topic #{}'.format(k))\n",
    "#     print(mdl.get_topic_words(k, top_n=10))\n",
    "\n",
    "mdl.summary()"
   ]
  },
  {
   "cell_type": "code",
   "execution_count": 28,
   "metadata": {},
   "outputs": [],
   "source": [
    "'''\n",
    "Let sLDA predict on unprecessed dataset\n",
    "'''\n",
    "raw_counter, raw_predictive_label, raw_test_predictive_label = slda_predict([ele.strip().split() for ele in train.data], [ele.strip().split() for ele in test.data], mdl)"
   ]
  },
  {
   "cell_type": "code",
   "execution_count": 30,
   "metadata": {},
   "outputs": [
    {
     "data": {
      "text/plain": [
       "0.4353013964999116"
      ]
     },
     "execution_count": 30,
     "metadata": {},
     "output_type": "execute_result"
    }
   ],
   "source": [
    "'''\n",
    "sLDA training accuracy\n",
    "'''\n",
    "accuracy_score(train.target, raw_predictive_label)"
   ]
  },
  {
   "cell_type": "code",
   "execution_count": 31,
   "metadata": {},
   "outputs": [
    {
     "data": {
      "text/plain": [
       "0.5667817312798725"
      ]
     },
     "execution_count": 31,
     "metadata": {},
     "output_type": "execute_result"
    }
   ],
   "source": [
    "'''\n",
    "sLDA testing accuracy\n",
    "'''\n",
    "accuracy_score(test.target, raw_test_predictive_label)"
   ]
  },
  {
   "cell_type": "markdown",
   "metadata": {},
   "source": [
    "### Bertopic Model "
   ]
  },
  {
   "cell_type": "code",
   "execution_count": 15,
   "metadata": {},
   "outputs": [
    {
     "name": "stderr",
     "output_type": "stream",
     "text": [
      "/nfshomes/zli12321/micromamba/envs/user_study/lib/python3.9/site-packages/umap/distances.py:1063: NumbaDeprecationWarning: The 'nopython' keyword argument was not supplied to the 'numba.jit' decorator. The implicit default value for this argument is currently False, but it will be changed to True in Numba 0.59.0. See https://numba.readthedocs.io/en/stable/reference/deprecation.html#deprecation-of-object-mode-fall-back-behaviour-when-using-jit for details.\n",
      "  @numba.jit()\n",
      "/nfshomes/zli12321/micromamba/envs/user_study/lib/python3.9/site-packages/umap/distances.py:1071: NumbaDeprecationWarning: The 'nopython' keyword argument was not supplied to the 'numba.jit' decorator. The implicit default value for this argument is currently False, but it will be changed to True in Numba 0.59.0. See https://numba.readthedocs.io/en/stable/reference/deprecation.html#deprecation-of-object-mode-fall-back-behaviour-when-using-jit for details.\n",
      "  @numba.jit()\n",
      "/nfshomes/zli12321/micromamba/envs/user_study/lib/python3.9/site-packages/umap/distances.py:1086: NumbaDeprecationWarning: The 'nopython' keyword argument was not supplied to the 'numba.jit' decorator. The implicit default value for this argument is currently False, but it will be changed to True in Numba 0.59.0. See https://numba.readthedocs.io/en/stable/reference/deprecation.html#deprecation-of-object-mode-fall-back-behaviour-when-using-jit for details.\n",
      "  @numba.jit()\n",
      "/nfshomes/zli12321/micromamba/envs/user_study/lib/python3.9/site-packages/tqdm/auto.py:21: TqdmWarning: IProgress not found. Please update jupyter and ipywidgets. See https://ipywidgets.readthedocs.io/en/stable/user_install.html\n",
      "  from .autonotebook import tqdm as notebook_tqdm\n",
      "/nfshomes/zli12321/micromamba/envs/user_study/lib/python3.9/site-packages/umap/umap_.py:660: NumbaDeprecationWarning: The 'nopython' keyword argument was not supplied to the 'numba.jit' decorator. The implicit default value for this argument is currently False, but it will be changed to True in Numba 0.59.0. See https://numba.readthedocs.io/en/stable/reference/deprecation.html#deprecation-of-object-mode-fall-back-behaviour-when-using-jit for details.\n",
      "  @numba.jit()\n"
     ]
    }
   ],
   "source": [
    "from bertopic import BERTopic\n",
    "from sklearn.datasets import fetch_20newsgroups\n",
    "\n",
    "docs = fetch_20newsgroups(subset='all',  remove=('headers', 'footers', 'quotes'))['data']\n",
    "\n",
    "topic_model = BERTopic(nr_topics=20, top_n_words = 30, calculate_probabilities=True, verbose=True, embedding_model='all-distilroberta-v1')\n"
   ]
  },
  {
   "cell_type": "code",
   "execution_count": 17,
   "metadata": {},
   "outputs": [],
   "source": [
    "y_labels = [-1 for i in range(len(list_of_preprocessed_documents))]  "
   ]
  },
  {
   "cell_type": "code",
   "execution_count": 18,
   "metadata": {},
   "outputs": [
    {
     "name": "stderr",
     "output_type": "stream",
     "text": [
      "Batches: 100%|██████████| 324/324 [00:08<00:00, 38.46it/s] \n",
      "2023-08-08 14:38:47,727 - BERTopic - Transformed documents to Embeddings\n",
      "2023-08-08 14:39:24,874 - BERTopic - Reduced dimensionality\n",
      "2023-08-08 14:39:29,339 - BERTopic - Clustered reduced embeddings\n",
      "2023-08-08 14:39:31,152 - BERTopic - Reduced number of topics from 99 to 20\n"
     ]
    }
   ],
   "source": [
    "topics, probs = topic_model.fit_transform(list_of_preprocessed_documents, y=y_labels)"
   ]
  },
  {
   "cell_type": "code",
   "execution_count": 19,
   "metadata": {},
   "outputs": [
    {
     "data": {
      "text/plain": [
       "array([0.02833728, 0.37075882, 0.01281318, 0.00866021, 0.00810526,\n",
       "       0.05104246, 0.01669256, 0.03562784, 0.03344985, 0.00510101,\n",
       "       0.02656709, 0.01641701, 0.05026322, 0.04662573, 0.02544039,\n",
       "       0.03672484, 0.00223811, 0.00188472, 0.00135317])"
      ]
     },
     "execution_count": 19,
     "metadata": {},
     "output_type": "execute_result"
    }
   ],
   "source": [
    "probs[909]"
   ]
  },
  {
   "cell_type": "code",
   "execution_count": 20,
   "metadata": {},
   "outputs": [
    {
     "data": {
      "text/html": [
       "<div>\n",
       "<style scoped>\n",
       "    .dataframe tbody tr th:only-of-type {\n",
       "        vertical-align: middle;\n",
       "    }\n",
       "\n",
       "    .dataframe tbody tr th {\n",
       "        vertical-align: top;\n",
       "    }\n",
       "\n",
       "    .dataframe thead th {\n",
       "        text-align: right;\n",
       "    }\n",
       "</style>\n",
       "<table border=\"1\" class=\"dataframe\">\n",
       "  <thead>\n",
       "    <tr style=\"text-align: right;\">\n",
       "      <th></th>\n",
       "      <th>Topic</th>\n",
       "      <th>Count</th>\n",
       "      <th>Name</th>\n",
       "      <th>Representation</th>\n",
       "      <th>Representative_Docs</th>\n",
       "    </tr>\n",
       "  </thead>\n",
       "  <tbody>\n",
       "    <tr>\n",
       "      <th>0</th>\n",
       "      <td>-1</td>\n",
       "      <td>4213</td>\n",
       "      <td>-1_say_come_go_want</td>\n",
       "      <td>[say, come, go, want, thing, work, problem, te...</td>\n",
       "      <td>[entire point exactly claim hear eye witness d...</td>\n",
       "    </tr>\n",
       "    <tr>\n",
       "      <th>1</th>\n",
       "      <td>0</td>\n",
       "      <td>1077</td>\n",
       "      <td>0_gun_patient_disease_year</td>\n",
       "      <td>[gun, patient, disease, year, doctor, cause, f...</td>\n",
       "      <td>[believe way thread progress exchange word top...</td>\n",
       "    </tr>\n",
       "    <tr>\n",
       "      <th>2</th>\n",
       "      <td>1</td>\n",
       "      <td>711</td>\n",
       "      <td>1_drive_card_disk_monitor</td>\n",
       "      <td>[drive, card, disk, monitor, driver, problem, ...</td>\n",
       "      <td>[hello folk xl internal tape drive pretty comp...</td>\n",
       "    </tr>\n",
       "    <tr>\n",
       "      <th>3</th>\n",
       "      <td>2</td>\n",
       "      <td>666</td>\n",
       "      <td>2_car_bike_ride_engine</td>\n",
       "      <td>[car, bike, ride, engine, mile, buy, look, dri...</td>\n",
       "      <td>[motorcycle enthusiast motorcycle bluntly suck...</td>\n",
       "    </tr>\n",
       "    <tr>\n",
       "      <th>4</th>\n",
       "      <td>3</td>\n",
       "      <td>639</td>\n",
       "      <td>3_game_team_play_player</td>\n",
       "      <td>[game, team, play, player, year, win, season, ...</td>\n",
       "      <td>[incident agree cross check illegal kind check...</td>\n",
       "    </tr>\n",
       "    <tr>\n",
       "      <th>5</th>\n",
       "      <td>4</td>\n",
       "      <td>574</td>\n",
       "      <td>4_believe_faith_belief_sin</td>\n",
       "      <td>[believe, faith, belief, sin, man, say, mean, ...</td>\n",
       "      <td>[ assuredly grain wheat fall ground die remain...</td>\n",
       "    </tr>\n",
       "    <tr>\n",
       "      <th>6</th>\n",
       "      <td>5</td>\n",
       "      <td>537</td>\n",
       "      <td>5_key_encryption_chip_government</td>\n",
       "      <td>[key, encryption, chip, government, phone, esc...</td>\n",
       "      <td>[note file available anonymous file transfer d...</td>\n",
       "    </tr>\n",
       "    <tr>\n",
       "      <th>7</th>\n",
       "      <td>6</td>\n",
       "      <td>372</td>\n",
       "      <td>6_launch_space_orbit_satellite</td>\n",
       "      <td>[launch, space, orbit, satellite, mission, roc...</td>\n",
       "      <td>[archive space intro modify date   series link...</td>\n",
       "    </tr>\n",
       "    <tr>\n",
       "      <th>8</th>\n",
       "      <td>7</td>\n",
       "      <td>306</td>\n",
       "      <td>7_mail_send_list_address</td>\n",
       "      <td>[mail, send, list, address, request, post, tha...</td>\n",
       "      <td>[person run mail list mail detail mailing list...</td>\n",
       "    </tr>\n",
       "    <tr>\n",
       "      <th>9</th>\n",
       "      <td>8</td>\n",
       "      <td>205</td>\n",
       "      <td>8_point_line_polygon_file</td>\n",
       "      <td>[point, line, polygon, file, colormap, plane, ...</td>\n",
       "      <td>[bad question ref list think bit hard point fi...</td>\n",
       "    </tr>\n",
       "    <tr>\n",
       "      <th>10</th>\n",
       "      <td>9</td>\n",
       "      <td>177</td>\n",
       "      <td>9_israeli_arab_armenian_palestinian</td>\n",
       "      <td>[israeli, arab, armenian, palestinian, peace, ...</td>\n",
       "      <td>[cpr subject question question thankful live h...</td>\n",
       "    </tr>\n",
       "    <tr>\n",
       "      <th>11</th>\n",
       "      <td>10</td>\n",
       "      <td>176</td>\n",
       "      <td>10_sale_sell_offer_shipping</td>\n",
       "      <td>[sale, sell, offer, shipping, interested, tick...</td>\n",
       "      <td>[movie sale with wolf open  good offer buyer p...</td>\n",
       "    </tr>\n",
       "    <tr>\n",
       "      <th>12</th>\n",
       "      <td>11</td>\n",
       "      <td>169</td>\n",
       "      <td>11_file_program_image_entry</td>\n",
       "      <td>[file, program, image, entry, include, availab...</td>\n",
       "      <td>[archive faq part modify  article follow conta...</td>\n",
       "    </tr>\n",
       "    <tr>\n",
       "      <th>13</th>\n",
       "      <td>12</td>\n",
       "      <td>160</td>\n",
       "      <td>12_circuit_battery_ground_voltage</td>\n",
       "      <td>[circuit, battery, ground, voltage, output, cu...</td>\n",
       "      <td>[new scope think save buck buy function genera...</td>\n",
       "    </tr>\n",
       "    <tr>\n",
       "      <th>14</th>\n",
       "      <td>13</td>\n",
       "      <td>132</td>\n",
       "      <td>13_lib_key_xterm_error</td>\n",
       "      <td>[lib, key, xterm, error, undefined, file, xr, ...</td>\n",
       "      <td>[host host have big problem try build xr  bund...</td>\n",
       "    </tr>\n",
       "    <tr>\n",
       "      <th>15</th>\n",
       "      <td>14</td>\n",
       "      <td>113</td>\n",
       "      <td>14_font_printer_print_ink</td>\n",
       "      <td>[font, printer, print, ink, character, laser, ...</td>\n",
       "      <td>[common problem highly complex font admit prob...</td>\n",
       "    </tr>\n",
       "    <tr>\n",
       "      <th>16</th>\n",
       "      <td>15</td>\n",
       "      <td>69</td>\n",
       "      <td>15_window_widget_icon_manager</td>\n",
       "      <td>[window, widget, icon, manager, event, applica...</td>\n",
       "      <td>[work window base application need override wi...</td>\n",
       "    </tr>\n",
       "    <tr>\n",
       "      <th>17</th>\n",
       "      <td>16</td>\n",
       "      <td>21</td>\n",
       "      <td>16_delete_stuff_post_merchant</td>\n",
       "      <td>[delete, stuff, post, merchant, happy, find, w...</td>\n",
       "      <td>[stuff delete announce senator franchise, stuf...</td>\n",
       "    </tr>\n",
       "    <tr>\n",
       "      <th>18</th>\n",
       "      <td>17</td>\n",
       "      <td>17</td>\n",
       "      <td>17_mv_ww_mt_wt</td>\n",
       "      <td>[mv, ww, mt, wt, uww, www, maxaxaxaxaxaxaxaxax...</td>\n",
       "      <td>[nrizwtimfqaxaxaxaxaxax gpqfb m maaaaalgr enfy...</td>\n",
       "    </tr>\n",
       "    <tr>\n",
       "      <th>19</th>\n",
       "      <td>18</td>\n",
       "      <td>13</td>\n",
       "      <td>18_jewish_pitcher_finger_ballplayer</td>\n",
       "      <td>[jewish, pitcher, finger, ballplayer, major, p...</td>\n",
       "      <td>[believe jewish ball player early th century p...</td>\n",
       "    </tr>\n",
       "  </tbody>\n",
       "</table>\n",
       "</div>"
      ],
      "text/plain": [
       "    Topic  Count                                 Name  \\\n",
       "0      -1   4213                  -1_say_come_go_want   \n",
       "1       0   1077           0_gun_patient_disease_year   \n",
       "2       1    711            1_drive_card_disk_monitor   \n",
       "3       2    666               2_car_bike_ride_engine   \n",
       "4       3    639              3_game_team_play_player   \n",
       "5       4    574           4_believe_faith_belief_sin   \n",
       "6       5    537     5_key_encryption_chip_government   \n",
       "7       6    372       6_launch_space_orbit_satellite   \n",
       "8       7    306             7_mail_send_list_address   \n",
       "9       8    205            8_point_line_polygon_file   \n",
       "10      9    177  9_israeli_arab_armenian_palestinian   \n",
       "11     10    176          10_sale_sell_offer_shipping   \n",
       "12     11    169          11_file_program_image_entry   \n",
       "13     12    160    12_circuit_battery_ground_voltage   \n",
       "14     13    132               13_lib_key_xterm_error   \n",
       "15     14    113            14_font_printer_print_ink   \n",
       "16     15     69        15_window_widget_icon_manager   \n",
       "17     16     21        16_delete_stuff_post_merchant   \n",
       "18     17     17                       17_mv_ww_mt_wt   \n",
       "19     18     13  18_jewish_pitcher_finger_ballplayer   \n",
       "\n",
       "                                       Representation  \\\n",
       "0   [say, come, go, want, thing, work, problem, te...   \n",
       "1   [gun, patient, disease, year, doctor, cause, f...   \n",
       "2   [drive, card, disk, monitor, driver, problem, ...   \n",
       "3   [car, bike, ride, engine, mile, buy, look, dri...   \n",
       "4   [game, team, play, player, year, win, season, ...   \n",
       "5   [believe, faith, belief, sin, man, say, mean, ...   \n",
       "6   [key, encryption, chip, government, phone, esc...   \n",
       "7   [launch, space, orbit, satellite, mission, roc...   \n",
       "8   [mail, send, list, address, request, post, tha...   \n",
       "9   [point, line, polygon, file, colormap, plane, ...   \n",
       "10  [israeli, arab, armenian, palestinian, peace, ...   \n",
       "11  [sale, sell, offer, shipping, interested, tick...   \n",
       "12  [file, program, image, entry, include, availab...   \n",
       "13  [circuit, battery, ground, voltage, output, cu...   \n",
       "14  [lib, key, xterm, error, undefined, file, xr, ...   \n",
       "15  [font, printer, print, ink, character, laser, ...   \n",
       "16  [window, widget, icon, manager, event, applica...   \n",
       "17  [delete, stuff, post, merchant, happy, find, w...   \n",
       "18  [mv, ww, mt, wt, uww, www, maxaxaxaxaxaxaxaxax...   \n",
       "19  [jewish, pitcher, finger, ballplayer, major, p...   \n",
       "\n",
       "                                  Representative_Docs  \n",
       "0   [entire point exactly claim hear eye witness d...  \n",
       "1   [believe way thread progress exchange word top...  \n",
       "2   [hello folk xl internal tape drive pretty comp...  \n",
       "3   [motorcycle enthusiast motorcycle bluntly suck...  \n",
       "4   [incident agree cross check illegal kind check...  \n",
       "5   [ assuredly grain wheat fall ground die remain...  \n",
       "6   [note file available anonymous file transfer d...  \n",
       "7   [archive space intro modify date   series link...  \n",
       "8   [person run mail list mail detail mailing list...  \n",
       "9   [bad question ref list think bit hard point fi...  \n",
       "10  [cpr subject question question thankful live h...  \n",
       "11  [movie sale with wolf open  good offer buyer p...  \n",
       "12  [archive faq part modify  article follow conta...  \n",
       "13  [new scope think save buck buy function genera...  \n",
       "14  [host host have big problem try build xr  bund...  \n",
       "15  [common problem highly complex font admit prob...  \n",
       "16  [work window base application need override wi...  \n",
       "17  [stuff delete announce senator franchise, stuf...  \n",
       "18  [nrizwtimfqaxaxaxaxaxax gpqfb m maaaaalgr enfy...  \n",
       "19  [believe jewish ball player early th century p...  "
      ]
     },
     "execution_count": 20,
     "metadata": {},
     "output_type": "execute_result"
    }
   ],
   "source": [
    "topic_model.get_topic_info()"
   ]
  },
  {
   "cell_type": "code",
   "execution_count": 21,
   "metadata": {},
   "outputs": [
    {
     "name": "stderr",
     "output_type": "stream",
     "text": [
      "100%|██████████| 11/11 [00:07<00:00,  1.50it/s]\n"
     ]
    }
   ],
   "source": [
    "topic_distr, _ = topic_model.approximate_distribution(list_of_preprocessed_documents)"
   ]
  },
  {
   "cell_type": "code",
   "execution_count": 22,
   "metadata": {},
   "outputs": [
    {
     "data": {
      "text/plain": [
       "(10347, 19)"
      ]
     },
     "execution_count": 22,
     "metadata": {},
     "output_type": "execute_result"
    }
   ],
   "source": [
    "topic_distr.shape"
   ]
  },
  {
   "cell_type": "code",
   "execution_count": 23,
   "metadata": {},
   "outputs": [
    {
     "data": {
      "text/plain": [
       "array([0.        , 0.43592104, 0.01193062, 0.        , 0.        ,\n",
       "       0.00572662, 0.        , 0.04349114, 0.        , 0.        ,\n",
       "       0.4544945 , 0.0134909 , 0.03494518, 0.        , 0.        ,\n",
       "       0.        , 0.        , 0.        , 0.        ])"
      ]
     },
     "execution_count": 23,
     "metadata": {},
     "output_type": "execute_result"
    }
   ],
   "source": [
    "topic_distr[1960]"
   ]
  },
  {
   "cell_type": "code",
   "execution_count": 24,
   "metadata": {},
   "outputs": [
    {
     "data": {
      "text/plain": [
       "{'Main': [('gun', 0.018608386835689935),\n",
       "  ('patient', 0.01743275333799233),\n",
       "  ('disease', 0.01290044194610203),\n",
       "  ('year', 0.012726293250272806),\n",
       "  ('doctor', 0.012682641452660296),\n",
       "  ('cause', 0.01251456182586965),\n",
       "  ('food', 0.012296402645355276),\n",
       "  ('case', 0.011933622537441721),\n",
       "  ('pain', 0.010590655261799727),\n",
       "  ('government', 0.010284915441536353),\n",
       "  ('say', 0.01026404033893175),\n",
       "  ('study', 0.010171841044794775),\n",
       "  ('day', 0.010021503092837898),\n",
       "  ('drug', 0.00998470869034499),\n",
       "  ('find', 0.009657294249058266),\n",
       "  ('treatment', 0.009504535282748357),\n",
       "  ('thing', 0.009314463948016004),\n",
       "  ('right', 0.009213916793178973),\n",
       "  ('health', 0.009210106562463802),\n",
       "  ('medical', 0.009198581628137494),\n",
       "  ('law', 0.008988594683375283),\n",
       "  ('get', 0.008799588741669983),\n",
       "  ('report', 0.008673746003080195),\n",
       "  ('problem', 0.008484690462858066),\n",
       "  ('increase', 0.00847513716292813),\n",
       "  ('effect', 0.008428104256636842),\n",
       "  ('state', 0.008397951380458847),\n",
       "  ('child', 0.008340615348941642),\n",
       "  ('weapon', 0.008280017842773256),\n",
       "  ('go', 0.00818615738969413)]}"
      ]
     },
     "execution_count": 24,
     "metadata": {},
     "output_type": "execute_result"
    }
   ],
   "source": [
    "topic_model.get_topic(0, full = True)"
   ]
  },
  {
   "cell_type": "code",
   "execution_count": 17,
   "metadata": {},
   "outputs": [
    {
     "data": {
      "text/plain": [
       "'lotsa stuff take line process serve peaceful attempt serve warrant occur'"
      ]
     },
     "execution_count": 17,
     "metadata": {},
     "output_type": "execute_result"
    }
   ],
   "source": [
    "list_of_preprocessed_documents[1]"
   ]
  },
  {
   "cell_type": "code",
   "execution_count": 18,
   "metadata": {},
   "outputs": [
    {
     "data": {
      "text/html": [
       "<div>\n",
       "<style scoped>\n",
       "    .dataframe tbody tr th:only-of-type {\n",
       "        vertical-align: middle;\n",
       "    }\n",
       "\n",
       "    .dataframe tbody tr th {\n",
       "        vertical-align: top;\n",
       "    }\n",
       "\n",
       "    .dataframe thead th {\n",
       "        text-align: right;\n",
       "    }\n",
       "</style>\n",
       "<table border=\"1\" class=\"dataframe\">\n",
       "  <thead>\n",
       "    <tr style=\"text-align: right;\">\n",
       "      <th></th>\n",
       "      <th>Document</th>\n",
       "      <th>Topic</th>\n",
       "      <th>Name</th>\n",
       "      <th>Representation</th>\n",
       "      <th>Representative_Docs</th>\n",
       "      <th>Top_n_words</th>\n",
       "      <th>Probability</th>\n",
       "      <th>Representative_document</th>\n",
       "    </tr>\n",
       "  </thead>\n",
       "  <tbody>\n",
       "    <tr>\n",
       "      <th>0</th>\n",
       "      <td>lotsa stuff take line process serve peaceful a...</td>\n",
       "      <td>-1</td>\n",
       "      <td>-1_work_problem_want_thing</td>\n",
       "      <td>[work, problem, want, thing, car, find, try, n...</td>\n",
       "      <td>[sixteen day test drive finally th rain fact c...</td>\n",
       "      <td>work - problem - want - thing - car - find - t...</td>\n",
       "      <td>0.643380</td>\n",
       "      <td>False</td>\n",
       "    </tr>\n",
       "    <tr>\n",
       "      <th>1</th>\n",
       "      <td>lotsa stuff take line process serve peaceful a...</td>\n",
       "      <td>-1</td>\n",
       "      <td>-1_work_problem_want_thing</td>\n",
       "      <td>[work, problem, want, thing, car, find, try, n...</td>\n",
       "      <td>[sixteen day test drive finally th rain fact c...</td>\n",
       "      <td>work - problem - want - thing - car - find - t...</td>\n",
       "      <td>0.830507</td>\n",
       "      <td>False</td>\n",
       "    </tr>\n",
       "    <tr>\n",
       "      <th>2</th>\n",
       "      <td>lotsa stuff take line process serve peaceful a...</td>\n",
       "      <td>-1</td>\n",
       "      <td>-1_work_problem_want_thing</td>\n",
       "      <td>[work, problem, want, thing, car, find, try, n...</td>\n",
       "      <td>[sixteen day test drive finally th rain fact c...</td>\n",
       "      <td>work - problem - want - thing - car - find - t...</td>\n",
       "      <td>0.293723</td>\n",
       "      <td>False</td>\n",
       "    </tr>\n",
       "    <tr>\n",
       "      <th>3</th>\n",
       "      <td>lotsa stuff take line process serve peaceful a...</td>\n",
       "      <td>1</td>\n",
       "      <td>1_game_team_play_player</td>\n",
       "      <td>[game, team, play, player, season, year, win, ...</td>\n",
       "      <td>[team beat team night show night dominate thor...</td>\n",
       "      <td>game - team - play - player - season - year - ...</td>\n",
       "      <td>0.179136</td>\n",
       "      <td>False</td>\n",
       "    </tr>\n",
       "    <tr>\n",
       "      <th>4</th>\n",
       "      <td>lotsa stuff take line process serve peaceful a...</td>\n",
       "      <td>-1</td>\n",
       "      <td>-1_work_problem_want_thing</td>\n",
       "      <td>[work, problem, want, thing, car, find, try, n...</td>\n",
       "      <td>[sixteen day test drive finally th rain fact c...</td>\n",
       "      <td>work - problem - want - thing - car - find - t...</td>\n",
       "      <td>0.270575</td>\n",
       "      <td>False</td>\n",
       "    </tr>\n",
       "    <tr>\n",
       "      <th>...</th>\n",
       "      <td>...</td>\n",
       "      <td>...</td>\n",
       "      <td>...</td>\n",
       "      <td>...</td>\n",
       "      <td>...</td>\n",
       "      <td>...</td>\n",
       "      <td>...</td>\n",
       "      <td>...</td>\n",
       "    </tr>\n",
       "    <tr>\n",
       "      <th>10641</th>\n",
       "      <td>lotsa stuff take line process serve peaceful a...</td>\n",
       "      <td>0</td>\n",
       "      <td>0_believe_say_gun_thing</td>\n",
       "      <td>[believe, say, gun, thing, come, patient, find...</td>\n",
       "      <td>[actually conflict understand passage faith st...</td>\n",
       "      <td>believe - say - gun - thing - come - patient -...</td>\n",
       "      <td>0.505005</td>\n",
       "      <td>False</td>\n",
       "    </tr>\n",
       "    <tr>\n",
       "      <th>10642</th>\n",
       "      <td>lotsa stuff take line process serve peaceful a...</td>\n",
       "      <td>-1</td>\n",
       "      <td>-1_work_problem_want_thing</td>\n",
       "      <td>[work, problem, want, thing, car, find, try, n...</td>\n",
       "      <td>[sixteen day test drive finally th rain fact c...</td>\n",
       "      <td>work - problem - want - thing - car - find - t...</td>\n",
       "      <td>0.386419</td>\n",
       "      <td>False</td>\n",
       "    </tr>\n",
       "    <tr>\n",
       "      <th>10643</th>\n",
       "      <td>lotsa stuff take line process serve peaceful a...</td>\n",
       "      <td>-1</td>\n",
       "      <td>-1_work_problem_want_thing</td>\n",
       "      <td>[work, problem, want, thing, car, find, try, n...</td>\n",
       "      <td>[sixteen day test drive finally th rain fact c...</td>\n",
       "      <td>work - problem - want - thing - car - find - t...</td>\n",
       "      <td>0.664208</td>\n",
       "      <td>False</td>\n",
       "    </tr>\n",
       "    <tr>\n",
       "      <th>10644</th>\n",
       "      <td>lotsa stuff take line process serve peaceful a...</td>\n",
       "      <td>8</td>\n",
       "      <td>8_point_color_line_polygon</td>\n",
       "      <td>[point, color, line, polygon, file, graphic, c...</td>\n",
       "      <td>[hi write program convert dxf file database fo...</td>\n",
       "      <td>point - color - line - polygon - file - graphi...</td>\n",
       "      <td>1.000000</td>\n",
       "      <td>False</td>\n",
       "    </tr>\n",
       "    <tr>\n",
       "      <th>10645</th>\n",
       "      <td>lotsa stuff take line process serve peaceful a...</td>\n",
       "      <td>-1</td>\n",
       "      <td>-1_work_problem_want_thing</td>\n",
       "      <td>[work, problem, want, thing, car, find, try, n...</td>\n",
       "      <td>[sixteen day test drive finally th rain fact c...</td>\n",
       "      <td>work - problem - want - thing - car - find - t...</td>\n",
       "      <td>0.607352</td>\n",
       "      <td>False</td>\n",
       "    </tr>\n",
       "  </tbody>\n",
       "</table>\n",
       "<p>10646 rows × 8 columns</p>\n",
       "</div>"
      ],
      "text/plain": [
       "                                                Document  Topic  \\\n",
       "0      lotsa stuff take line process serve peaceful a...     -1   \n",
       "1      lotsa stuff take line process serve peaceful a...     -1   \n",
       "2      lotsa stuff take line process serve peaceful a...     -1   \n",
       "3      lotsa stuff take line process serve peaceful a...      1   \n",
       "4      lotsa stuff take line process serve peaceful a...     -1   \n",
       "...                                                  ...    ...   \n",
       "10641  lotsa stuff take line process serve peaceful a...      0   \n",
       "10642  lotsa stuff take line process serve peaceful a...     -1   \n",
       "10643  lotsa stuff take line process serve peaceful a...     -1   \n",
       "10644  lotsa stuff take line process serve peaceful a...      8   \n",
       "10645  lotsa stuff take line process serve peaceful a...     -1   \n",
       "\n",
       "                             Name  \\\n",
       "0      -1_work_problem_want_thing   \n",
       "1      -1_work_problem_want_thing   \n",
       "2      -1_work_problem_want_thing   \n",
       "3         1_game_team_play_player   \n",
       "4      -1_work_problem_want_thing   \n",
       "...                           ...   \n",
       "10641     0_believe_say_gun_thing   \n",
       "10642  -1_work_problem_want_thing   \n",
       "10643  -1_work_problem_want_thing   \n",
       "10644  8_point_color_line_polygon   \n",
       "10645  -1_work_problem_want_thing   \n",
       "\n",
       "                                          Representation  \\\n",
       "0      [work, problem, want, thing, car, find, try, n...   \n",
       "1      [work, problem, want, thing, car, find, try, n...   \n",
       "2      [work, problem, want, thing, car, find, try, n...   \n",
       "3      [game, team, play, player, season, year, win, ...   \n",
       "4      [work, problem, want, thing, car, find, try, n...   \n",
       "...                                                  ...   \n",
       "10641  [believe, say, gun, thing, come, patient, find...   \n",
       "10642  [work, problem, want, thing, car, find, try, n...   \n",
       "10643  [work, problem, want, thing, car, find, try, n...   \n",
       "10644  [point, color, line, polygon, file, graphic, c...   \n",
       "10645  [work, problem, want, thing, car, find, try, n...   \n",
       "\n",
       "                                     Representative_Docs  \\\n",
       "0      [sixteen day test drive finally th rain fact c...   \n",
       "1      [sixteen day test drive finally th rain fact c...   \n",
       "2      [sixteen day test drive finally th rain fact c...   \n",
       "3      [team beat team night show night dominate thor...   \n",
       "4      [sixteen day test drive finally th rain fact c...   \n",
       "...                                                  ...   \n",
       "10641  [actually conflict understand passage faith st...   \n",
       "10642  [sixteen day test drive finally th rain fact c...   \n",
       "10643  [sixteen day test drive finally th rain fact c...   \n",
       "10644  [hi write program convert dxf file database fo...   \n",
       "10645  [sixteen day test drive finally th rain fact c...   \n",
       "\n",
       "                                             Top_n_words  Probability  \\\n",
       "0      work - problem - want - thing - car - find - t...     0.643380   \n",
       "1      work - problem - want - thing - car - find - t...     0.830507   \n",
       "2      work - problem - want - thing - car - find - t...     0.293723   \n",
       "3      game - team - play - player - season - year - ...     0.179136   \n",
       "4      work - problem - want - thing - car - find - t...     0.270575   \n",
       "...                                                  ...          ...   \n",
       "10641  believe - say - gun - thing - come - patient -...     0.505005   \n",
       "10642  work - problem - want - thing - car - find - t...     0.386419   \n",
       "10643  work - problem - want - thing - car - find - t...     0.664208   \n",
       "10644  point - color - line - polygon - file - graphi...     1.000000   \n",
       "10645  work - problem - want - thing - car - find - t...     0.607352   \n",
       "\n",
       "       Representative_document  \n",
       "0                        False  \n",
       "1                        False  \n",
       "2                        False  \n",
       "3                        False  \n",
       "4                        False  \n",
       "...                        ...  \n",
       "10641                    False  \n",
       "10642                    False  \n",
       "10643                    False  \n",
       "10644                    False  \n",
       "10645                    False  \n",
       "\n",
       "[10646 rows x 8 columns]"
      ]
     },
     "execution_count": 18,
     "metadata": {},
     "output_type": "execute_result"
    }
   ],
   "source": [
    "topic_model.get_document_info(list_of_preprocessed_documents[1])"
   ]
  },
  {
   "cell_type": "code",
   "execution_count": 19,
   "metadata": {},
   "outputs": [
    {
     "data": {
      "text/plain": [
       "[('delete', 0.20144164566745362),\n",
       " ('stuff', 0.08488888874596974),\n",
       " ('bobbevice', 0.07717434713296814),\n",
       " ('sink', 0.06448111832319289),\n",
       " ('sea', 0.06396901877052559),\n",
       " ('blow', 0.05352661557768844),\n",
       " ('stay', 0.04887674039410372),\n",
       " ('post', 0.04793612956060226),\n",
       " ('away', 0.04762020184234488),\n",
       " ('go', 0.04052875319395337),\n",
       " ('oh', 0.039213749229049646),\n",
       " ('sig', 0.03496994287783963),\n",
       " ('say', 0.03455796287898625),\n",
       " ('get', 0.03441626116735986),\n",
       " ('way', 0.033202785488326524),\n",
       " ('answer', 0.03175012306633117),\n",
       " ('shameless', 0.030344650893960396),\n",
       " ('guess', 0.029329205130954536),\n",
       " ('to', 0.029145421713633057),\n",
       " ('let', 0.028765852925775624),\n",
       " ('woofing', 0.028479543140855556),\n",
       " ('bring', 0.02828374428319642),\n",
       " ('find', 0.0281381185740009),\n",
       " ('ask', 0.02794590634256966),\n",
       " ('add', 0.026981985275913244),\n",
       " ('holiday', 0.026416635456545247),\n",
       " ('mean', 0.02639013804925574),\n",
       " ('hell', 0.026213026980475278),\n",
       " ('merchant', 0.026169701597624297),\n",
       " ('happy', 0.025861281297846882)]"
      ]
     },
     "execution_count": 19,
     "metadata": {},
     "output_type": "execute_result"
    }
   ],
   "source": [
    "similar_topics, similarity = topic_model.find_topics(\"money\", top_n=20)\n",
    "topic_model.get_topic(similar_topics[0])"
   ]
  }
 ],
 "metadata": {
  "kernelspec": {
   "display_name": "Python 3",
   "language": "python",
   "name": "python3"
  },
  "language_info": {
   "codemirror_mode": {
    "name": "ipython",
    "version": 3
   },
   "file_extension": ".py",
   "mimetype": "text/x-python",
   "name": "python",
   "nbconvert_exporter": "python",
   "pygments_lexer": "ipython3",
   "version": "3.9.16"
  },
  "orig_nbformat": 4
 },
 "nbformat": 4,
 "nbformat_minor": 2
}
