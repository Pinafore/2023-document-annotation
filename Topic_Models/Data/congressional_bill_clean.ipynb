{
 "cells": [
  {
   "cell_type": "code",
   "execution_count": 1,
   "metadata": {},
   "outputs": [],
   "source": [
    "import pandas as pd\n",
    "import numpy as np"
   ]
  },
  {
   "cell_type": "code",
   "execution_count": 2,
   "metadata": {},
   "outputs": [
    {
     "data": {
      "text/plain": [
       "9608"
      ]
     },
     "execution_count": 2,
     "metadata": {},
     "output_type": "execute_result"
    }
   ],
   "source": [
    "congressional_df = pd.read_json('./original_congressional_bill_train.json')\n",
    "len(congressional_df)"
   ]
  },
  {
   "cell_type": "code",
   "execution_count": 3,
   "metadata": {},
   "outputs": [
    {
     "data": {
      "text/plain": [
       "9608"
      ]
     },
     "execution_count": 3,
     "metadata": {},
     "output_type": "execute_result"
    }
   ],
   "source": [
    "len(np.unique(congressional_df.sub_labels.values.tolist()))\n",
    "\n",
    "'''\n",
    "Only select those topics that are in public interest\n",
    "'''\n",
    "selected_labels = ['Macroeconomics', \"Health\", \"Agriculture\", \"Labor and Employment\", \"Education\", \"Environment\",  \"Transportation\", \"Public Lands and Water Management\", \"Banking, Finance, and Domestic Commerce\"]\n",
    "texts = congressional_df.text.values.tolist()\n",
    "labels = congressional_df.label.values.tolist()\n",
    "sub_labels = congressional_df.sub_labels.values.tolist()\n",
    "text_lst, label_lst, sub_lst = [], [], []\n",
    "\n",
    "count = 0\n",
    "for i, ele in enumerate(labels):\n",
    "    if ele in selected_labels:\n",
    "        # print(i)\n",
    "        count += 1\n",
    "        text_lst.append(texts[i])\n",
    "        label_lst.append(labels[i])\n",
    "        sub_lst.append(sub_labels[i])\n",
    "\n",
    "count"
   ]
  },
  {
   "cell_type": "code",
   "execution_count": 4,
   "metadata": {},
   "outputs": [
    {
     "data": {
      "text/plain": [
       "9608"
      ]
     },
     "execution_count": 4,
     "metadata": {},
     "output_type": "execute_result"
    }
   ],
   "source": [
    "len(labels)"
   ]
  },
  {
   "cell_type": "code",
   "execution_count": 43,
   "metadata": {},
   "outputs": [
    {
     "data": {
      "text/plain": [
       "81"
      ]
     },
     "execution_count": 43,
     "metadata": {},
     "output_type": "execute_result"
    }
   ],
   "source": [
    "len(np.unique(sub_lst))"
   ]
  },
  {
   "cell_type": "code",
   "execution_count": 44,
   "metadata": {},
   "outputs": [],
   "source": [
    "'''\n",
    "Save the file to a train file used for topic modeling\n",
    "'''\n",
    "result = {}\n",
    "result['text'] = {}\n",
    "result['label'] = {}\n",
    "result['sub_labels'] = {}\n",
    "\n",
    "for i in range(len(text_lst)):\n",
    "    result['text'][str(i)] = text_lst[i]\n",
    "    result['label'][str(i)] = label_lst[i]\n",
    "    result['sub_labels'][str(i)] = sub_lst[i]\n",
    "\n"
   ]
  },
  {
   "cell_type": "code",
   "execution_count": 38,
   "metadata": {},
   "outputs": [],
   "source": [
    "'save the data'\n",
    "import json\n",
    "with open(\"./congressional_bill_test.json\", \"w\") as outfile:\n",
    "    json.dump(result, outfile)"
   ]
  }
 ],
 "metadata": {
  "kernelspec": {
   "display_name": "Python 3",
   "language": "python",
   "name": "python3"
  },
  "language_info": {
   "codemirror_mode": {
    "name": "ipython",
    "version": 3
   },
   "file_extension": ".py",
   "mimetype": "text/x-python",
   "name": "python",
   "nbconvert_exporter": "python",
   "pygments_lexer": "ipython3",
   "version": "3.9.16"
  },
  "orig_nbformat": 4
 },
 "nbformat": 4,
 "nbformat_minor": 2
}
